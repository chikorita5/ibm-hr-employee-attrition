{
 "cells": [
  {
   "cell_type": "code",
   "execution_count": 87,
   "metadata": {},
   "outputs": [
    {
     "data": {
      "text/html": [
       "        <script type=\"text/javascript\">\n",
       "        window.PlotlyConfig = {MathJaxConfig: 'local'};\n",
       "        if (window.MathJax) {MathJax.Hub.Config({SVG: {font: \"STIX-Web\"}});}\n",
       "        if (typeof require !== 'undefined') {\n",
       "        require.undef(\"plotly\");\n",
       "        requirejs.config({\n",
       "            paths: {\n",
       "                'plotly': ['https://cdn.plot.ly/plotly-latest.min']\n",
       "            }\n",
       "        });\n",
       "        require(['plotly'], function(Plotly) {\n",
       "            window._Plotly = Plotly;\n",
       "        });\n",
       "        }\n",
       "        </script>\n",
       "        "
      ]
     },
     "metadata": {},
     "output_type": "display_data"
    }
   ],
   "source": [
    "import pandas_profiling\n",
    "import numpy as np\n",
    "import pandas as pd\n",
    "import seaborn as sns\n",
    "\n",
    "import matplotlib.pyplot as plt\n",
    "import plotly.offline as py\n",
    "py.init_notebook_mode(connected=True)\n",
    "import plotly.graph_objs as go\n",
    "import plotly.subplots as sbl\n",
    "from sklearn.tree import export_graphviz\n",
    "import graphviz\n",
    "\n",
    "from sklearn.preprocessing import (LabelEncoder, StandardScaler)\n",
    "from scipy.stats import ttest_ind\n",
    "from sklearn import tree\n",
    "from sklearn.ensemble import RandomForestClassifier, GradientBoostingClassifier\n",
    "from sklearn.metrics import (accuracy_score, log_loss, classification_report, confusion_matrix, \n",
    "precision_score, roc_auc_score, recall_score, roc_curve, precision_recall_curve)\n"
   ]
  },
  {
   "cell_type": "code",
   "execution_count": 23,
   "metadata": {},
   "outputs": [
    {
     "data": {
      "text/plain": [
       "(2466, 21)"
      ]
     },
     "execution_count": 23,
     "metadata": {},
     "output_type": "execute_result"
    }
   ],
   "source": [
    "employees = pd.read_csv('HR-Attrition-upsampled-cleaned.csv')\n",
    "employees.shape"
   ]
  },
  {
   "cell_type": "code",
   "execution_count": 24,
   "metadata": {},
   "outputs": [
    {
     "data": {
      "text/html": [
       "<div>\n",
       "<style scoped>\n",
       "    .dataframe tbody tr th:only-of-type {\n",
       "        vertical-align: middle;\n",
       "    }\n",
       "\n",
       "    .dataframe tbody tr th {\n",
       "        vertical-align: top;\n",
       "    }\n",
       "\n",
       "    .dataframe thead th {\n",
       "        text-align: right;\n",
       "    }\n",
       "</style>\n",
       "<table border=\"1\" class=\"dataframe\">\n",
       "  <thead>\n",
       "    <tr style=\"text-align: right;\">\n",
       "      <th></th>\n",
       "      <th>Age</th>\n",
       "      <th>Attrition</th>\n",
       "      <th>BusinessTravel</th>\n",
       "      <th>Department</th>\n",
       "      <th>DistanceFromHome</th>\n",
       "      <th>Education</th>\n",
       "      <th>EducationField</th>\n",
       "      <th>EnvironmentSatisfaction</th>\n",
       "      <th>Gender</th>\n",
       "      <th>JobInvolvement</th>\n",
       "      <th>...</th>\n",
       "      <th>MaritalStatus</th>\n",
       "      <th>MonthlyIncome</th>\n",
       "      <th>NumCompaniesWorked</th>\n",
       "      <th>OverTime</th>\n",
       "      <th>PercentSalaryHike</th>\n",
       "      <th>RelationshipSatisfaction</th>\n",
       "      <th>StockOptionLevel</th>\n",
       "      <th>TrainingTimesLastYear</th>\n",
       "      <th>WorkLifeBalance</th>\n",
       "      <th>YearsAtCompany</th>\n",
       "    </tr>\n",
       "  </thead>\n",
       "  <tbody>\n",
       "    <tr>\n",
       "      <td>0</td>\n",
       "      <td>49</td>\n",
       "      <td>No</td>\n",
       "      <td>Travel_Frequently</td>\n",
       "      <td>Research &amp; Development</td>\n",
       "      <td>8</td>\n",
       "      <td>1</td>\n",
       "      <td>Life Sciences</td>\n",
       "      <td>3</td>\n",
       "      <td>Male</td>\n",
       "      <td>2</td>\n",
       "      <td>...</td>\n",
       "      <td>Married</td>\n",
       "      <td>5130</td>\n",
       "      <td>1</td>\n",
       "      <td>No</td>\n",
       "      <td>23</td>\n",
       "      <td>4</td>\n",
       "      <td>1</td>\n",
       "      <td>3</td>\n",
       "      <td>3</td>\n",
       "      <td>10</td>\n",
       "    </tr>\n",
       "    <tr>\n",
       "      <td>1</td>\n",
       "      <td>33</td>\n",
       "      <td>No</td>\n",
       "      <td>Travel_Frequently</td>\n",
       "      <td>Research &amp; Development</td>\n",
       "      <td>3</td>\n",
       "      <td>4</td>\n",
       "      <td>Life Sciences</td>\n",
       "      <td>4</td>\n",
       "      <td>Female</td>\n",
       "      <td>3</td>\n",
       "      <td>...</td>\n",
       "      <td>Married</td>\n",
       "      <td>2909</td>\n",
       "      <td>1</td>\n",
       "      <td>Yes</td>\n",
       "      <td>11</td>\n",
       "      <td>3</td>\n",
       "      <td>0</td>\n",
       "      <td>3</td>\n",
       "      <td>3</td>\n",
       "      <td>8</td>\n",
       "    </tr>\n",
       "    <tr>\n",
       "      <td>2</td>\n",
       "      <td>27</td>\n",
       "      <td>No</td>\n",
       "      <td>Travel_Rarely</td>\n",
       "      <td>Research &amp; Development</td>\n",
       "      <td>2</td>\n",
       "      <td>1</td>\n",
       "      <td>Medical</td>\n",
       "      <td>1</td>\n",
       "      <td>Male</td>\n",
       "      <td>3</td>\n",
       "      <td>...</td>\n",
       "      <td>Married</td>\n",
       "      <td>3468</td>\n",
       "      <td>9</td>\n",
       "      <td>No</td>\n",
       "      <td>12</td>\n",
       "      <td>4</td>\n",
       "      <td>1</td>\n",
       "      <td>3</td>\n",
       "      <td>3</td>\n",
       "      <td>2</td>\n",
       "    </tr>\n",
       "    <tr>\n",
       "      <td>3</td>\n",
       "      <td>32</td>\n",
       "      <td>No</td>\n",
       "      <td>Travel_Frequently</td>\n",
       "      <td>Research &amp; Development</td>\n",
       "      <td>2</td>\n",
       "      <td>2</td>\n",
       "      <td>Life Sciences</td>\n",
       "      <td>4</td>\n",
       "      <td>Male</td>\n",
       "      <td>3</td>\n",
       "      <td>...</td>\n",
       "      <td>Single</td>\n",
       "      <td>3068</td>\n",
       "      <td>0</td>\n",
       "      <td>No</td>\n",
       "      <td>13</td>\n",
       "      <td>3</td>\n",
       "      <td>0</td>\n",
       "      <td>2</td>\n",
       "      <td>2</td>\n",
       "      <td>7</td>\n",
       "    </tr>\n",
       "    <tr>\n",
       "      <td>4</td>\n",
       "      <td>59</td>\n",
       "      <td>No</td>\n",
       "      <td>Travel_Rarely</td>\n",
       "      <td>Research &amp; Development</td>\n",
       "      <td>3</td>\n",
       "      <td>3</td>\n",
       "      <td>Medical</td>\n",
       "      <td>3</td>\n",
       "      <td>Female</td>\n",
       "      <td>4</td>\n",
       "      <td>...</td>\n",
       "      <td>Married</td>\n",
       "      <td>2670</td>\n",
       "      <td>4</td>\n",
       "      <td>Yes</td>\n",
       "      <td>20</td>\n",
       "      <td>1</td>\n",
       "      <td>3</td>\n",
       "      <td>3</td>\n",
       "      <td>2</td>\n",
       "      <td>1</td>\n",
       "    </tr>\n",
       "  </tbody>\n",
       "</table>\n",
       "<p>5 rows × 21 columns</p>\n",
       "</div>"
      ],
      "text/plain": [
       "   Age Attrition     BusinessTravel              Department  DistanceFromHome  \\\n",
       "0   49        No  Travel_Frequently  Research & Development                 8   \n",
       "1   33        No  Travel_Frequently  Research & Development                 3   \n",
       "2   27        No      Travel_Rarely  Research & Development                 2   \n",
       "3   32        No  Travel_Frequently  Research & Development                 2   \n",
       "4   59        No      Travel_Rarely  Research & Development                 3   \n",
       "\n",
       "   Education EducationField  EnvironmentSatisfaction  Gender  JobInvolvement  \\\n",
       "0          1  Life Sciences                        3    Male               2   \n",
       "1          4  Life Sciences                        4  Female               3   \n",
       "2          1        Medical                        1    Male               3   \n",
       "3          2  Life Sciences                        4    Male               3   \n",
       "4          3        Medical                        3  Female               4   \n",
       "\n",
       "   ...  MaritalStatus MonthlyIncome  NumCompaniesWorked  OverTime  \\\n",
       "0  ...        Married          5130                   1        No   \n",
       "1  ...        Married          2909                   1       Yes   \n",
       "2  ...        Married          3468                   9        No   \n",
       "3  ...         Single          3068                   0        No   \n",
       "4  ...        Married          2670                   4       Yes   \n",
       "\n",
       "  PercentSalaryHike  RelationshipSatisfaction  StockOptionLevel  \\\n",
       "0                23                         4                 1   \n",
       "1                11                         3                 0   \n",
       "2                12                         4                 1   \n",
       "3                13                         3                 0   \n",
       "4                20                         1                 3   \n",
       "\n",
       "   TrainingTimesLastYear  WorkLifeBalance  YearsAtCompany  \n",
       "0                      3                3              10  \n",
       "1                      3                3               8  \n",
       "2                      3                3               2  \n",
       "3                      2                2               7  \n",
       "4                      3                2               1  \n",
       "\n",
       "[5 rows x 21 columns]"
      ]
     },
     "execution_count": 24,
     "metadata": {},
     "output_type": "execute_result"
    }
   ],
   "source": [
    "employees.head()"
   ]
  },
  {
   "cell_type": "markdown",
   "metadata": {},
   "source": [
    "# EDA"
   ]
  },
  {
   "cell_type": "code",
   "execution_count": 25,
   "metadata": {},
   "outputs": [
    {
     "data": {
      "image/png": "[encoded data removed]",
      "text/plain": [
       "<Figure size 720x576 with 1 Axes>"
      ]
     },
     "metadata": {
      "needs_background": "light"
     },
     "output_type": "display_data"
    }
   ],
   "source": [
    "plt.figure(figsize=(10,8))\n",
    "ax = sns.countplot(x=\"RelationshipSatisfaction\", hue='Attrition', data=employees)"
   ]
  },
  {
   "cell_type": "markdown",
   "metadata": {},
   "source": [
    "People with low relationship satisfaction have high attrition."
   ]
  },
  {
   "cell_type": "code",
   "execution_count": 26,
   "metadata": {},
   "outputs": [
    {
     "data": {
      "image/png": "[encoded data removed]",
      "text/plain": [
       "<Figure size 720x576 with 1 Axes>"
      ]
     },
     "metadata": {
      "needs_background": "light"
     },
     "output_type": "display_data"
    }
   ],
   "source": [
    "plt.figure(figsize=(10,8))\n",
    "ax = sns.countplot(x=\"BusinessTravel\", hue='Attrition', data=employees)"
   ]
  },
  {
   "cell_type": "markdown",
   "metadata": {},
   "source": [
    "Employees who travel more frequently are more likely to attrite."
   ]
  },
  {
   "cell_type": "code",
   "execution_count": 33,
   "metadata": {},
   "outputs": [
    {
     "name": "stdout",
     "output_type": "stream",
     "text": [
      "Average job involevemtn rating for employees who leave: 2.5255474452554743\n",
      "Average job involevemtn rating for employees who stay: 2.770478507704785\n"
     ]
    },
    {
     "data": {
      "text/plain": [
       "Ttest_indResult(statistic=-8.380667996408349, pvalue=8.721810959875347e-17)"
      ]
     },
     "execution_count": 33,
     "metadata": {},
     "output_type": "execute_result"
    }
   ],
   "source": [
    "# Let's do a t-test to check the job involvement average for employees who will leave and those who stay\n",
    "employees.groupby(['JobInvolvement', 'Attrition'])['Attrition'].agg('count')\n",
    "\n",
    "\n",
    "leave = employees[employees['Attrition']=='Yes']\n",
    "stay = employees[employees['Attrition']=='No']\n",
    "\n",
    "print(\"Average job involevemtn rating for employees who leave: \" + str(leave['JobInvolvement'].mean()))\n",
    "print(\"Average job involevemtn rating for employees who stay: \" + str(stay['JobInvolvement'].mean()))\n",
    "\n",
    "ttest_ind(leave['JobInvolvement'], stay['JobInvolvement'])"
   ]
  },
  {
   "cell_type": "markdown",
   "metadata": {},
   "source": [
    "Employees who stay have high job involvement rating and the difference is statistically significant."
   ]
  },
  {
   "cell_type": "markdown",
   "metadata": {},
   "source": [
    "# Variable transformation"
   ]
  },
  {
   "cell_type": "code",
   "execution_count": 35,
   "metadata": {},
   "outputs": [],
   "source": [
    "def transform(row):\n",
    "    if row['PercentSalaryHike'] < 15:\n",
    "        val = 'Yes'\n",
    "    else:\n",
    "        val = 'No'\n",
    "    return val\n",
    "\n",
    "employees['low_percentage_hike'] = employees.apply(transform, axis=1)\n",
    "employees = employees.drop('PercentSalaryHike', axis=1)"
   ]
  },
  {
   "cell_type": "code",
   "execution_count": 36,
   "metadata": {},
   "outputs": [],
   "source": [
    "def transform_relation_sat(row):\n",
    "    if row['RelationshipSatisfaction'] == 1:\n",
    "        val = 'Yes'\n",
    "    else:\n",
    "        val = 'No'\n",
    "    return val\n",
    "\n",
    "employees['low_relationship_satisfaction'] = employees.apply(transform_relation_sat, axis=1)\n",
    "employees = employees.drop('RelationshipSatisfaction', axis=1)"
   ]
  },
  {
   "cell_type": "code",
   "execution_count": 37,
   "metadata": {},
   "outputs": [],
   "source": [
    "def transform_business_travel(row):\n",
    "    if row['BusinessTravel'] == 'Travel_Frequently':\n",
    "        val = 'Yes'\n",
    "    else:\n",
    "        val = 'No'\n",
    "    return val\n",
    "\n",
    "employees['frequent_travel'] = employees.apply(transform_business_travel, axis=1)\n",
    "employees = employees.drop('BusinessTravel', axis=1)"
   ]
  },
  {
   "cell_type": "code",
   "execution_count": 38,
   "metadata": {},
   "outputs": [],
   "source": [
    "def transform_job_involve(row):\n",
    "    if row['JobInvolvement'] == 1:\n",
    "        val = 'Yes'\n",
    "    else:\n",
    "        val = 'No'\n",
    "    return val\n",
    "\n",
    "employees['low_job_involvement'] = employees.apply(transform_job_involve, axis=1)\n",
    "employees = employees.drop('JobInvolvement', axis=1)"
   ]
  },
  {
   "cell_type": "code",
   "execution_count": 39,
   "metadata": {},
   "outputs": [],
   "source": [
    "def transform_wl_balance(row):\n",
    "    if row['WorkLifeBalance'] == 1:\n",
    "        val = 'Yes'\n",
    "    else:\n",
    "        val = 'No'\n",
    "    return val\n",
    "\n",
    "employees['low_worklife_balance'] = employees.apply(transform_wl_balance, axis=1)\n",
    "employees = employees.drop('WorkLifeBalance', axis=1)"
   ]
  },
  {
   "cell_type": "code",
   "execution_count": 40,
   "metadata": {},
   "outputs": [
    {
     "name": "stdout",
     "output_type": "stream",
     "text": [
      "<class 'pandas.core.frame.DataFrame'>\n",
      "RangeIndex: 2466 entries, 0 to 2465\n",
      "Data columns (total 21 columns):\n",
      "Age                              2466 non-null int64\n",
      "Attrition                        2466 non-null object\n",
      "Department                       2466 non-null object\n",
      "DistanceFromHome                 2466 non-null int64\n",
      "Education                        2466 non-null int64\n",
      "EducationField                   2466 non-null object\n",
      "EnvironmentSatisfaction          2466 non-null int64\n",
      "Gender                           2466 non-null object\n",
      "JobSatisfaction                  2466 non-null int64\n",
      "MaritalStatus                    2466 non-null object\n",
      "MonthlyIncome                    2466 non-null int64\n",
      "NumCompaniesWorked               2466 non-null int64\n",
      "OverTime                         2466 non-null object\n",
      "StockOptionLevel                 2466 non-null int64\n",
      "TrainingTimesLastYear            2466 non-null int64\n",
      "YearsAtCompany                   2466 non-null int64\n",
      "low_percentage_hike              2466 non-null object\n",
      "low_relationship_satisfaction    2466 non-null object\n",
      "frequent_travel                  2466 non-null object\n",
      "low_job_involvement              2466 non-null object\n",
      "low_worklife_balance             2466 non-null object\n",
      "dtypes: int64(10), object(11)\n",
      "memory usage: 404.7+ KB\n"
     ]
    }
   ],
   "source": [
    "employees.info()"
   ]
  },
  {
   "cell_type": "code",
   "execution_count": 41,
   "metadata": {},
   "outputs": [
    {
     "data": {
      "text/plain": [
       "Index(['Age', 'DistanceFromHome', 'MonthlyIncome', 'NumCompaniesWorked',\n",
       "       'TrainingTimesLastYear', 'YearsAtCompany'],\n",
       "      dtype='object')"
      ]
     },
     "execution_count": 41,
     "metadata": {},
     "output_type": "execute_result"
    }
   ],
   "source": [
    "df_num = employees[['Age', 'DistanceFromHome', 'MonthlyIncome', 'NumCompaniesWorked', \n",
    "                    'TrainingTimesLastYear', 'YearsAtCompany']]\n",
    "df_num.columns"
   ]
  },
  {
   "cell_type": "code",
   "execution_count": 42,
   "metadata": {},
   "outputs": [
    {
     "data": {
      "text/html": [
       "<div>\n",
       "<style scoped>\n",
       "    .dataframe tbody tr th:only-of-type {\n",
       "        vertical-align: middle;\n",
       "    }\n",
       "\n",
       "    .dataframe tbody tr th {\n",
       "        vertical-align: top;\n",
       "    }\n",
       "\n",
       "    .dataframe thead th {\n",
       "        text-align: right;\n",
       "    }\n",
       "</style>\n",
       "<table border=\"1\" class=\"dataframe\">\n",
       "  <thead>\n",
       "    <tr style=\"text-align: right;\">\n",
       "      <th></th>\n",
       "      <th>Department</th>\n",
       "      <th>Education</th>\n",
       "      <th>EducationField</th>\n",
       "      <th>EnvironmentSatisfaction</th>\n",
       "      <th>Gender</th>\n",
       "      <th>JobSatisfaction</th>\n",
       "      <th>MaritalStatus</th>\n",
       "      <th>OverTime</th>\n",
       "      <th>StockOptionLevel</th>\n",
       "      <th>low_percentage_hike</th>\n",
       "      <th>low_relationship_satisfaction</th>\n",
       "      <th>frequent_travel</th>\n",
       "      <th>low_job_involvement</th>\n",
       "      <th>low_worklife_balance</th>\n",
       "    </tr>\n",
       "  </thead>\n",
       "  <tbody>\n",
       "    <tr>\n",
       "      <td>0</td>\n",
       "      <td>Research &amp; Development</td>\n",
       "      <td>1</td>\n",
       "      <td>Life Sciences</td>\n",
       "      <td>3</td>\n",
       "      <td>Male</td>\n",
       "      <td>2</td>\n",
       "      <td>Married</td>\n",
       "      <td>No</td>\n",
       "      <td>1</td>\n",
       "      <td>No</td>\n",
       "      <td>No</td>\n",
       "      <td>Yes</td>\n",
       "      <td>No</td>\n",
       "      <td>No</td>\n",
       "    </tr>\n",
       "    <tr>\n",
       "      <td>1</td>\n",
       "      <td>Research &amp; Development</td>\n",
       "      <td>4</td>\n",
       "      <td>Life Sciences</td>\n",
       "      <td>4</td>\n",
       "      <td>Female</td>\n",
       "      <td>3</td>\n",
       "      <td>Married</td>\n",
       "      <td>Yes</td>\n",
       "      <td>0</td>\n",
       "      <td>Yes</td>\n",
       "      <td>No</td>\n",
       "      <td>Yes</td>\n",
       "      <td>No</td>\n",
       "      <td>No</td>\n",
       "    </tr>\n",
       "    <tr>\n",
       "      <td>2</td>\n",
       "      <td>Research &amp; Development</td>\n",
       "      <td>1</td>\n",
       "      <td>Medical</td>\n",
       "      <td>1</td>\n",
       "      <td>Male</td>\n",
       "      <td>2</td>\n",
       "      <td>Married</td>\n",
       "      <td>No</td>\n",
       "      <td>1</td>\n",
       "      <td>Yes</td>\n",
       "      <td>No</td>\n",
       "      <td>No</td>\n",
       "      <td>No</td>\n",
       "      <td>No</td>\n",
       "    </tr>\n",
       "    <tr>\n",
       "      <td>3</td>\n",
       "      <td>Research &amp; Development</td>\n",
       "      <td>2</td>\n",
       "      <td>Life Sciences</td>\n",
       "      <td>4</td>\n",
       "      <td>Male</td>\n",
       "      <td>4</td>\n",
       "      <td>Single</td>\n",
       "      <td>No</td>\n",
       "      <td>0</td>\n",
       "      <td>Yes</td>\n",
       "      <td>No</td>\n",
       "      <td>Yes</td>\n",
       "      <td>No</td>\n",
       "      <td>No</td>\n",
       "    </tr>\n",
       "    <tr>\n",
       "      <td>4</td>\n",
       "      <td>Research &amp; Development</td>\n",
       "      <td>3</td>\n",
       "      <td>Medical</td>\n",
       "      <td>3</td>\n",
       "      <td>Female</td>\n",
       "      <td>1</td>\n",
       "      <td>Married</td>\n",
       "      <td>Yes</td>\n",
       "      <td>3</td>\n",
       "      <td>No</td>\n",
       "      <td>Yes</td>\n",
       "      <td>No</td>\n",
       "      <td>No</td>\n",
       "      <td>No</td>\n",
       "    </tr>\n",
       "  </tbody>\n",
       "</table>\n",
       "</div>"
      ],
      "text/plain": [
       "               Department  Education EducationField  EnvironmentSatisfaction  \\\n",
       "0  Research & Development          1  Life Sciences                        3   \n",
       "1  Research & Development          4  Life Sciences                        4   \n",
       "2  Research & Development          1        Medical                        1   \n",
       "3  Research & Development          2  Life Sciences                        4   \n",
       "4  Research & Development          3        Medical                        3   \n",
       "\n",
       "   Gender  JobSatisfaction MaritalStatus OverTime  StockOptionLevel  \\\n",
       "0    Male                2       Married       No                 1   \n",
       "1  Female                3       Married      Yes                 0   \n",
       "2    Male                2       Married       No                 1   \n",
       "3    Male                4        Single       No                 0   \n",
       "4  Female                1       Married      Yes                 3   \n",
       "\n",
       "  low_percentage_hike low_relationship_satisfaction frequent_travel  \\\n",
       "0                  No                            No             Yes   \n",
       "1                 Yes                            No             Yes   \n",
       "2                 Yes                            No              No   \n",
       "3                 Yes                            No             Yes   \n",
       "4                  No                           Yes              No   \n",
       "\n",
       "  low_job_involvement low_worklife_balance  \n",
       "0                  No                   No  \n",
       "1                  No                   No  \n",
       "2                  No                   No  \n",
       "3                  No                   No  \n",
       "4                  No                   No  "
      ]
     },
     "execution_count": 42,
     "metadata": {},
     "output_type": "execute_result"
    }
   ],
   "source": [
    "categorical = [col for col in employees.columns if col not in df_num.columns]\n",
    "\n",
    "attrition_cat = employees[categorical]\n",
    "attrition_cat = attrition_cat.drop(['Attrition'], axis=1)\n",
    "attrition_cat.head()"
   ]
  },
  {
   "cell_type": "markdown",
   "metadata": {},
   "source": [
    "Label encoding for categorical variables"
   ]
  },
  {
   "cell_type": "code",
   "execution_count": 43,
   "metadata": {},
   "outputs": [
    {
     "data": {
      "text/html": [
       "<div>\n",
       "<style scoped>\n",
       "    .dataframe tbody tr th:only-of-type {\n",
       "        vertical-align: middle;\n",
       "    }\n",
       "\n",
       "    .dataframe tbody tr th {\n",
       "        vertical-align: top;\n",
       "    }\n",
       "\n",
       "    .dataframe thead th {\n",
       "        text-align: right;\n",
       "    }\n",
       "</style>\n",
       "<table border=\"1\" class=\"dataframe\">\n",
       "  <thead>\n",
       "    <tr style=\"text-align: right;\">\n",
       "      <th></th>\n",
       "      <th>Department</th>\n",
       "      <th>Education</th>\n",
       "      <th>EducationField</th>\n",
       "      <th>EnvironmentSatisfaction</th>\n",
       "      <th>Gender</th>\n",
       "      <th>JobSatisfaction</th>\n",
       "      <th>MaritalStatus</th>\n",
       "      <th>OverTime</th>\n",
       "      <th>StockOptionLevel</th>\n",
       "      <th>low_percentage_hike</th>\n",
       "      <th>low_relationship_satisfaction</th>\n",
       "      <th>frequent_travel</th>\n",
       "      <th>low_job_involvement</th>\n",
       "      <th>low_worklife_balance</th>\n",
       "    </tr>\n",
       "  </thead>\n",
       "  <tbody>\n",
       "    <tr>\n",
       "      <td>0</td>\n",
       "      <td>1</td>\n",
       "      <td>1</td>\n",
       "      <td>1</td>\n",
       "      <td>3</td>\n",
       "      <td>1</td>\n",
       "      <td>2</td>\n",
       "      <td>1</td>\n",
       "      <td>0</td>\n",
       "      <td>1</td>\n",
       "      <td>0</td>\n",
       "      <td>0</td>\n",
       "      <td>1</td>\n",
       "      <td>0</td>\n",
       "      <td>0</td>\n",
       "    </tr>\n",
       "    <tr>\n",
       "      <td>1</td>\n",
       "      <td>1</td>\n",
       "      <td>4</td>\n",
       "      <td>1</td>\n",
       "      <td>4</td>\n",
       "      <td>0</td>\n",
       "      <td>3</td>\n",
       "      <td>1</td>\n",
       "      <td>1</td>\n",
       "      <td>0</td>\n",
       "      <td>1</td>\n",
       "      <td>0</td>\n",
       "      <td>1</td>\n",
       "      <td>0</td>\n",
       "      <td>0</td>\n",
       "    </tr>\n",
       "    <tr>\n",
       "      <td>2</td>\n",
       "      <td>1</td>\n",
       "      <td>1</td>\n",
       "      <td>3</td>\n",
       "      <td>1</td>\n",
       "      <td>1</td>\n",
       "      <td>2</td>\n",
       "      <td>1</td>\n",
       "      <td>0</td>\n",
       "      <td>1</td>\n",
       "      <td>1</td>\n",
       "      <td>0</td>\n",
       "      <td>0</td>\n",
       "      <td>0</td>\n",
       "      <td>0</td>\n",
       "    </tr>\n",
       "    <tr>\n",
       "      <td>3</td>\n",
       "      <td>1</td>\n",
       "      <td>2</td>\n",
       "      <td>1</td>\n",
       "      <td>4</td>\n",
       "      <td>1</td>\n",
       "      <td>4</td>\n",
       "      <td>2</td>\n",
       "      <td>0</td>\n",
       "      <td>0</td>\n",
       "      <td>1</td>\n",
       "      <td>0</td>\n",
       "      <td>1</td>\n",
       "      <td>0</td>\n",
       "      <td>0</td>\n",
       "    </tr>\n",
       "    <tr>\n",
       "      <td>4</td>\n",
       "      <td>1</td>\n",
       "      <td>3</td>\n",
       "      <td>3</td>\n",
       "      <td>3</td>\n",
       "      <td>0</td>\n",
       "      <td>1</td>\n",
       "      <td>1</td>\n",
       "      <td>1</td>\n",
       "      <td>3</td>\n",
       "      <td>0</td>\n",
       "      <td>1</td>\n",
       "      <td>0</td>\n",
       "      <td>0</td>\n",
       "      <td>0</td>\n",
       "    </tr>\n",
       "  </tbody>\n",
       "</table>\n",
       "</div>"
      ],
      "text/plain": [
       "   Department  Education  EducationField  EnvironmentSatisfaction  Gender  \\\n",
       "0           1          1               1                        3       1   \n",
       "1           1          4               1                        4       0   \n",
       "2           1          1               3                        1       1   \n",
       "3           1          2               1                        4       1   \n",
       "4           1          3               3                        3       0   \n",
       "\n",
       "   JobSatisfaction  MaritalStatus  OverTime  StockOptionLevel  \\\n",
       "0                2              1         0                 1   \n",
       "1                3              1         1                 0   \n",
       "2                2              1         0                 1   \n",
       "3                4              2         0                 0   \n",
       "4                1              1         1                 3   \n",
       "\n",
       "   low_percentage_hike  low_relationship_satisfaction  frequent_travel  \\\n",
       "0                    0                              0                1   \n",
       "1                    1                              0                1   \n",
       "2                    1                              0                0   \n",
       "3                    1                              0                1   \n",
       "4                    0                              1                0   \n",
       "\n",
       "   low_job_involvement  low_worklife_balance  \n",
       "0                    0                     0  \n",
       "1                    0                     0  \n",
       "2                    0                     0  \n",
       "3                    0                     0  \n",
       "4                    0                     0  "
      ]
     },
     "execution_count": 43,
     "metadata": {},
     "output_type": "execute_result"
    }
   ],
   "source": [
    "labelencoder = LabelEncoder()\n",
    "\n",
    "attrition_cat['Department'] = labelencoder.fit_transform(attrition_cat['Department'])\n",
    "attrition_cat['EducationField'] = labelencoder.fit_transform(attrition_cat['EducationField'])\n",
    "attrition_cat['Gender'] = labelencoder.fit_transform(attrition_cat['Gender'])\n",
    "attrition_cat['MaritalStatus'] = labelencoder.fit_transform(attrition_cat['MaritalStatus'])\n",
    "attrition_cat['OverTime'] = labelencoder.fit_transform(attrition_cat['OverTime'])\n",
    "attrition_cat['low_percentage_hike'] = labelencoder.fit_transform(attrition_cat['low_percentage_hike'])\n",
    "attrition_cat['low_relationship_satisfaction'] = labelencoder.fit_transform(attrition_cat['low_relationship_satisfaction'])\n",
    "attrition_cat['frequent_travel'] = labelencoder.fit_transform(attrition_cat['frequent_travel'])\n",
    "attrition_cat['low_job_involvement'] = labelencoder.fit_transform(attrition_cat['low_job_involvement'])\n",
    "attrition_cat['low_worklife_balance'] = labelencoder.fit_transform(attrition_cat['low_worklife_balance'])\n",
    "\n",
    "attrition_cat.head()"
   ]
  },
  {
   "cell_type": "code",
   "execution_count": 44,
   "metadata": {},
   "outputs": [
    {
     "name": "stdout",
     "output_type": "stream",
     "text": [
      "Department: category\n",
      "Education: category\n",
      "EducationField: category\n",
      "EnvironmentSatisfaction: category\n",
      "Gender: category\n",
      "JobSatisfaction: category\n",
      "MaritalStatus: category\n",
      "OverTime: category\n",
      "StockOptionLevel: category\n",
      "low_percentage_hike: category\n",
      "low_relationship_satisfaction: category\n",
      "frequent_travel: category\n",
      "low_job_involvement: category\n",
      "low_worklife_balance: category\n"
     ]
    }
   ],
   "source": [
    "for col in attrition_cat.columns:\n",
    "    \n",
    "    if attrition_cat[col].dtypes==int:\n",
    "        attrition_cat[col] = attrition_cat[col].astype('category')\n",
    "    print(str(col)+ \": \" + str(attrition_cat[col].dtypes))"
   ]
  },
  {
   "cell_type": "code",
   "execution_count": 45,
   "metadata": {},
   "outputs": [
    {
     "name": "stdout",
     "output_type": "stream",
     "text": [
      "<class 'pandas.core.frame.DataFrame'>\n",
      "RangeIndex: 2466 entries, 0 to 2465\n",
      "Data columns (total 43 columns):\n",
      "Department_0                       2466 non-null uint8\n",
      "Department_1                       2466 non-null uint8\n",
      "Department_2                       2466 non-null uint8\n",
      "Education_1                        2466 non-null uint8\n",
      "Education_2                        2466 non-null uint8\n",
      "Education_3                        2466 non-null uint8\n",
      "Education_4                        2466 non-null uint8\n",
      "Education_5                        2466 non-null uint8\n",
      "EducationField_0                   2466 non-null uint8\n",
      "EducationField_1                   2466 non-null uint8\n",
      "EducationField_2                   2466 non-null uint8\n",
      "EducationField_3                   2466 non-null uint8\n",
      "EducationField_4                   2466 non-null uint8\n",
      "EducationField_5                   2466 non-null uint8\n",
      "EnvironmentSatisfaction_1          2466 non-null uint8\n",
      "EnvironmentSatisfaction_2          2466 non-null uint8\n",
      "EnvironmentSatisfaction_3          2466 non-null uint8\n",
      "EnvironmentSatisfaction_4          2466 non-null uint8\n",
      "Gender_0                           2466 non-null uint8\n",
      "Gender_1                           2466 non-null uint8\n",
      "JobSatisfaction_1                  2466 non-null uint8\n",
      "JobSatisfaction_2                  2466 non-null uint8\n",
      "JobSatisfaction_3                  2466 non-null uint8\n",
      "JobSatisfaction_4                  2466 non-null uint8\n",
      "MaritalStatus_0                    2466 non-null uint8\n",
      "MaritalStatus_1                    2466 non-null uint8\n",
      "MaritalStatus_2                    2466 non-null uint8\n",
      "OverTime_0                         2466 non-null uint8\n",
      "OverTime_1                         2466 non-null uint8\n",
      "StockOptionLevel_0                 2466 non-null uint8\n",
      "StockOptionLevel_1                 2466 non-null uint8\n",
      "StockOptionLevel_2                 2466 non-null uint8\n",
      "StockOptionLevel_3                 2466 non-null uint8\n",
      "low_percentage_hike_0              2466 non-null uint8\n",
      "low_percentage_hike_1              2466 non-null uint8\n",
      "low_relationship_satisfaction_0    2466 non-null uint8\n",
      "low_relationship_satisfaction_1    2466 non-null uint8\n",
      "frequent_travel_0                  2466 non-null uint8\n",
      "frequent_travel_1                  2466 non-null uint8\n",
      "low_job_involvement_0              2466 non-null uint8\n",
      "low_job_involvement_1              2466 non-null uint8\n",
      "low_worklife_balance_0             2466 non-null uint8\n",
      "low_worklife_balance_1             2466 non-null uint8\n",
      "dtypes: uint8(43)\n",
      "memory usage: 103.7 KB\n"
     ]
    }
   ],
   "source": [
    "attrition_cat_dummy = pd.get_dummies(attrition_cat) # creating dummy variables for categorical variables\n",
    "attrition_cat_dummy.info()"
   ]
  },
  {
   "cell_type": "code",
   "execution_count": 47,
   "metadata": {},
   "outputs": [
    {
     "data": {
      "text/plain": [
       "array([[ 1.42370004, -0.20901457, -0.16131462, -0.68976239,  0.19849996,\n",
       "         0.58668886],\n",
       "       [-0.2588468 , -0.8124212 , -0.66234239, -0.68976239,  0.19849996,\n",
       "         0.26822645],\n",
       "       [-0.88980187, -0.93310252, -0.5362395 ,  2.37778323,  0.19849996,\n",
       "        -0.68716078],\n",
       "       ...,\n",
       "       [-0.99496104,  0.87711735, -0.70024093, -1.07320559, -0.59101762,\n",
       "         0.10899524],\n",
       "       [-0.04852844,  0.51507338, -0.47420319, -0.68976239, -0.59101762,\n",
       "        -0.36869837],\n",
       "       [-1.83623447, -0.8124212 , -0.96462839, -0.68976239, -0.59101762,\n",
       "        -1.00562318]])"
      ]
     },
     "execution_count": 47,
     "metadata": {},
     "output_type": "execute_result"
    }
   ],
   "source": [
    "scaled_features = StandardScaler().fit_transform(df_num.values) # scaling the features\n",
    "scaled_features"
   ]
  },
  {
   "cell_type": "code",
   "execution_count": 48,
   "metadata": {},
   "outputs": [
    {
     "data": {
      "text/html": [
       "<div>\n",
       "<style scoped>\n",
       "    .dataframe tbody tr th:only-of-type {\n",
       "        vertical-align: middle;\n",
       "    }\n",
       "\n",
       "    .dataframe tbody tr th {\n",
       "        vertical-align: top;\n",
       "    }\n",
       "\n",
       "    .dataframe thead th {\n",
       "        text-align: right;\n",
       "    }\n",
       "</style>\n",
       "<table border=\"1\" class=\"dataframe\">\n",
       "  <thead>\n",
       "    <tr style=\"text-align: right;\">\n",
       "      <th></th>\n",
       "      <th>Age</th>\n",
       "      <th>DistanceFromHome</th>\n",
       "      <th>MonthlyIncome</th>\n",
       "      <th>NumCompaniesWorked</th>\n",
       "      <th>TrainingTimesLastYear</th>\n",
       "      <th>YearsAtCompany</th>\n",
       "    </tr>\n",
       "  </thead>\n",
       "  <tbody>\n",
       "    <tr>\n",
       "      <td>0</td>\n",
       "      <td>1.423700</td>\n",
       "      <td>-0.209015</td>\n",
       "      <td>-0.161315</td>\n",
       "      <td>-0.689762</td>\n",
       "      <td>0.198500</td>\n",
       "      <td>0.586689</td>\n",
       "    </tr>\n",
       "    <tr>\n",
       "      <td>1</td>\n",
       "      <td>-0.258847</td>\n",
       "      <td>-0.812421</td>\n",
       "      <td>-0.662342</td>\n",
       "      <td>-0.689762</td>\n",
       "      <td>0.198500</td>\n",
       "      <td>0.268226</td>\n",
       "    </tr>\n",
       "    <tr>\n",
       "      <td>2</td>\n",
       "      <td>-0.889802</td>\n",
       "      <td>-0.933103</td>\n",
       "      <td>-0.536239</td>\n",
       "      <td>2.377783</td>\n",
       "      <td>0.198500</td>\n",
       "      <td>-0.687161</td>\n",
       "    </tr>\n",
       "    <tr>\n",
       "      <td>3</td>\n",
       "      <td>-0.364006</td>\n",
       "      <td>-0.933103</td>\n",
       "      <td>-0.626474</td>\n",
       "      <td>-1.073206</td>\n",
       "      <td>-0.591018</td>\n",
       "      <td>0.108995</td>\n",
       "    </tr>\n",
       "    <tr>\n",
       "      <td>4</td>\n",
       "      <td>2.475292</td>\n",
       "      <td>-0.812421</td>\n",
       "      <td>-0.716258</td>\n",
       "      <td>0.460567</td>\n",
       "      <td>0.198500</td>\n",
       "      <td>-0.846392</td>\n",
       "    </tr>\n",
       "  </tbody>\n",
       "</table>\n",
       "</div>"
      ],
      "text/plain": [
       "        Age  DistanceFromHome  MonthlyIncome  NumCompaniesWorked  \\\n",
       "0  1.423700         -0.209015      -0.161315           -0.689762   \n",
       "1 -0.258847         -0.812421      -0.662342           -0.689762   \n",
       "2 -0.889802         -0.933103      -0.536239            2.377783   \n",
       "3 -0.364006         -0.933103      -0.626474           -1.073206   \n",
       "4  2.475292         -0.812421      -0.716258            0.460567   \n",
       "\n",
       "   TrainingTimesLastYear  YearsAtCompany  \n",
       "0               0.198500        0.586689  \n",
       "1               0.198500        0.268226  \n",
       "2               0.198500       -0.687161  \n",
       "3              -0.591018        0.108995  \n",
       "4               0.198500       -0.846392  "
      ]
     },
     "execution_count": 48,
     "metadata": {},
     "output_type": "execute_result"
    }
   ],
   "source": [
    "scaled_features_df_num = pd.DataFrame(scaled_features, index=df_num.index, columns=df_num.columns)\n",
    "scaled_features_df_num.head()"
   ]
  },
  {
   "cell_type": "code",
   "execution_count": 49,
   "metadata": {},
   "outputs": [
    {
     "name": "stdout",
     "output_type": "stream",
     "text": [
      "Shape of final dataset attrition_final: (2466, 49)\n"
     ]
    },
    {
     "data": {
      "text/html": [
       "<div>\n",
       "<style scoped>\n",
       "    .dataframe tbody tr th:only-of-type {\n",
       "        vertical-align: middle;\n",
       "    }\n",
       "\n",
       "    .dataframe tbody tr th {\n",
       "        vertical-align: top;\n",
       "    }\n",
       "\n",
       "    .dataframe thead th {\n",
       "        text-align: right;\n",
       "    }\n",
       "</style>\n",
       "<table border=\"1\" class=\"dataframe\">\n",
       "  <thead>\n",
       "    <tr style=\"text-align: right;\">\n",
       "      <th></th>\n",
       "      <th>Age</th>\n",
       "      <th>DistanceFromHome</th>\n",
       "      <th>MonthlyIncome</th>\n",
       "      <th>NumCompaniesWorked</th>\n",
       "      <th>TrainingTimesLastYear</th>\n",
       "      <th>YearsAtCompany</th>\n",
       "      <th>Department_0</th>\n",
       "      <th>Department_1</th>\n",
       "      <th>Department_2</th>\n",
       "      <th>Education_1</th>\n",
       "      <th>...</th>\n",
       "      <th>low_percentage_hike_0</th>\n",
       "      <th>low_percentage_hike_1</th>\n",
       "      <th>low_relationship_satisfaction_0</th>\n",
       "      <th>low_relationship_satisfaction_1</th>\n",
       "      <th>frequent_travel_0</th>\n",
       "      <th>frequent_travel_1</th>\n",
       "      <th>low_job_involvement_0</th>\n",
       "      <th>low_job_involvement_1</th>\n",
       "      <th>low_worklife_balance_0</th>\n",
       "      <th>low_worklife_balance_1</th>\n",
       "    </tr>\n",
       "  </thead>\n",
       "  <tbody>\n",
       "    <tr>\n",
       "      <td>0</td>\n",
       "      <td>1.423700</td>\n",
       "      <td>-0.209015</td>\n",
       "      <td>-0.161315</td>\n",
       "      <td>-0.689762</td>\n",
       "      <td>0.198500</td>\n",
       "      <td>0.586689</td>\n",
       "      <td>0</td>\n",
       "      <td>1</td>\n",
       "      <td>0</td>\n",
       "      <td>1</td>\n",
       "      <td>...</td>\n",
       "      <td>1</td>\n",
       "      <td>0</td>\n",
       "      <td>1</td>\n",
       "      <td>0</td>\n",
       "      <td>0</td>\n",
       "      <td>1</td>\n",
       "      <td>1</td>\n",
       "      <td>0</td>\n",
       "      <td>1</td>\n",
       "      <td>0</td>\n",
       "    </tr>\n",
       "    <tr>\n",
       "      <td>1</td>\n",
       "      <td>-0.258847</td>\n",
       "      <td>-0.812421</td>\n",
       "      <td>-0.662342</td>\n",
       "      <td>-0.689762</td>\n",
       "      <td>0.198500</td>\n",
       "      <td>0.268226</td>\n",
       "      <td>0</td>\n",
       "      <td>1</td>\n",
       "      <td>0</td>\n",
       "      <td>0</td>\n",
       "      <td>...</td>\n",
       "      <td>0</td>\n",
       "      <td>1</td>\n",
       "      <td>1</td>\n",
       "      <td>0</td>\n",
       "      <td>0</td>\n",
       "      <td>1</td>\n",
       "      <td>1</td>\n",
       "      <td>0</td>\n",
       "      <td>1</td>\n",
       "      <td>0</td>\n",
       "    </tr>\n",
       "    <tr>\n",
       "      <td>2</td>\n",
       "      <td>-0.889802</td>\n",
       "      <td>-0.933103</td>\n",
       "      <td>-0.536239</td>\n",
       "      <td>2.377783</td>\n",
       "      <td>0.198500</td>\n",
       "      <td>-0.687161</td>\n",
       "      <td>0</td>\n",
       "      <td>1</td>\n",
       "      <td>0</td>\n",
       "      <td>1</td>\n",
       "      <td>...</td>\n",
       "      <td>0</td>\n",
       "      <td>1</td>\n",
       "      <td>1</td>\n",
       "      <td>0</td>\n",
       "      <td>1</td>\n",
       "      <td>0</td>\n",
       "      <td>1</td>\n",
       "      <td>0</td>\n",
       "      <td>1</td>\n",
       "      <td>0</td>\n",
       "    </tr>\n",
       "    <tr>\n",
       "      <td>3</td>\n",
       "      <td>-0.364006</td>\n",
       "      <td>-0.933103</td>\n",
       "      <td>-0.626474</td>\n",
       "      <td>-1.073206</td>\n",
       "      <td>-0.591018</td>\n",
       "      <td>0.108995</td>\n",
       "      <td>0</td>\n",
       "      <td>1</td>\n",
       "      <td>0</td>\n",
       "      <td>0</td>\n",
       "      <td>...</td>\n",
       "      <td>0</td>\n",
       "      <td>1</td>\n",
       "      <td>1</td>\n",
       "      <td>0</td>\n",
       "      <td>0</td>\n",
       "      <td>1</td>\n",
       "      <td>1</td>\n",
       "      <td>0</td>\n",
       "      <td>1</td>\n",
       "      <td>0</td>\n",
       "    </tr>\n",
       "    <tr>\n",
       "      <td>4</td>\n",
       "      <td>2.475292</td>\n",
       "      <td>-0.812421</td>\n",
       "      <td>-0.716258</td>\n",
       "      <td>0.460567</td>\n",
       "      <td>0.198500</td>\n",
       "      <td>-0.846392</td>\n",
       "      <td>0</td>\n",
       "      <td>1</td>\n",
       "      <td>0</td>\n",
       "      <td>0</td>\n",
       "      <td>...</td>\n",
       "      <td>1</td>\n",
       "      <td>0</td>\n",
       "      <td>0</td>\n",
       "      <td>1</td>\n",
       "      <td>1</td>\n",
       "      <td>0</td>\n",
       "      <td>1</td>\n",
       "      <td>0</td>\n",
       "      <td>1</td>\n",
       "      <td>0</td>\n",
       "    </tr>\n",
       "  </tbody>\n",
       "</table>\n",
       "<p>5 rows × 49 columns</p>\n",
       "</div>"
      ],
      "text/plain": [
       "        Age  DistanceFromHome  MonthlyIncome  NumCompaniesWorked  \\\n",
       "0  1.423700         -0.209015      -0.161315           -0.689762   \n",
       "1 -0.258847         -0.812421      -0.662342           -0.689762   \n",
       "2 -0.889802         -0.933103      -0.536239            2.377783   \n",
       "3 -0.364006         -0.933103      -0.626474           -1.073206   \n",
       "4  2.475292         -0.812421      -0.716258            0.460567   \n",
       "\n",
       "   TrainingTimesLastYear  YearsAtCompany  Department_0  Department_1  \\\n",
       "0               0.198500        0.586689             0             1   \n",
       "1               0.198500        0.268226             0             1   \n",
       "2               0.198500       -0.687161             0             1   \n",
       "3              -0.591018        0.108995             0             1   \n",
       "4               0.198500       -0.846392             0             1   \n",
       "\n",
       "   Department_2  Education_1  ...  low_percentage_hike_0  \\\n",
       "0             0            1  ...                      1   \n",
       "1             0            0  ...                      0   \n",
       "2             0            1  ...                      0   \n",
       "3             0            0  ...                      0   \n",
       "4             0            0  ...                      1   \n",
       "\n",
       "   low_percentage_hike_1  low_relationship_satisfaction_0  \\\n",
       "0                      0                                1   \n",
       "1                      1                                1   \n",
       "2                      1                                1   \n",
       "3                      1                                1   \n",
       "4                      0                                0   \n",
       "\n",
       "   low_relationship_satisfaction_1  frequent_travel_0  frequent_travel_1  \\\n",
       "0                                0                  0                  1   \n",
       "1                                0                  0                  1   \n",
       "2                                0                  1                  0   \n",
       "3                                0                  0                  1   \n",
       "4                                1                  1                  0   \n",
       "\n",
       "   low_job_involvement_0  low_job_involvement_1  low_worklife_balance_0  \\\n",
       "0                      1                      0                       1   \n",
       "1                      1                      0                       1   \n",
       "2                      1                      0                       1   \n",
       "3                      1                      0                       1   \n",
       "4                      1                      0                       1   \n",
       "\n",
       "   low_worklife_balance_1  \n",
       "0                       0  \n",
       "1                       0  \n",
       "2                       0  \n",
       "3                       0  \n",
       "4                       0  \n",
       "\n",
       "[5 rows x 49 columns]"
      ]
     },
     "execution_count": 49,
     "metadata": {},
     "output_type": "execute_result"
    }
   ],
   "source": [
    "attrition_final = pd.concat([scaled_features_df_num, attrition_cat_dummy], axis=1)\n",
    "print(\"Shape of final dataset attrition_final: \" + str(attrition_final.shape))\n",
    "attrition_final.head()"
   ]
  },
  {
   "cell_type": "code",
   "execution_count": 50,
   "metadata": {},
   "outputs": [
    {
     "data": {
      "text/plain": [
       "1    1233\n",
       "0    1233\n",
       "Name: Attrition, dtype: int64"
      ]
     },
     "execution_count": 50,
     "metadata": {},
     "output_type": "execute_result"
    }
   ],
   "source": [
    "# Define a dictionary for the target mapping\n",
    "target_map = {'Yes':1, 'No':0}\n",
    "# Use the pandas apply method to numerically encode our attrition target variable\n",
    "target = employees[\"Attrition\"].apply(lambda x: target_map[x])\n",
    "target.value_counts()"
   ]
  },
  {
   "cell_type": "code",
   "execution_count": 51,
   "metadata": {},
   "outputs": [],
   "source": [
    "import plotly.figure_factory as ff\n",
    "\n",
    "def model_performance_plot(model) : \n",
    "    #conf matrix\n",
    "    conf_matrix = confusion_matrix(target_val, y_pred)\n",
    "#     trace1 = go.Heatmap(z=conf_matrix  ,x = [\"No (pred)\",\"Yes (pred)\"],\n",
    "#                         y = [\"No (Actual)\",\"Yes (Actual)\"], xgap=2, ygap=2,\n",
    "#                         colorscale = 'Viridis', \n",
    "#                         showscale=False, text=conf_matrix)\n",
    "#     trace1 = ff.create_annotated_heatmap(conf_matrix, annotation_text=conf_matrix, \n",
    "#                                          colorscale=colorscale, hoverinfo='z')\n",
    "#     for i in range(len(trace1.layout.annotations)):\n",
    "#         trace1.layout.annotations[i].font.size = 9\n",
    "\n",
    "    #show metrics\n",
    "    tp = conf_matrix[1,1]\n",
    "    fn = conf_matrix[1,0]\n",
    "    fp = conf_matrix[0,1]\n",
    "    tn = conf_matrix[0,0]\n",
    "    Accuracy  =  ((tp+tn)/(tp+tn+fp+fn))\n",
    "    Precision =  (tp/(tp+fp))\n",
    "    Recall    =  (tp/(tp+fn))\n",
    "    F1_score  =  (2*(((tp/(tp+fp))*(tp/(tp+fn)))/((tp/(tp+fp))+(tp/(tp+fn)))))\n",
    "\n",
    "    show_metrics = pd.DataFrame(data=[[Accuracy , Precision, Recall, F1_score]])\n",
    "    show_metrics = show_metrics.T\n",
    "\n",
    "    colors = ['gold', 'lightgreen', 'lightcoral', 'lightskyblue']\n",
    "    trace2 = go.Bar(x = (show_metrics[0].values), \n",
    "                   y = ['Accuracy', 'Precision', 'Recall', 'F1_score'], text = np.round_(show_metrics[0].values,4),\n",
    "                    textposition = 'auto',\n",
    "                   orientation = 'h', opacity = 0.8,marker=dict(\n",
    "            color=colors,\n",
    "            line=dict(color='#000000',width=1.5)))\n",
    "    \n",
    "    #plot roc curve\n",
    "    model_roc_auc = round(roc_auc_score(target_val, y_score) , 3)\n",
    "    fpr, tpr, t = roc_curve(target_val, y_score)\n",
    "    trace3 = go.Scatter(x = fpr,y = tpr,\n",
    "                        name = \"Roc : \",\n",
    "                        line = dict(color = ('rgb(22, 96, 167)'),width = 2), fill='tozeroy')\n",
    "    trace4 = go.Scatter(x = [0,1],y = [0,1],\n",
    "                        line = dict(color = ('black'),width = 1.5,\n",
    "                        dash = 'dot'))\n",
    "    \n",
    "    # Precision-recall curve\n",
    "    precision, recall, thresholds = precision_recall_curve(target_val, y_score)\n",
    "    trace5 = go.Scatter(x = recall, y = precision,\n",
    "                        name = \"Precision\" + str(precision),\n",
    "                        line = dict(color = ('lightcoral'),width = 2), fill='tozeroy')\n",
    "    \n",
    "    #subplots\n",
    "    fig = sbl.make_subplots(rows=3, cols=1, print_grid=False, \n",
    "                        subplot_titles=('Metrics',\n",
    "                                        'ROC curve'+\" \"+ '('+ str(model_roc_auc)+')',\n",
    "                                        'Precision - Recall curve'))\n",
    "    \n",
    "\n",
    "    fig.append_trace(trace2,1,1)\n",
    "    fig.append_trace(trace3,2,1)\n",
    "    fig.append_trace(trace4,2,1)\n",
    "    fig.append_trace(trace5,3,1)\n",
    "    \n",
    "    fig['layout'].update(showlegend = False, title = '<b>Model performance</b><br>'+str(model),\n",
    "                        autosize = False, height = 900,width = 450,\n",
    "                        plot_bgcolor = 'rgba(240,240,240, 0.95)',\n",
    "                        paper_bgcolor = 'rgba(240,240,240, 0.95)',\n",
    "                        margin = dict(b = 195))\n",
    "#     fig[\"layout\"][\"xaxis2\"].update((dict(range=[0, 1])))\n",
    "    fig[\"layout\"][\"xaxis2\"].update(dict(title = \"false positive rate\"))\n",
    "    fig[\"layout\"][\"yaxis2\"].update(dict(title = \"true positive rate\"))\n",
    "    fig[\"layout\"][\"xaxis3\"].update(dict(title = \"recall\"), range = [0,1.05])\n",
    "    fig[\"layout\"][\"yaxis3\"].update(dict(title = \"precision\"), range = [0,1.05])\n",
    "    fig.layout.titlefont.size = 14\n",
    "    \n",
    "    py.iplot(fig)"
   ]
  },
  {
   "cell_type": "code",
   "execution_count": 78,
   "metadata": {},
   "outputs": [],
   "source": [
    "def plot_feature_importance(model):\n",
    "    tmp = pd.DataFrame({'Feature': list(attrition_final_tree), 'Feature importance': model.feature_importances_})\n",
    "    tmp = tmp.sort_values(by='Feature importance',ascending=False).head(12)\n",
    "    plt.figure(figsize = (8,8))\n",
    "    plt.title('Top 12 - Features importance - {0}'.format(str(model).split('(')[0]),fontsize=14)\n",
    "    s = sns.barplot(y='Feature',x='Feature importance',data=tmp, orient='h')\n",
    "    s.set_xticklabels(s.get_xticklabels(),rotation=90)\n",
    "    plt.show()"
   ]
  },
  {
   "cell_type": "code",
   "execution_count": 71,
   "metadata": {},
   "outputs": [],
   "source": [
    "def plot_confusion_matrix(model):\n",
    "    conf_matrix = confusion_matrix(target_val, y_pred)\n",
    "    trace1 = go.Heatmap(z=conf_matrix  ,x = [\"No (pred)\",\"Yes (pred)\"],\n",
    "                        y = [\"No (Actual)\",\"Yes (Actual)\"], xgap=2, ygap=2,\n",
    "                        colorscale = 'Viridis', \n",
    "                        showscale=False, text=conf_matrix)\n",
    "    trace1 = ff.create_annotated_heatmap(conf_matrix, x = [\"No (pred)\",\"Yes (pred)\"],\n",
    "                        y = [\"No (Actual)\",\"Yes (Actual)\"], xgap=2, ygap=2,\n",
    "                        colorscale = 'Viridis', \n",
    "                        showscale=False, annotation_text=conf_matrix, \n",
    "                                         hoverinfo='z')\n",
    "    trace1['layout'].update(showlegend = False, title = '<b>Model Confusion matrix</b><br>'+str(model).split('(')[0],\n",
    "                        autosize = True, height = 450,width = 410,\n",
    "                        plot_bgcolor = 'rgba(240,240,240, 0.95)',\n",
    "                        paper_bgcolor = 'rgba(240,240,240, 0.95)',\n",
    "                        margin = dict(b = 195))\n",
    "    # for i in range(len(trace1.layout.annotations)):\n",
    "    #     trace1.layout.annotations[i].font.size = 9\n",
    "\n",
    "    trace1.show()"
   ]
  },
  {
   "cell_type": "markdown",
   "metadata": {},
   "source": [
    "# Classification"
   ]
  },
  {
   "cell_type": "code",
   "execution_count": 57,
   "metadata": {},
   "outputs": [],
   "source": [
    "from sklearn.model_selection import train_test_split\n",
    "from sklearn.model_selection import StratifiedShuffleSplit\n",
    "\n",
    "attrition_final_tree = pd.concat([scaled_features_df_num, attrition_cat], axis=1)\n",
    "# Split data into train and test sets\n",
    "train, test, target_train, target_val = train_test_split(attrition_final_tree, \n",
    "                                                         target, \n",
    "                                                         train_size= 0.80, random_state=0)"
   ]
  },
  {
   "cell_type": "markdown",
   "metadata": {},
   "source": [
    "## Random forest"
   ]
  },
  {
   "cell_type": "code",
   "execution_count": 58,
   "metadata": {},
   "outputs": [
    {
     "name": "stdout",
     "output_type": "stream",
     "text": [
      "Fitting of Random Forest finished\n"
     ]
    }
   ],
   "source": [
    "from sklearn.ensemble import RandomForestClassifier\n",
    "\n",
    "seed = 345\n",
    "# Random Forest parameters\n",
    "rf_params = {\n",
    "    'criterion': 'entropy',\n",
    "    'n_jobs': -1,\n",
    "    'n_estimators': 100,\n",
    "#     'warm_start': True, \n",
    "    'max_features': 0.3,\n",
    "    'max_depth': 4,\n",
    "    'min_samples_leaf': 2,\n",
    "    'max_features' : 'sqrt',\n",
    "    'random_state' : seed,\n",
    "    'verbose': 0\n",
    "}\n",
    "\n",
    "rf = RandomForestClassifier(**rf_params)\n",
    "# rf = RandomForestClassifier()\n",
    "rf.fit(train, target_train)\n",
    "print(\"Fitting of Random Forest finished\")"
   ]
  },
  {
   "cell_type": "code",
   "execution_count": 59,
   "metadata": {},
   "outputs": [
    {
     "name": "stdout",
     "output_type": "stream",
     "text": [
      "Predictions finished\n"
     ]
    }
   ],
   "source": [
    "rf_predictions = rf.predict(test)\n",
    "print(\"Predictions finished\")"
   ]
  },
  {
   "cell_type": "code",
   "execution_count": 61,
   "metadata": {},
   "outputs": [
    {
     "name": "stdout",
     "output_type": "stream",
     "text": [
      "Accuracy score: 0.7813765182186235\n",
      "================================================================================\n",
      "              precision    recall  f1-score   support\n",
      "\n",
      "           0       0.77      0.80      0.79       250\n",
      "           1       0.79      0.76      0.77       244\n",
      "\n",
      "    accuracy                           0.78       494\n",
      "   macro avg       0.78      0.78      0.78       494\n",
      "weighted avg       0.78      0.78      0.78       494\n",
      "\n"
     ]
    }
   ],
   "source": [
    "print(\"Accuracy score: {}\".format(accuracy_score(target_val, rf_predictions)))\n",
    "print(\"=\"*80)\n",
    "print(classification_report(target_val, rf_predictions))"
   ]
  },
  {
   "cell_type": "code",
   "execution_count": 62,
   "metadata": {},
   "outputs": [
    {
     "data": {
      "application/vnd.plotly.v1+json": {
       "config": {
        "linkText": "Export to plot.ly",
        "plotlyServerURL": "https://plot.ly",
        "showLink": false
       },
       "data": [
        {
         "marker": {
          "color": [
           "gold",
           "lightgreen",
           "lightcoral",
           "lightskyblue"
          ],
          "line": {
           "color": "#000000",
           "width": 1.5
          }
         },
         "opacity": 0.8,
         "orientation": "h",
         "text": [
          0.7814,
          0.7906,
          0.7582,
          0.7741
         ],
         "textposition": "auto",
         "type": "bar",
         "x": [
          0.7813765182186235,
          0.7905982905982906,
          0.7581967213114754,
          0.7740585774058577
         ],
         "xaxis": "x",
         "y": [
          "Accuracy",
          "Precision",
          "Recall",
          "F1_score"
         ],
         "yaxis": "y"
        },
        {
         "fill": "tozeroy",
         "line": {
          "color": "rgb(22, 96, 167)",
          "width": 2
         },
         "name": "Roc : ",
         "type": "scatter",
         "x": [
          0,
          0,
          0,
          0,
          0,
          0,
          0,
          0,
          0,
          0,
          0,
          0,
          0,
          0,
          0,
          0,
          0,
          0,
          0.004,
          0.004,
          0.004,
          0.004,
          0.004,
          0.004,
          0.004,
          0.004,
          0.004,
          0.004,
          0.008,
          0.008,
          0.008,
          0.008,
          0.02,
          0.02,
          0.02,
          0.02,
          0.02,
          0.02,
          0.024,
          0.024,
          0.028,
          0.028,
          0.028,
          0.032,
          0.032,
          0.036,
          0.036,
          0.04,
          0.04,
          0.04,
          0.04,
          0.048,
          0.048,
          0.048,
          0.048,
          0.048,
          0.048,
          0.048,
          0.056,
          0.056,
          0.06,
          0.06,
          0.06,
          0.06,
          0.06,
          0.064,
          0.064,
          0.072,
          0.072,
          0.072,
          0.072,
          0.072,
          0.072,
          0.072,
          0.072,
          0.072,
          0.072,
          0.072,
          0.072,
          0.088,
          0.088,
          0.096,
          0.096,
          0.1,
          0.1,
          0.1,
          0.104,
          0.104,
          0.108,
          0.108,
          0.112,
          0.112,
          0.132,
          0.132,
          0.132,
          0.144,
          0.144,
          0.16,
          0.16,
          0.172,
          0.172,
          0.176,
          0.176,
          0.18,
          0.18,
          0.196,
          0.196,
          0.2,
          0.2,
          0.2,
          0.2,
          0.2,
          0.212,
          0.212,
          0.212,
          0.212,
          0.216,
          0.216,
          0.236,
          0.236,
          0.248,
          0.248,
          0.272,
          0.272,
          0.276,
          0.276,
          0.3,
          0.3,
          0.308,
          0.308,
          0.316,
          0.316,
          0.332,
          0.332,
          0.34,
          0.34,
          0.34,
          0.352,
          0.352,
          0.38,
          0.38,
          0.472,
          0.472,
          0.54,
          0.54,
          0.568,
          0.568,
          0.584,
          0.584,
          0.592,
          0.592,
          0.612,
          0.612,
          0.684,
          0.684,
          0.684,
          0.688,
          0.688,
          0.7,
          0.7,
          0.756,
          0.756,
          0.764,
          0.764,
          0.764,
          0.768,
          0.768,
          0.88,
          0.88,
          1
         ],
         "xaxis": "x2",
         "y": [
          0,
          0.004098360655737705,
          0.012295081967213115,
          0.020491803278688523,
          0.036885245901639344,
          0.045081967213114756,
          0.05327868852459016,
          0.05737704918032787,
          0.06557377049180328,
          0.06967213114754098,
          0.0778688524590164,
          0.09836065573770492,
          0.10655737704918032,
          0.12704918032786885,
          0.13934426229508196,
          0.14344262295081966,
          0.15163934426229508,
          0.1680327868852459,
          0.1680327868852459,
          0.18032786885245902,
          0.18442622950819673,
          0.19262295081967212,
          0.19672131147540983,
          0.20491803278688525,
          0.21311475409836064,
          0.22131147540983606,
          0.2336065573770492,
          0.25,
          0.25,
          0.2540983606557377,
          0.2786885245901639,
          0.2827868852459016,
          0.2827868852459016,
          0.28688524590163933,
          0.29508196721311475,
          0.29918032786885246,
          0.3073770491803279,
          0.3114754098360656,
          0.3114754098360656,
          0.319672131147541,
          0.319672131147541,
          0.3442622950819672,
          0.3483606557377049,
          0.3483606557377049,
          0.3524590163934426,
          0.3524590163934426,
          0.36065573770491804,
          0.36065573770491804,
          0.3729508196721312,
          0.38114754098360654,
          0.38934426229508196,
          0.38934426229508196,
          0.39344262295081966,
          0.4098360655737705,
          0.42213114754098363,
          0.4262295081967213,
          0.4344262295081967,
          0.45491803278688525,
          0.45491803278688525,
          0.46311475409836067,
          0.46311475409836067,
          0.4672131147540984,
          0.48360655737704916,
          0.4959016393442623,
          0.5,
          0.5,
          0.5122950819672131,
          0.5122950819672131,
          0.5286885245901639,
          0.5409836065573771,
          0.5450819672131147,
          0.5532786885245902,
          0.5573770491803278,
          0.5655737704918032,
          0.5778688524590164,
          0.5819672131147541,
          0.5983606557377049,
          0.6024590163934426,
          0.6188524590163934,
          0.6188524590163934,
          0.6229508196721312,
          0.6229508196721312,
          0.6270491803278688,
          0.6270491803278688,
          0.6475409836065574,
          0.6557377049180327,
          0.6557377049180327,
          0.6598360655737705,
          0.6598360655737705,
          0.6680327868852459,
          0.6680327868852459,
          0.6762295081967213,
          0.6762295081967213,
          0.7090163934426229,
          0.7131147540983607,
          0.7131147540983607,
          0.7213114754098361,
          0.7213114754098361,
          0.7295081967213115,
          0.7295081967213115,
          0.7459016393442623,
          0.7459016393442623,
          0.75,
          0.75,
          0.7540983606557377,
          0.7540983606557377,
          0.7622950819672131,
          0.7622950819672131,
          0.7663934426229508,
          0.7745901639344263,
          0.7786885245901639,
          0.7950819672131147,
          0.7950819672131147,
          0.7991803278688525,
          0.8114754098360656,
          0.8155737704918032,
          0.8155737704918032,
          0.819672131147541,
          0.819672131147541,
          0.8237704918032787,
          0.8237704918032787,
          0.8319672131147541,
          0.8319672131147541,
          0.8360655737704918,
          0.8360655737704918,
          0.8401639344262295,
          0.8401639344262295,
          0.8442622950819673,
          0.8442622950819673,
          0.8483606557377049,
          0.8483606557377049,
          0.8524590163934426,
          0.8524590163934426,
          0.8688524590163934,
          0.8688524590163934,
          0.8729508196721312,
          0.8852459016393442,
          0.8852459016393442,
          0.889344262295082,
          0.889344262295082,
          0.8934426229508197,
          0.8934426229508197,
          0.9057377049180327,
          0.9057377049180327,
          0.9139344262295082,
          0.9139344262295082,
          0.9221311475409836,
          0.9221311475409836,
          0.9262295081967213,
          0.9262295081967213,
          0.9344262295081968,
          0.9344262295081968,
          0.9385245901639344,
          0.9385245901639344,
          0.9590163934426229,
          0.9631147540983607,
          0.9631147540983607,
          0.9672131147540983,
          0.9672131147540983,
          0.9713114754098361,
          0.9713114754098361,
          0.9754098360655737,
          0.9754098360655737,
          0.9795081967213115,
          0.9877049180327869,
          0.9877049180327869,
          0.9959016393442623,
          0.9959016393442623,
          1,
          1
         ],
         "yaxis": "y2"
        },
        {
         "line": {
          "color": "black",
          "dash": "dot",
          "width": 1.5
         },
         "type": "scatter",
         "x": [
          0,
          1
         ],
         "xaxis": "x2",
         "y": [
          0,
          1
         ],
         "yaxis": "y2"
        },
        {
         "fill": "tozeroy",
         "line": {
          "color": "lightcoral",
          "width": 2
         },
         "name": "Precision[0.52586207 0.52483801 0.52597403 0.52711497 0.52826087 0.52941176\n 0.53056769 0.53172867 0.53289474 0.53406593 0.53524229 0.53642384\n 0.53761062 0.53880266 0.54       0.54120267 0.54241071 0.54362416\n 0.54484305 0.54606742 0.5472973  0.54853273 0.54977376 0.55102041\n 0.55227273 0.55353075 0.55479452 0.55606407 0.55733945 0.55862069\n 0.55658199 0.55787037 0.55581395 0.55477855 0.55607477 0.55737705\n 0.55633803 0.55764706 0.55896226 0.56028369 0.56161137 0.56294537\n 0.56428571 0.56563246 0.56698565 0.56834532 0.56971154 0.57108434\n 0.57246377 0.57384988 0.57524272 0.57420925 0.57560976 0.57701711\n 0.57843137 0.57739558 0.57881773 0.57777778 0.5725     0.57393484\n 0.57537688 0.5768262  0.57828283 0.57974684 0.58121827 0.5826972\n 0.58418367 0.58567775 0.58717949 0.58868895 0.59020619 0.59173127\n 0.59326425 0.59480519 0.59635417 0.59791123 0.59947644 0.5984252\n 0.6        0.60158311 0.6031746  0.60477454 0.60638298 0.60427807\n 0.60589812 0.60752688 0.606469   0.60810811 0.6097561  0.61141304\n 0.61307902 0.6109589  0.61263736 0.61432507 0.6160221  0.61772853\n 0.61944444 0.62116992 0.62290503 0.62078652 0.62253521 0.62429379\n 0.62606232 0.62784091 0.62962963 0.63142857 0.63323782 0.63505747\n 0.63688761 0.63872832 0.64057971 0.64244186 0.64431487 0.64619883\n 0.64809384 0.65       0.6519174  0.65088757 0.64985163 0.64880952\n 0.65074627 0.65269461 0.65465465 0.65662651 0.65861027 0.66060606\n 0.66261398 0.66463415 0.66666667 0.66871166 0.67076923 0.67283951\n 0.6749226  0.67701863 0.67912773 0.68125    0.68338558 0.68553459\n 0.68769716 0.68987342 0.69206349 0.69426752 0.69648562 0.69551282\n 0.6977492  0.7        0.70226537 0.70454545 0.70684039 0.70915033\n 0.71147541 0.71052632 0.71287129 0.71523179 0.71760797 0.7147651\n 0.71380471 0.71621622 0.71864407 0.71477663 0.71724138 0.71972318\n 0.72222222 0.72473868 0.72377622 0.72631579 0.72887324 0.72791519\n 0.73049645 0.73309609 0.73214286 0.73476703 0.73741007 0.7400722\n 0.74275362 0.74545455 0.74817518 0.74725275 0.75       0.74907749\n 0.75185185 0.75464684 0.75746269 0.76029963 0.76315789 0.76603774\n 0.76425856 0.76717557 0.77011494 0.77307692 0.77220077 0.7751938\n 0.77821012 0.78125    0.78431373 0.78740157 0.78656126 0.78968254\n 0.78884462 0.78629032 0.7854251  0.78861789 0.79183673 0.79508197\n 0.79166667 0.79079498 0.78902954 0.78813559 0.79148936 0.79059829\n 0.78969957 0.79310345 0.7965368  0.8        0.80349345 0.80263158\n 0.8061674  0.80530973 0.80888889 0.80803571 0.80717489 0.80630631\n 0.80542986 0.80909091 0.81278539 0.81651376 0.81481481 0.81860465\n 0.82242991 0.82629108 0.83018868 0.82857143 0.83253589 0.83653846\n 0.84057971 0.83980583 0.83823529 0.83663366 0.835      0.83333333\n 0.83756345 0.84183673 0.84615385 0.85051546 0.85492228 0.85340314\n 0.85789474 0.85638298 0.86096257 0.86021505 0.86486486 0.86338798\n 0.86263736 0.86187845 0.86111111 0.8603352  0.85955056 0.86440678\n 0.86363636 0.86857143 0.87356322 0.87283237 0.87790698 0.88304094\n 0.88823529 0.89349112 0.89221557 0.89090909 0.8902439  0.88888889\n 0.8875     0.88679245 0.88461538 0.88311688 0.88235294 0.8807947\n 0.88       0.87755102 0.87586207 0.87412587 0.88028169 0.88652482\n 0.88405797 0.89051095 0.88970588 0.88721805 0.88549618 0.88372093\n 0.8828125  0.88976378 0.888      0.89516129 0.90243902 0.89830508\n 0.89655172 0.89565217 0.89285714 0.88888889 0.88785047 0.89622642\n 0.9047619  0.90384615 0.90291262 0.9009901  0.89795918 0.90721649\n 0.90625    0.90526316 0.91489362 0.91397849 0.92391304 0.92307692\n 0.92134831 0.91954023 0.91764706 0.92857143 0.92682927 0.9382716\n 0.9375     0.93589744 0.93506494 0.93333333 0.93243243 0.94520548\n 0.95833333 0.97183099 0.97142857 0.97058824 0.96969697 0.96875\n 0.96825397 0.98387097 0.98333333 0.98275862 0.98245614 0.98214286\n 0.98181818 0.98113208 0.98076923 0.98039216 0.97959184 0.97916667\n 0.97826087 0.97777778 0.97619048 1.         1.         1.\n 1.         1.         1.         1.         1.         1.\n 1.         1.         1.         1.         1.         1.\n 1.         1.         1.         1.         1.         1.\n 1.         1.         1.         1.         1.         1.\n 1.         1.        ]",
         "type": "scatter",
         "x": [
          1,
          0.9959016393442623,
          0.9959016393442623,
          0.9959016393442623,
          0.9959016393442623,
          0.9959016393442623,
          0.9959016393442623,
          0.9959016393442623,
          0.9959016393442623,
          0.9959016393442623,
          0.9959016393442623,
          0.9959016393442623,
          0.9959016393442623,
          0.9959016393442623,
          0.9959016393442623,
          0.9959016393442623,
          0.9959016393442623,
          0.9959016393442623,
          0.9959016393442623,
          0.9959016393442623,
          0.9959016393442623,
          0.9959016393442623,
          0.9959016393442623,
          0.9959016393442623,
          0.9959016393442623,
          0.9959016393442623,
          0.9959016393442623,
          0.9959016393442623,
          0.9959016393442623,
          0.9959016393442623,
          0.9877049180327869,
          0.9877049180327869,
          0.9795081967213115,
          0.9754098360655737,
          0.9754098360655737,
          0.9754098360655737,
          0.9713114754098361,
          0.9713114754098361,
          0.9713114754098361,
          0.9713114754098361,
          0.9713114754098361,
          0.9713114754098361,
          0.9713114754098361,
          0.9713114754098361,
          0.9713114754098361,
          0.9713114754098361,
          0.9713114754098361,
          0.9713114754098361,
          0.9713114754098361,
          0.9713114754098361,
          0.9713114754098361,
          0.9672131147540983,
          0.9672131147540983,
          0.9672131147540983,
          0.9672131147540983,
          0.9631147540983607,
          0.9631147540983607,
          0.9590163934426229,
          0.9385245901639344,
          0.9385245901639344,
          0.9385245901639344,
          0.9385245901639344,
          0.9385245901639344,
          0.9385245901639344,
          0.9385245901639344,
          0.9385245901639344,
          0.9385245901639344,
          0.9385245901639344,
          0.9385245901639344,
          0.9385245901639344,
          0.9385245901639344,
          0.9385245901639344,
          0.9385245901639344,
          0.9385245901639344,
          0.9385245901639344,
          0.9385245901639344,
          0.9385245901639344,
          0.9344262295081968,
          0.9344262295081968,
          0.9344262295081968,
          0.9344262295081968,
          0.9344262295081968,
          0.9344262295081968,
          0.9262295081967213,
          0.9262295081967213,
          0.9262295081967213,
          0.9221311475409836,
          0.9221311475409836,
          0.9221311475409836,
          0.9221311475409836,
          0.9221311475409836,
          0.9139344262295082,
          0.9139344262295082,
          0.9139344262295082,
          0.9139344262295082,
          0.9139344262295082,
          0.9139344262295082,
          0.9139344262295082,
          0.9139344262295082,
          0.9057377049180327,
          0.9057377049180327,
          0.9057377049180327,
          0.9057377049180327,
          0.9057377049180327,
          0.9057377049180327,
          0.9057377049180327,
          0.9057377049180327,
          0.9057377049180327,
          0.9057377049180327,
          0.9057377049180327,
          0.9057377049180327,
          0.9057377049180327,
          0.9057377049180327,
          0.9057377049180327,
          0.9057377049180327,
          0.9057377049180327,
          0.9057377049180327,
          0.9016393442622951,
          0.8975409836065574,
          0.8934426229508197,
          0.8934426229508197,
          0.8934426229508197,
          0.8934426229508197,
          0.8934426229508197,
          0.8934426229508197,
          0.8934426229508197,
          0.8934426229508197,
          0.8934426229508197,
          0.8934426229508197,
          0.8934426229508197,
          0.8934426229508197,
          0.8934426229508197,
          0.8934426229508197,
          0.8934426229508197,
          0.8934426229508197,
          0.8934426229508197,
          0.8934426229508197,
          0.8934426229508197,
          0.8934426229508197,
          0.8934426229508197,
          0.8934426229508197,
          0.8934426229508197,
          0.8934426229508197,
          0.889344262295082,
          0.889344262295082,
          0.889344262295082,
          0.889344262295082,
          0.889344262295082,
          0.889344262295082,
          0.889344262295082,
          0.889344262295082,
          0.8852459016393442,
          0.8852459016393442,
          0.8852459016393442,
          0.8852459016393442,
          0.8729508196721312,
          0.8688524590163934,
          0.8688524590163934,
          0.8688524590163934,
          0.8524590163934426,
          0.8524590163934426,
          0.8524590163934426,
          0.8524590163934426,
          0.8524590163934426,
          0.8483606557377049,
          0.8483606557377049,
          0.8483606557377049,
          0.8442622950819673,
          0.8442622950819673,
          0.8442622950819673,
          0.8401639344262295,
          0.8401639344262295,
          0.8401639344262295,
          0.8401639344262295,
          0.8401639344262295,
          0.8401639344262295,
          0.8401639344262295,
          0.8360655737704918,
          0.8360655737704918,
          0.8319672131147541,
          0.8319672131147541,
          0.8319672131147541,
          0.8319672131147541,
          0.8319672131147541,
          0.8319672131147541,
          0.8319672131147541,
          0.8237704918032787,
          0.8237704918032787,
          0.8237704918032787,
          0.8237704918032787,
          0.819672131147541,
          0.819672131147541,
          0.819672131147541,
          0.819672131147541,
          0.819672131147541,
          0.819672131147541,
          0.8155737704918032,
          0.8155737704918032,
          0.8114754098360656,
          0.7991803278688525,
          0.7950819672131147,
          0.7950819672131147,
          0.7950819672131147,
          0.7950819672131147,
          0.7786885245901639,
          0.7745901639344263,
          0.7663934426229508,
          0.7622950819672131,
          0.7622950819672131,
          0.7581967213114754,
          0.7540983606557377,
          0.7540983606557377,
          0.7540983606557377,
          0.7540983606557377,
          0.7540983606557377,
          0.75,
          0.75,
          0.7459016393442623,
          0.7459016393442623,
          0.7418032786885246,
          0.7377049180327869,
          0.7336065573770492,
          0.7295081967213115,
          0.7295081967213115,
          0.7295081967213115,
          0.7295081967213115,
          0.7213114754098361,
          0.7213114754098361,
          0.7213114754098361,
          0.7213114754098361,
          0.7213114754098361,
          0.7131147540983607,
          0.7131147540983607,
          0.7131147540983607,
          0.7131147540983607,
          0.7090163934426229,
          0.7008196721311475,
          0.6926229508196722,
          0.6844262295081968,
          0.6762295081967213,
          0.6762295081967213,
          0.6762295081967213,
          0.6762295081967213,
          0.6762295081967213,
          0.6762295081967213,
          0.6680327868852459,
          0.6680327868852459,
          0.6598360655737705,
          0.6598360655737705,
          0.6557377049180327,
          0.6557377049180327,
          0.6475409836065574,
          0.6434426229508197,
          0.639344262295082,
          0.6352459016393442,
          0.6311475409836066,
          0.6270491803278688,
          0.6270491803278688,
          0.6229508196721312,
          0.6229508196721312,
          0.6229508196721312,
          0.6188524590163934,
          0.6188524590163934,
          0.6188524590163934,
          0.6188524590163934,
          0.6188524590163934,
          0.610655737704918,
          0.6024590163934426,
          0.5983606557377049,
          0.5901639344262295,
          0.5819672131147541,
          0.5778688524590164,
          0.5655737704918032,
          0.5573770491803278,
          0.5532786885245902,
          0.5450819672131147,
          0.5409836065573771,
          0.5286885245901639,
          0.5204918032786885,
          0.5122950819672131,
          0.5122950819672131,
          0.5122950819672131,
          0.5,
          0.5,
          0.4959016393442623,
          0.48360655737704916,
          0.47540983606557374,
          0.4672131147540984,
          0.46311475409836067,
          0.46311475409836067,
          0.45491803278688525,
          0.45491803278688525,
          0.45491803278688525,
          0.4344262295081967,
          0.4262295081967213,
          0.42213114754098363,
          0.4098360655737705,
          0.39344262295081966,
          0.38934426229508196,
          0.38934426229508196,
          0.38934426229508196,
          0.38524590163934425,
          0.38114754098360654,
          0.3729508196721312,
          0.36065573770491804,
          0.36065573770491804,
          0.35655737704918034,
          0.3524590163934426,
          0.3524590163934426,
          0.3483606557377049,
          0.3483606557377049,
          0.3442622950819672,
          0.3360655737704918,
          0.32786885245901637,
          0.319672131147541,
          0.319672131147541,
          0.3114754098360656,
          0.3114754098360656,
          0.3073770491803279,
          0.29918032786885246,
          0.29508196721311475,
          0.28688524590163933,
          0.2827868852459016,
          0.2827868852459016,
          0.2827868852459016,
          0.2827868852459016,
          0.2786885245901639,
          0.27049180327868855,
          0.26229508196721313,
          0.2540983606557377,
          0.25,
          0.25,
          0.24180327868852458,
          0.2336065573770492,
          0.22950819672131148,
          0.22540983606557377,
          0.22131147540983606,
          0.21311475409836064,
          0.20901639344262296,
          0.20491803278688525,
          0.19672131147540983,
          0.19262295081967212,
          0.18442622950819673,
          0.18032786885245902,
          0.1680327868852459,
          0.1680327868852459,
          0.15163934426229508,
          0.14344262295081966,
          0.13934426229508196,
          0.12704918032786885,
          0.12295081967213115,
          0.11885245901639344,
          0.11475409836065574,
          0.11065573770491803,
          0.10655737704918032,
          0.09836065573770492,
          0.0942622950819672,
          0.09016393442622951,
          0.0860655737704918,
          0.08196721311475409,
          0.0778688524590164,
          0.06967213114754098,
          0.06557377049180328,
          0.05737704918032787,
          0.05327868852459016,
          0.045081967213114756,
          0.040983606557377046,
          0.036885245901639344,
          0.028688524590163935,
          0.020491803278688523,
          0.01639344262295082,
          0.012295081967213115,
          0.004098360655737705,
          0
         ],
         "xaxis": "x3",
         "y": [
          0.5258620689655172,
          0.5248380129589633,
          0.525974025974026,
          0.527114967462039,
          0.5282608695652173,
          0.5294117647058824,
          0.5305676855895196,
          0.5317286652078774,
          0.5328947368421053,
          0.5340659340659341,
          0.5352422907488987,
          0.5364238410596026,
          0.5376106194690266,
          0.5388026607538803,
          0.54,
          0.5412026726057907,
          0.5424107142857143,
          0.5436241610738255,
          0.5448430493273543,
          0.5460674157303371,
          0.5472972972972973,
          0.5485327313769752,
          0.5497737556561086,
          0.5510204081632653,
          0.5522727272727272,
          0.5535307517084282,
          0.5547945205479452,
          0.5560640732265446,
          0.5573394495412844,
          0.5586206896551724,
          0.5565819861431871,
          0.5578703703703703,
          0.5558139534883721,
          0.5547785547785548,
          0.5560747663551402,
          0.5573770491803278,
          0.5563380281690141,
          0.5576470588235294,
          0.5589622641509434,
          0.5602836879432624,
          0.5616113744075829,
          0.5629453681710214,
          0.5642857142857143,
          0.5656324582338902,
          0.5669856459330144,
          0.5683453237410072,
          0.5697115384615384,
          0.5710843373493976,
          0.572463768115942,
          0.5738498789346247,
          0.5752427184466019,
          0.5742092457420924,
          0.5756097560975609,
          0.5770171149144254,
          0.5784313725490197,
          0.5773955773955773,
          0.5788177339901478,
          0.5777777777777777,
          0.5725,
          0.5739348370927319,
          0.5753768844221105,
          0.5768261964735516,
          0.5782828282828283,
          0.579746835443038,
          0.5812182741116751,
          0.5826972010178118,
          0.5841836734693877,
          0.5856777493606138,
          0.5871794871794872,
          0.5886889460154242,
          0.5902061855670103,
          0.5917312661498708,
          0.5932642487046632,
          0.5948051948051948,
          0.5963541666666666,
          0.597911227154047,
          0.599476439790576,
          0.5984251968503937,
          0.6,
          0.6015831134564644,
          0.6031746031746031,
          0.6047745358090185,
          0.6063829787234043,
          0.6042780748663101,
          0.6058981233243967,
          0.6075268817204301,
          0.6064690026954178,
          0.6081081081081081,
          0.6097560975609756,
          0.6114130434782609,
          0.6130790190735694,
          0.6109589041095891,
          0.6126373626373627,
          0.6143250688705234,
          0.6160220994475138,
          0.6177285318559557,
          0.6194444444444445,
          0.6211699164345403,
          0.6229050279329609,
          0.6207865168539326,
          0.6225352112676056,
          0.6242937853107344,
          0.6260623229461756,
          0.6278409090909091,
          0.6296296296296297,
          0.6314285714285715,
          0.6332378223495702,
          0.6350574712643678,
          0.6368876080691642,
          0.638728323699422,
          0.6405797101449275,
          0.6424418604651163,
          0.6443148688046647,
          0.6461988304093568,
          0.6480938416422287,
          0.65,
          0.6519174041297935,
          0.650887573964497,
          0.6498516320474778,
          0.6488095238095238,
          0.6507462686567164,
          0.6526946107784432,
          0.6546546546546547,
          0.6566265060240963,
          0.6586102719033232,
          0.6606060606060606,
          0.662613981762918,
          0.6646341463414634,
          0.6666666666666666,
          0.6687116564417178,
          0.6707692307692308,
          0.6728395061728395,
          0.6749226006191951,
          0.6770186335403726,
          0.6791277258566978,
          0.68125,
          0.6833855799373041,
          0.6855345911949685,
          0.6876971608832808,
          0.689873417721519,
          0.692063492063492,
          0.6942675159235668,
          0.6964856230031949,
          0.6955128205128205,
          0.6977491961414791,
          0.7,
          0.7022653721682848,
          0.7045454545454546,
          0.7068403908794788,
          0.7091503267973857,
          0.7114754098360656,
          0.7105263157894737,
          0.7128712871287128,
          0.7152317880794702,
          0.717607973421927,
          0.714765100671141,
          0.7138047138047138,
          0.7162162162162162,
          0.7186440677966102,
          0.7147766323024055,
          0.7172413793103448,
          0.7197231833910035,
          0.7222222222222222,
          0.7247386759581882,
          0.7237762237762237,
          0.7263157894736842,
          0.7288732394366197,
          0.7279151943462897,
          0.7304964539007093,
          0.7330960854092526,
          0.7321428571428571,
          0.7347670250896058,
          0.737410071942446,
          0.740072202166065,
          0.7427536231884058,
          0.7454545454545455,
          0.7481751824817519,
          0.7472527472527473,
          0.75,
          0.7490774907749077,
          0.7518518518518519,
          0.7546468401486989,
          0.7574626865671642,
          0.7602996254681648,
          0.7631578947368421,
          0.7660377358490567,
          0.7642585551330798,
          0.767175572519084,
          0.7701149425287356,
          0.7730769230769231,
          0.7722007722007722,
          0.7751937984496124,
          0.7782101167315175,
          0.78125,
          0.7843137254901961,
          0.7874015748031497,
          0.7865612648221344,
          0.7896825396825397,
          0.7888446215139442,
          0.7862903225806451,
          0.7854251012145749,
          0.7886178861788617,
          0.7918367346938775,
          0.7950819672131147,
          0.7916666666666666,
          0.7907949790794979,
          0.7890295358649789,
          0.788135593220339,
          0.7914893617021277,
          0.7905982905982906,
          0.7896995708154506,
          0.7931034482758621,
          0.7965367965367965,
          0.8,
          0.8034934497816594,
          0.8026315789473685,
          0.8061674008810573,
          0.8053097345132744,
          0.8088888888888889,
          0.8080357142857143,
          0.8071748878923767,
          0.8063063063063063,
          0.8054298642533937,
          0.8090909090909091,
          0.8127853881278538,
          0.8165137614678899,
          0.8148148148148148,
          0.8186046511627907,
          0.822429906542056,
          0.8262910798122066,
          0.8301886792452831,
          0.8285714285714286,
          0.8325358851674641,
          0.8365384615384616,
          0.8405797101449275,
          0.8398058252427184,
          0.8382352941176471,
          0.8366336633663366,
          0.835,
          0.8333333333333334,
          0.8375634517766497,
          0.8418367346938775,
          0.8461538461538461,
          0.8505154639175257,
          0.8549222797927462,
          0.8534031413612565,
          0.8578947368421053,
          0.8563829787234043,
          0.8609625668449198,
          0.8602150537634409,
          0.8648648648648649,
          0.8633879781420765,
          0.8626373626373627,
          0.861878453038674,
          0.8611111111111112,
          0.8603351955307262,
          0.8595505617977528,
          0.864406779661017,
          0.8636363636363636,
          0.8685714285714285,
          0.8735632183908046,
          0.8728323699421965,
          0.877906976744186,
          0.8830409356725146,
          0.888235294117647,
          0.893491124260355,
          0.8922155688622755,
          0.8909090909090909,
          0.8902439024390244,
          0.8888888888888888,
          0.8875,
          0.8867924528301887,
          0.8846153846153846,
          0.8831168831168831,
          0.8823529411764706,
          0.8807947019867549,
          0.88,
          0.8775510204081632,
          0.8758620689655172,
          0.8741258741258742,
          0.8802816901408451,
          0.8865248226950354,
          0.8840579710144928,
          0.8905109489051095,
          0.8897058823529411,
          0.8872180451127819,
          0.8854961832061069,
          0.8837209302325582,
          0.8828125,
          0.889763779527559,
          0.888,
          0.8951612903225806,
          0.9024390243902439,
          0.8983050847457628,
          0.896551724137931,
          0.8956521739130435,
          0.8928571428571429,
          0.8888888888888888,
          0.8878504672897196,
          0.8962264150943396,
          0.9047619047619048,
          0.9038461538461539,
          0.9029126213592233,
          0.900990099009901,
          0.8979591836734694,
          0.9072164948453608,
          0.90625,
          0.9052631578947369,
          0.9148936170212766,
          0.9139784946236559,
          0.9239130434782609,
          0.9230769230769231,
          0.9213483146067416,
          0.9195402298850575,
          0.9176470588235294,
          0.9285714285714286,
          0.926829268292683,
          0.9382716049382716,
          0.9375,
          0.9358974358974359,
          0.935064935064935,
          0.9333333333333333,
          0.9324324324324325,
          0.9452054794520548,
          0.9583333333333334,
          0.971830985915493,
          0.9714285714285714,
          0.9705882352941176,
          0.9696969696969697,
          0.96875,
          0.9682539682539683,
          0.9838709677419355,
          0.9833333333333333,
          0.9827586206896551,
          0.9824561403508771,
          0.9821428571428571,
          0.9818181818181818,
          0.9811320754716981,
          0.9807692307692307,
          0.9803921568627451,
          0.9795918367346939,
          0.9791666666666666,
          0.9782608695652174,
          0.9777777777777777,
          0.9761904761904762,
          1,
          1,
          1,
          1,
          1,
          1,
          1,
          1,
          1,
          1,
          1,
          1,
          1,
          1,
          1,
          1,
          1,
          1,
          1,
          1,
          1,
          1,
          1,
          1,
          1,
          1,
          1,
          1,
          1
         ],
         "yaxis": "y3"
        }
       ],
       "layout": {
        "annotations": [
         {
          "font": {
           "size": 16
          },
          "showarrow": false,
          "text": "Metrics",
          "x": 0.5,
          "xanchor": "center",
          "xref": "paper",
          "y": 1,
          "yanchor": "bottom",
          "yref": "paper"
         },
         {
          "font": {
           "size": 16
          },
          "showarrow": false,
          "text": "ROC curve (0.859)",
          "x": 0.5,
          "xanchor": "center",
          "xref": "paper",
          "y": 0.6111111111111112,
          "yanchor": "bottom",
          "yref": "paper"
         },
         {
          "font": {
           "size": 16
          },
          "showarrow": false,
          "text": "Precision - Recall curve",
          "x": 0.5,
          "xanchor": "center",
          "xref": "paper",
          "y": 0.22222222222222224,
          "yanchor": "bottom",
          "yref": "paper"
         }
        ],
        "autosize": false,
        "height": 900,
        "margin": {
         "b": 195
        },
        "paper_bgcolor": "rgba(240,240,240, 0.95)",
        "plot_bgcolor": "rgba(240,240,240, 0.95)",
        "showlegend": false,
        "template": {
         "data": {
          "bar": [
           {
            "error_x": {
             "color": "#2a3f5f"
            },
            "error_y": {
             "color": "#2a3f5f"
            },
            "marker": {
             "line": {
              "color": "#E5ECF6",
              "width": 0.5
             }
            },
            "type": "bar"
           }
          ],
          "barpolar": [
           {
            "marker": {
             "line": {
              "color": "#E5ECF6",
              "width": 0.5
             }
            },
            "type": "barpolar"
           }
          ],
          "carpet": [
           {
            "aaxis": {
             "endlinecolor": "#2a3f5f",
             "gridcolor": "white",
             "linecolor": "white",
             "minorgridcolor": "white",
             "startlinecolor": "#2a3f5f"
            },
            "baxis": {
             "endlinecolor": "#2a3f5f",
             "gridcolor": "white",
             "linecolor": "white",
             "minorgridcolor": "white",
             "startlinecolor": "#2a3f5f"
            },
            "type": "carpet"
           }
          ],
          "choropleth": [
           {
            "colorbar": {
             "outlinewidth": 0,
             "ticks": ""
            },
            "type": "choropleth"
           }
          ],
          "contour": [
           {
            "colorbar": {
             "outlinewidth": 0,
             "ticks": ""
            },
            "colorscale": [
             [
              0,
              "#0d0887"
             ],
             [
              0.1111111111111111,
              "#46039f"
             ],
             [
              0.2222222222222222,
              "#7201a8"
             ],
             [
              0.3333333333333333,
              "#9c179e"
             ],
             [
              0.4444444444444444,
              "#bd3786"
             ],
             [
              0.5555555555555556,
              "#d8576b"
             ],
             [
              0.6666666666666666,
              "#ed7953"
             ],
             [
              0.7777777777777778,
              "#fb9f3a"
             ],
             [
              0.8888888888888888,
              "#fdca26"
             ],
             [
              1,
              "#f0f921"
             ]
            ],
            "type": "contour"
           }
          ],
          "contourcarpet": [
           {
            "colorbar": {
             "outlinewidth": 0,
             "ticks": ""
            },
            "type": "contourcarpet"
           }
          ],
          "heatmap": [
           {
            "colorbar": {
             "outlinewidth": 0,
             "ticks": ""
            },
            "colorscale": [
             [
              0,
              "#0d0887"
             ],
             [
              0.1111111111111111,
              "#46039f"
             ],
             [
              0.2222222222222222,
              "#7201a8"
             ],
             [
              0.3333333333333333,
              "#9c179e"
             ],
             [
              0.4444444444444444,
              "#bd3786"
             ],
             [
              0.5555555555555556,
              "#d8576b"
             ],
             [
              0.6666666666666666,
              "#ed7953"
             ],
             [
              0.7777777777777778,
              "#fb9f3a"
             ],
             [
              0.8888888888888888,
              "#fdca26"
             ],
             [
              1,
              "#f0f921"
             ]
            ],
            "type": "heatmap"
           }
          ],
          "heatmapgl": [
           {
            "colorbar": {
             "outlinewidth": 0,
             "ticks": ""
            },
            "colorscale": [
             [
              0,
              "#0d0887"
             ],
             [
              0.1111111111111111,
              "#46039f"
             ],
             [
              0.2222222222222222,
              "#7201a8"
             ],
             [
              0.3333333333333333,
              "#9c179e"
             ],
             [
              0.4444444444444444,
              "#bd3786"
             ],
             [
              0.5555555555555556,
              "#d8576b"
             ],
             [
              0.6666666666666666,
              "#ed7953"
             ],
             [
              0.7777777777777778,
              "#fb9f3a"
             ],
             [
              0.8888888888888888,
              "#fdca26"
             ],
             [
              1,
              "#f0f921"
             ]
            ],
            "type": "heatmapgl"
           }
          ],
          "histogram": [
           {
            "marker": {
             "colorbar": {
              "outlinewidth": 0,
              "ticks": ""
             }
            },
            "type": "histogram"
           }
          ],
          "histogram2d": [
           {
            "colorbar": {
             "outlinewidth": 0,
             "ticks": ""
            },
            "colorscale": [
             [
              0,
              "#0d0887"
             ],
             [
              0.1111111111111111,
              "#46039f"
             ],
             [
              0.2222222222222222,
              "#7201a8"
             ],
             [
              0.3333333333333333,
              "#9c179e"
             ],
             [
              0.4444444444444444,
              "#bd3786"
             ],
             [
              0.5555555555555556,
              "#d8576b"
             ],
             [
              0.6666666666666666,
              "#ed7953"
             ],
             [
              0.7777777777777778,
              "#fb9f3a"
             ],
             [
              0.8888888888888888,
              "#fdca26"
             ],
             [
              1,
              "#f0f921"
             ]
            ],
            "type": "histogram2d"
           }
          ],
          "histogram2dcontour": [
           {
            "colorbar": {
             "outlinewidth": 0,
             "ticks": ""
            },
            "colorscale": [
             [
              0,
              "#0d0887"
             ],
             [
              0.1111111111111111,
              "#46039f"
             ],
             [
              0.2222222222222222,
              "#7201a8"
             ],
             [
              0.3333333333333333,
              "#9c179e"
             ],
             [
              0.4444444444444444,
              "#bd3786"
             ],
             [
              0.5555555555555556,
              "#d8576b"
             ],
             [
              0.6666666666666666,
              "#ed7953"
             ],
             [
              0.7777777777777778,
              "#fb9f3a"
             ],
             [
              0.8888888888888888,
              "#fdca26"
             ],
             [
              1,
              "#f0f921"
             ]
            ],
            "type": "histogram2dcontour"
           }
          ],
          "mesh3d": [
           {
            "colorbar": {
             "outlinewidth": 0,
             "ticks": ""
            },
            "type": "mesh3d"
           }
          ],
          "parcoords": [
           {
            "line": {
             "colorbar": {
              "outlinewidth": 0,
              "ticks": ""
             }
            },
            "type": "parcoords"
           }
          ],
          "pie": [
           {
            "automargin": true,
            "type": "pie"
           }
          ],
          "scatter": [
           {
            "marker": {
             "colorbar": {
              "outlinewidth": 0,
              "ticks": ""
             }
            },
            "type": "scatter"
           }
          ],
          "scatter3d": [
           {
            "line": {
             "colorbar": {
              "outlinewidth": 0,
              "ticks": ""
             }
            },
            "marker": {
             "colorbar": {
              "outlinewidth": 0,
              "ticks": ""
             }
            },
            "type": "scatter3d"
           }
          ],
          "scattercarpet": [
           {
            "marker": {
             "colorbar": {
              "outlinewidth": 0,
              "ticks": ""
             }
            },
            "type": "scattercarpet"
           }
          ],
          "scattergeo": [
           {
            "marker": {
             "colorbar": {
              "outlinewidth": 0,
              "ticks": ""
             }
            },
            "type": "scattergeo"
           }
          ],
          "scattergl": [
           {
            "marker": {
             "colorbar": {
              "outlinewidth": 0,
              "ticks": ""
             }
            },
            "type": "scattergl"
           }
          ],
          "scattermapbox": [
           {
            "marker": {
             "colorbar": {
              "outlinewidth": 0,
              "ticks": ""
             }
            },
            "type": "scattermapbox"
           }
          ],
          "scatterpolar": [
           {
            "marker": {
             "colorbar": {
              "outlinewidth": 0,
              "ticks": ""
             }
            },
            "type": "scatterpolar"
           }
          ],
          "scatterpolargl": [
           {
            "marker": {
             "colorbar": {
              "outlinewidth": 0,
              "ticks": ""
             }
            },
            "type": "scatterpolargl"
           }
          ],
          "scatterternary": [
           {
            "marker": {
             "colorbar": {
              "outlinewidth": 0,
              "ticks": ""
             }
            },
            "type": "scatterternary"
           }
          ],
          "surface": [
           {
            "colorbar": {
             "outlinewidth": 0,
             "ticks": ""
            },
            "colorscale": [
             [
              0,
              "#0d0887"
             ],
             [
              0.1111111111111111,
              "#46039f"
             ],
             [
              0.2222222222222222,
              "#7201a8"
             ],
             [
              0.3333333333333333,
              "#9c179e"
             ],
             [
              0.4444444444444444,
              "#bd3786"
             ],
             [
              0.5555555555555556,
              "#d8576b"
             ],
             [
              0.6666666666666666,
              "#ed7953"
             ],
             [
              0.7777777777777778,
              "#fb9f3a"
             ],
             [
              0.8888888888888888,
              "#fdca26"
             ],
             [
              1,
              "#f0f921"
             ]
            ],
            "type": "surface"
           }
          ],
          "table": [
           {
            "cells": {
             "fill": {
              "color": "#EBF0F8"
             },
             "line": {
              "color": "white"
             }
            },
            "header": {
             "fill": {
              "color": "#C8D4E3"
             },
             "line": {
              "color": "white"
             }
            },
            "type": "table"
           }
          ]
         },
         "layout": {
          "annotationdefaults": {
           "arrowcolor": "#2a3f5f",
           "arrowhead": 0,
           "arrowwidth": 1
          },
          "coloraxis": {
           "colorbar": {
            "outlinewidth": 0,
            "ticks": ""
           }
          },
          "colorscale": {
           "diverging": [
            [
             0,
             "#8e0152"
            ],
            [
             0.1,
             "#c51b7d"
            ],
            [
             0.2,
             "#de77ae"
            ],
            [
             0.3,
             "#f1b6da"
            ],
            [
             0.4,
             "#fde0ef"
            ],
            [
             0.5,
             "#f7f7f7"
            ],
            [
             0.6,
             "#e6f5d0"
            ],
            [
             0.7,
             "#b8e186"
            ],
            [
             0.8,
             "#7fbc41"
            ],
            [
             0.9,
             "#4d9221"
            ],
            [
             1,
             "#276419"
            ]
           ],
           "sequential": [
            [
             0,
             "#0d0887"
            ],
            [
             0.1111111111111111,
             "#46039f"
            ],
            [
             0.2222222222222222,
             "#7201a8"
            ],
            [
             0.3333333333333333,
             "#9c179e"
            ],
            [
             0.4444444444444444,
             "#bd3786"
            ],
            [
             0.5555555555555556,
             "#d8576b"
            ],
            [
             0.6666666666666666,
             "#ed7953"
            ],
            [
             0.7777777777777778,
             "#fb9f3a"
            ],
            [
             0.8888888888888888,
             "#fdca26"
            ],
            [
             1,
             "#f0f921"
            ]
           ],
           "sequentialminus": [
            [
             0,
             "#0d0887"
            ],
            [
             0.1111111111111111,
             "#46039f"
            ],
            [
             0.2222222222222222,
             "#7201a8"
            ],
            [
             0.3333333333333333,
             "#9c179e"
            ],
            [
             0.4444444444444444,
             "#bd3786"
            ],
            [
             0.5555555555555556,
             "#d8576b"
            ],
            [
             0.6666666666666666,
             "#ed7953"
            ],
            [
             0.7777777777777778,
             "#fb9f3a"
            ],
            [
             0.8888888888888888,
             "#fdca26"
            ],
            [
             1,
             "#f0f921"
            ]
           ]
          },
          "colorway": [
           "#636efa",
           "#EF553B",
           "#00cc96",
           "#ab63fa",
           "#FFA15A",
           "#19d3f3",
           "#FF6692",
           "#B6E880",
           "#FF97FF",
           "#FECB52"
          ],
          "font": {
           "color": "#2a3f5f"
          },
          "geo": {
           "bgcolor": "white",
           "lakecolor": "white",
           "landcolor": "#E5ECF6",
           "showlakes": true,
           "showland": true,
           "subunitcolor": "white"
          },
          "hoverlabel": {
           "align": "left"
          },
          "hovermode": "closest",
          "mapbox": {
           "style": "light"
          },
          "paper_bgcolor": "white",
          "plot_bgcolor": "#E5ECF6",
          "polar": {
           "angularaxis": {
            "gridcolor": "white",
            "linecolor": "white",
            "ticks": ""
           },
           "bgcolor": "#E5ECF6",
           "radialaxis": {
            "gridcolor": "white",
            "linecolor": "white",
            "ticks": ""
           }
          },
          "scene": {
           "xaxis": {
            "backgroundcolor": "#E5ECF6",
            "gridcolor": "white",
            "gridwidth": 2,
            "linecolor": "white",
            "showbackground": true,
            "ticks": "",
            "zerolinecolor": "white"
           },
           "yaxis": {
            "backgroundcolor": "#E5ECF6",
            "gridcolor": "white",
            "gridwidth": 2,
            "linecolor": "white",
            "showbackground": true,
            "ticks": "",
            "zerolinecolor": "white"
           },
           "zaxis": {
            "backgroundcolor": "#E5ECF6",
            "gridcolor": "white",
            "gridwidth": 2,
            "linecolor": "white",
            "showbackground": true,
            "ticks": "",
            "zerolinecolor": "white"
           }
          },
          "shapedefaults": {
           "line": {
            "color": "#2a3f5f"
           }
          },
          "ternary": {
           "aaxis": {
            "gridcolor": "white",
            "linecolor": "white",
            "ticks": ""
           },
           "baxis": {
            "gridcolor": "white",
            "linecolor": "white",
            "ticks": ""
           },
           "bgcolor": "#E5ECF6",
           "caxis": {
            "gridcolor": "white",
            "linecolor": "white",
            "ticks": ""
           }
          },
          "title": {
           "x": 0.05
          },
          "xaxis": {
           "automargin": true,
           "gridcolor": "white",
           "linecolor": "white",
           "ticks": "",
           "title": {
            "standoff": 15
           },
           "zerolinecolor": "white",
           "zerolinewidth": 2
          },
          "yaxis": {
           "automargin": true,
           "gridcolor": "white",
           "linecolor": "white",
           "ticks": "",
           "title": {
            "standoff": 15
           },
           "zerolinecolor": "white",
           "zerolinewidth": 2
          }
         }
        },
        "title": {
         "font": {
          "size": 14
         },
         "text": "<b>Model performance</b><br>rf"
        },
        "width": 450,
        "xaxis": {
         "anchor": "y",
         "domain": [
          0,
          1
         ]
        },
        "xaxis2": {
         "anchor": "y2",
         "domain": [
          0,
          1
         ],
         "title": {
          "text": "false positive rate"
         }
        },
        "xaxis3": {
         "anchor": "y3",
         "domain": [
          0,
          1
         ],
         "range": [
          0,
          1.05
         ],
         "title": {
          "text": "recall"
         }
        },
        "yaxis": {
         "anchor": "x",
         "domain": [
          0.7777777777777778,
          1
         ]
        },
        "yaxis2": {
         "anchor": "x2",
         "domain": [
          0.3888888888888889,
          0.6111111111111112
         ],
         "title": {
          "text": "true positive rate"
         }
        },
        "yaxis3": {
         "anchor": "x3",
         "domain": [
          0,
          0.22222222222222224
         ],
         "range": [
          0,
          1.05
         ],
         "title": {
          "text": "precision"
         }
        }
       }
      },
      "text/html": [
       "<div>\n",
       "        \n",
       "        \n",
       "            <div id=\"a7998739-26b6-452d-bd2d-a4b1f017b5f9\" class=\"plotly-graph-div\" style=\"height:900px; width:450px;\"></div>\n",
       "            <script type=\"text/javascript\">\n",
       "                require([\"plotly\"], function(Plotly) {\n",
       "                    window.PLOTLYENV=window.PLOTLYENV || {};\n",
       "                    \n",
       "                if (document.getElementById(\"a7998739-26b6-452d-bd2d-a4b1f017b5f9\")) {\n",
       "                    Plotly.newPlot(\n",
       "                        'a7998739-26b6-452d-bd2d-a4b1f017b5f9',\n",
       "                        [{\"marker\": {\"color\": [\"gold\", \"lightgreen\", \"lightcoral\", \"lightskyblue\"], \"line\": {\"color\": \"#000000\", \"width\": 1.5}}, \"opacity\": 0.8, \"orientation\": \"h\", \"text\": [0.7814, 0.7906, 0.7582, 0.7741], \"textposition\": \"auto\", \"type\": \"bar\", \"x\": [0.7813765182186235, 0.7905982905982906, 0.7581967213114754, 0.7740585774058577], \"xaxis\": \"x\", \"y\": [\"Accuracy\", \"Precision\", \"Recall\", \"F1_score\"], \"yaxis\": \"y\"}, {\"fill\": \"tozeroy\", \"line\": {\"color\": \"rgb(22, 96, 167)\", \"width\": 2}, \"name\": \"Roc : \", \"type\": \"scatter\", \"x\": [0.0, 0.0, 0.0, 0.0, 0.0, 0.0, 0.0, 0.0, 0.0, 0.0, 0.0, 0.0, 0.0, 0.0, 0.0, 0.0, 0.0, 0.0, 0.004, 0.004, 0.004, 0.004, 0.004, 0.004, 0.004, 0.004, 0.004, 0.004, 0.008, 0.008, 0.008, 0.008, 0.02, 0.02, 0.02, 0.02, 0.02, 0.02, 0.024, 0.024, 0.028, 0.028, 0.028, 0.032, 0.032, 0.036, 0.036, 0.04, 0.04, 0.04, 0.04, 0.048, 0.048, 0.048, 0.048, 0.048, 0.048, 0.048, 0.056, 0.056, 0.06, 0.06, 0.06, 0.06, 0.06, 0.064, 0.064, 0.072, 0.072, 0.072, 0.072, 0.072, 0.072, 0.072, 0.072, 0.072, 0.072, 0.072, 0.072, 0.088, 0.088, 0.096, 0.096, 0.1, 0.1, 0.1, 0.104, 0.104, 0.108, 0.108, 0.112, 0.112, 0.132, 0.132, 0.132, 0.144, 0.144, 0.16, 0.16, 0.172, 0.172, 0.176, 0.176, 0.18, 0.18, 0.196, 0.196, 0.2, 0.2, 0.2, 0.2, 0.2, 0.212, 0.212, 0.212, 0.212, 0.216, 0.216, 0.236, 0.236, 0.248, 0.248, 0.272, 0.272, 0.276, 0.276, 0.3, 0.3, 0.308, 0.308, 0.316, 0.316, 0.332, 0.332, 0.34, 0.34, 0.34, 0.352, 0.352, 0.38, 0.38, 0.472, 0.472, 0.54, 0.54, 0.568, 0.568, 0.584, 0.584, 0.592, 0.592, 0.612, 0.612, 0.684, 0.684, 0.684, 0.688, 0.688, 0.7, 0.7, 0.756, 0.756, 0.764, 0.764, 0.764, 0.768, 0.768, 0.88, 0.88, 1.0], \"xaxis\": \"x2\", \"y\": [0.0, 0.004098360655737705, 0.012295081967213115, 0.020491803278688523, 0.036885245901639344, 0.045081967213114756, 0.05327868852459016, 0.05737704918032787, 0.06557377049180328, 0.06967213114754098, 0.0778688524590164, 0.09836065573770492, 0.10655737704918032, 0.12704918032786885, 0.13934426229508196, 0.14344262295081966, 0.15163934426229508, 0.1680327868852459, 0.1680327868852459, 0.18032786885245902, 0.18442622950819673, 0.19262295081967212, 0.19672131147540983, 0.20491803278688525, 0.21311475409836064, 0.22131147540983606, 0.2336065573770492, 0.25, 0.25, 0.2540983606557377, 0.2786885245901639, 0.2827868852459016, 0.2827868852459016, 0.28688524590163933, 0.29508196721311475, 0.29918032786885246, 0.3073770491803279, 0.3114754098360656, 0.3114754098360656, 0.319672131147541, 0.319672131147541, 0.3442622950819672, 0.3483606557377049, 0.3483606557377049, 0.3524590163934426, 0.3524590163934426, 0.36065573770491804, 0.36065573770491804, 0.3729508196721312, 0.38114754098360654, 0.38934426229508196, 0.38934426229508196, 0.39344262295081966, 0.4098360655737705, 0.42213114754098363, 0.4262295081967213, 0.4344262295081967, 0.45491803278688525, 0.45491803278688525, 0.46311475409836067, 0.46311475409836067, 0.4672131147540984, 0.48360655737704916, 0.4959016393442623, 0.5, 0.5, 0.5122950819672131, 0.5122950819672131, 0.5286885245901639, 0.5409836065573771, 0.5450819672131147, 0.5532786885245902, 0.5573770491803278, 0.5655737704918032, 0.5778688524590164, 0.5819672131147541, 0.5983606557377049, 0.6024590163934426, 0.6188524590163934, 0.6188524590163934, 0.6229508196721312, 0.6229508196721312, 0.6270491803278688, 0.6270491803278688, 0.6475409836065574, 0.6557377049180327, 0.6557377049180327, 0.6598360655737705, 0.6598360655737705, 0.6680327868852459, 0.6680327868852459, 0.6762295081967213, 0.6762295081967213, 0.7090163934426229, 0.7131147540983607, 0.7131147540983607, 0.7213114754098361, 0.7213114754098361, 0.7295081967213115, 0.7295081967213115, 0.7459016393442623, 0.7459016393442623, 0.75, 0.75, 0.7540983606557377, 0.7540983606557377, 0.7622950819672131, 0.7622950819672131, 0.7663934426229508, 0.7745901639344263, 0.7786885245901639, 0.7950819672131147, 0.7950819672131147, 0.7991803278688525, 0.8114754098360656, 0.8155737704918032, 0.8155737704918032, 0.819672131147541, 0.819672131147541, 0.8237704918032787, 0.8237704918032787, 0.8319672131147541, 0.8319672131147541, 0.8360655737704918, 0.8360655737704918, 0.8401639344262295, 0.8401639344262295, 0.8442622950819673, 0.8442622950819673, 0.8483606557377049, 0.8483606557377049, 0.8524590163934426, 0.8524590163934426, 0.8688524590163934, 0.8688524590163934, 0.8729508196721312, 0.8852459016393442, 0.8852459016393442, 0.889344262295082, 0.889344262295082, 0.8934426229508197, 0.8934426229508197, 0.9057377049180327, 0.9057377049180327, 0.9139344262295082, 0.9139344262295082, 0.9221311475409836, 0.9221311475409836, 0.9262295081967213, 0.9262295081967213, 0.9344262295081968, 0.9344262295081968, 0.9385245901639344, 0.9385245901639344, 0.9590163934426229, 0.9631147540983607, 0.9631147540983607, 0.9672131147540983, 0.9672131147540983, 0.9713114754098361, 0.9713114754098361, 0.9754098360655737, 0.9754098360655737, 0.9795081967213115, 0.9877049180327869, 0.9877049180327869, 0.9959016393442623, 0.9959016393442623, 1.0, 1.0], \"yaxis\": \"y2\"}, {\"line\": {\"color\": \"black\", \"dash\": \"dot\", \"width\": 1.5}, \"type\": \"scatter\", \"x\": [0, 1], \"xaxis\": \"x2\", \"y\": [0, 1], \"yaxis\": \"y2\"}, {\"fill\": \"tozeroy\", \"line\": {\"color\": \"lightcoral\", \"width\": 2}, \"name\": \"Precision[0.52586207 0.52483801 0.52597403 0.52711497 0.52826087 0.52941176\\n 0.53056769 0.53172867 0.53289474 0.53406593 0.53524229 0.53642384\\n 0.53761062 0.53880266 0.54       0.54120267 0.54241071 0.54362416\\n 0.54484305 0.54606742 0.5472973  0.54853273 0.54977376 0.55102041\\n 0.55227273 0.55353075 0.55479452 0.55606407 0.55733945 0.55862069\\n 0.55658199 0.55787037 0.55581395 0.55477855 0.55607477 0.55737705\\n 0.55633803 0.55764706 0.55896226 0.56028369 0.56161137 0.56294537\\n 0.56428571 0.56563246 0.56698565 0.56834532 0.56971154 0.57108434\\n 0.57246377 0.57384988 0.57524272 0.57420925 0.57560976 0.57701711\\n 0.57843137 0.57739558 0.57881773 0.57777778 0.5725     0.57393484\\n 0.57537688 0.5768262  0.57828283 0.57974684 0.58121827 0.5826972\\n 0.58418367 0.58567775 0.58717949 0.58868895 0.59020619 0.59173127\\n 0.59326425 0.59480519 0.59635417 0.59791123 0.59947644 0.5984252\\n 0.6        0.60158311 0.6031746  0.60477454 0.60638298 0.60427807\\n 0.60589812 0.60752688 0.606469   0.60810811 0.6097561  0.61141304\\n 0.61307902 0.6109589  0.61263736 0.61432507 0.6160221  0.61772853\\n 0.61944444 0.62116992 0.62290503 0.62078652 0.62253521 0.62429379\\n 0.62606232 0.62784091 0.62962963 0.63142857 0.63323782 0.63505747\\n 0.63688761 0.63872832 0.64057971 0.64244186 0.64431487 0.64619883\\n 0.64809384 0.65       0.6519174  0.65088757 0.64985163 0.64880952\\n 0.65074627 0.65269461 0.65465465 0.65662651 0.65861027 0.66060606\\n 0.66261398 0.66463415 0.66666667 0.66871166 0.67076923 0.67283951\\n 0.6749226  0.67701863 0.67912773 0.68125    0.68338558 0.68553459\\n 0.68769716 0.68987342 0.69206349 0.69426752 0.69648562 0.69551282\\n 0.6977492  0.7        0.70226537 0.70454545 0.70684039 0.70915033\\n 0.71147541 0.71052632 0.71287129 0.71523179 0.71760797 0.7147651\\n 0.71380471 0.71621622 0.71864407 0.71477663 0.71724138 0.71972318\\n 0.72222222 0.72473868 0.72377622 0.72631579 0.72887324 0.72791519\\n 0.73049645 0.73309609 0.73214286 0.73476703 0.73741007 0.7400722\\n 0.74275362 0.74545455 0.74817518 0.74725275 0.75       0.74907749\\n 0.75185185 0.75464684 0.75746269 0.76029963 0.76315789 0.76603774\\n 0.76425856 0.76717557 0.77011494 0.77307692 0.77220077 0.7751938\\n 0.77821012 0.78125    0.78431373 0.78740157 0.78656126 0.78968254\\n 0.78884462 0.78629032 0.7854251  0.78861789 0.79183673 0.79508197\\n 0.79166667 0.79079498 0.78902954 0.78813559 0.79148936 0.79059829\\n 0.78969957 0.79310345 0.7965368  0.8        0.80349345 0.80263158\\n 0.8061674  0.80530973 0.80888889 0.80803571 0.80717489 0.80630631\\n 0.80542986 0.80909091 0.81278539 0.81651376 0.81481481 0.81860465\\n 0.82242991 0.82629108 0.83018868 0.82857143 0.83253589 0.83653846\\n 0.84057971 0.83980583 0.83823529 0.83663366 0.835      0.83333333\\n 0.83756345 0.84183673 0.84615385 0.85051546 0.85492228 0.85340314\\n 0.85789474 0.85638298 0.86096257 0.86021505 0.86486486 0.86338798\\n 0.86263736 0.86187845 0.86111111 0.8603352  0.85955056 0.86440678\\n 0.86363636 0.86857143 0.87356322 0.87283237 0.87790698 0.88304094\\n 0.88823529 0.89349112 0.89221557 0.89090909 0.8902439  0.88888889\\n 0.8875     0.88679245 0.88461538 0.88311688 0.88235294 0.8807947\\n 0.88       0.87755102 0.87586207 0.87412587 0.88028169 0.88652482\\n 0.88405797 0.89051095 0.88970588 0.88721805 0.88549618 0.88372093\\n 0.8828125  0.88976378 0.888      0.89516129 0.90243902 0.89830508\\n 0.89655172 0.89565217 0.89285714 0.88888889 0.88785047 0.89622642\\n 0.9047619  0.90384615 0.90291262 0.9009901  0.89795918 0.90721649\\n 0.90625    0.90526316 0.91489362 0.91397849 0.92391304 0.92307692\\n 0.92134831 0.91954023 0.91764706 0.92857143 0.92682927 0.9382716\\n 0.9375     0.93589744 0.93506494 0.93333333 0.93243243 0.94520548\\n 0.95833333 0.97183099 0.97142857 0.97058824 0.96969697 0.96875\\n 0.96825397 0.98387097 0.98333333 0.98275862 0.98245614 0.98214286\\n 0.98181818 0.98113208 0.98076923 0.98039216 0.97959184 0.97916667\\n 0.97826087 0.97777778 0.97619048 1.         1.         1.\\n 1.         1.         1.         1.         1.         1.\\n 1.         1.         1.         1.         1.         1.\\n 1.         1.         1.         1.         1.         1.\\n 1.         1.         1.         1.         1.         1.\\n 1.         1.        ]\", \"type\": \"scatter\", \"x\": [1.0, 0.9959016393442623, 0.9959016393442623, 0.9959016393442623, 0.9959016393442623, 0.9959016393442623, 0.9959016393442623, 0.9959016393442623, 0.9959016393442623, 0.9959016393442623, 0.9959016393442623, 0.9959016393442623, 0.9959016393442623, 0.9959016393442623, 0.9959016393442623, 0.9959016393442623, 0.9959016393442623, 0.9959016393442623, 0.9959016393442623, 0.9959016393442623, 0.9959016393442623, 0.9959016393442623, 0.9959016393442623, 0.9959016393442623, 0.9959016393442623, 0.9959016393442623, 0.9959016393442623, 0.9959016393442623, 0.9959016393442623, 0.9959016393442623, 0.9877049180327869, 0.9877049180327869, 0.9795081967213115, 0.9754098360655737, 0.9754098360655737, 0.9754098360655737, 0.9713114754098361, 0.9713114754098361, 0.9713114754098361, 0.9713114754098361, 0.9713114754098361, 0.9713114754098361, 0.9713114754098361, 0.9713114754098361, 0.9713114754098361, 0.9713114754098361, 0.9713114754098361, 0.9713114754098361, 0.9713114754098361, 0.9713114754098361, 0.9713114754098361, 0.9672131147540983, 0.9672131147540983, 0.9672131147540983, 0.9672131147540983, 0.9631147540983607, 0.9631147540983607, 0.9590163934426229, 0.9385245901639344, 0.9385245901639344, 0.9385245901639344, 0.9385245901639344, 0.9385245901639344, 0.9385245901639344, 0.9385245901639344, 0.9385245901639344, 0.9385245901639344, 0.9385245901639344, 0.9385245901639344, 0.9385245901639344, 0.9385245901639344, 0.9385245901639344, 0.9385245901639344, 0.9385245901639344, 0.9385245901639344, 0.9385245901639344, 0.9385245901639344, 0.9344262295081968, 0.9344262295081968, 0.9344262295081968, 0.9344262295081968, 0.9344262295081968, 0.9344262295081968, 0.9262295081967213, 0.9262295081967213, 0.9262295081967213, 0.9221311475409836, 0.9221311475409836, 0.9221311475409836, 0.9221311475409836, 0.9221311475409836, 0.9139344262295082, 0.9139344262295082, 0.9139344262295082, 0.9139344262295082, 0.9139344262295082, 0.9139344262295082, 0.9139344262295082, 0.9139344262295082, 0.9057377049180327, 0.9057377049180327, 0.9057377049180327, 0.9057377049180327, 0.9057377049180327, 0.9057377049180327, 0.9057377049180327, 0.9057377049180327, 0.9057377049180327, 0.9057377049180327, 0.9057377049180327, 0.9057377049180327, 0.9057377049180327, 0.9057377049180327, 0.9057377049180327, 0.9057377049180327, 0.9057377049180327, 0.9057377049180327, 0.9016393442622951, 0.8975409836065574, 0.8934426229508197, 0.8934426229508197, 0.8934426229508197, 0.8934426229508197, 0.8934426229508197, 0.8934426229508197, 0.8934426229508197, 0.8934426229508197, 0.8934426229508197, 0.8934426229508197, 0.8934426229508197, 0.8934426229508197, 0.8934426229508197, 0.8934426229508197, 0.8934426229508197, 0.8934426229508197, 0.8934426229508197, 0.8934426229508197, 0.8934426229508197, 0.8934426229508197, 0.8934426229508197, 0.8934426229508197, 0.8934426229508197, 0.8934426229508197, 0.889344262295082, 0.889344262295082, 0.889344262295082, 0.889344262295082, 0.889344262295082, 0.889344262295082, 0.889344262295082, 0.889344262295082, 0.8852459016393442, 0.8852459016393442, 0.8852459016393442, 0.8852459016393442, 0.8729508196721312, 0.8688524590163934, 0.8688524590163934, 0.8688524590163934, 0.8524590163934426, 0.8524590163934426, 0.8524590163934426, 0.8524590163934426, 0.8524590163934426, 0.8483606557377049, 0.8483606557377049, 0.8483606557377049, 0.8442622950819673, 0.8442622950819673, 0.8442622950819673, 0.8401639344262295, 0.8401639344262295, 0.8401639344262295, 0.8401639344262295, 0.8401639344262295, 0.8401639344262295, 0.8401639344262295, 0.8360655737704918, 0.8360655737704918, 0.8319672131147541, 0.8319672131147541, 0.8319672131147541, 0.8319672131147541, 0.8319672131147541, 0.8319672131147541, 0.8319672131147541, 0.8237704918032787, 0.8237704918032787, 0.8237704918032787, 0.8237704918032787, 0.819672131147541, 0.819672131147541, 0.819672131147541, 0.819672131147541, 0.819672131147541, 0.819672131147541, 0.8155737704918032, 0.8155737704918032, 0.8114754098360656, 0.7991803278688525, 0.7950819672131147, 0.7950819672131147, 0.7950819672131147, 0.7950819672131147, 0.7786885245901639, 0.7745901639344263, 0.7663934426229508, 0.7622950819672131, 0.7622950819672131, 0.7581967213114754, 0.7540983606557377, 0.7540983606557377, 0.7540983606557377, 0.7540983606557377, 0.7540983606557377, 0.75, 0.75, 0.7459016393442623, 0.7459016393442623, 0.7418032786885246, 0.7377049180327869, 0.7336065573770492, 0.7295081967213115, 0.7295081967213115, 0.7295081967213115, 0.7295081967213115, 0.7213114754098361, 0.7213114754098361, 0.7213114754098361, 0.7213114754098361, 0.7213114754098361, 0.7131147540983607, 0.7131147540983607, 0.7131147540983607, 0.7131147540983607, 0.7090163934426229, 0.7008196721311475, 0.6926229508196722, 0.6844262295081968, 0.6762295081967213, 0.6762295081967213, 0.6762295081967213, 0.6762295081967213, 0.6762295081967213, 0.6762295081967213, 0.6680327868852459, 0.6680327868852459, 0.6598360655737705, 0.6598360655737705, 0.6557377049180327, 0.6557377049180327, 0.6475409836065574, 0.6434426229508197, 0.639344262295082, 0.6352459016393442, 0.6311475409836066, 0.6270491803278688, 0.6270491803278688, 0.6229508196721312, 0.6229508196721312, 0.6229508196721312, 0.6188524590163934, 0.6188524590163934, 0.6188524590163934, 0.6188524590163934, 0.6188524590163934, 0.610655737704918, 0.6024590163934426, 0.5983606557377049, 0.5901639344262295, 0.5819672131147541, 0.5778688524590164, 0.5655737704918032, 0.5573770491803278, 0.5532786885245902, 0.5450819672131147, 0.5409836065573771, 0.5286885245901639, 0.5204918032786885, 0.5122950819672131, 0.5122950819672131, 0.5122950819672131, 0.5, 0.5, 0.4959016393442623, 0.48360655737704916, 0.47540983606557374, 0.4672131147540984, 0.46311475409836067, 0.46311475409836067, 0.45491803278688525, 0.45491803278688525, 0.45491803278688525, 0.4344262295081967, 0.4262295081967213, 0.42213114754098363, 0.4098360655737705, 0.39344262295081966, 0.38934426229508196, 0.38934426229508196, 0.38934426229508196, 0.38524590163934425, 0.38114754098360654, 0.3729508196721312, 0.36065573770491804, 0.36065573770491804, 0.35655737704918034, 0.3524590163934426, 0.3524590163934426, 0.3483606557377049, 0.3483606557377049, 0.3442622950819672, 0.3360655737704918, 0.32786885245901637, 0.319672131147541, 0.319672131147541, 0.3114754098360656, 0.3114754098360656, 0.3073770491803279, 0.29918032786885246, 0.29508196721311475, 0.28688524590163933, 0.2827868852459016, 0.2827868852459016, 0.2827868852459016, 0.2827868852459016, 0.2786885245901639, 0.27049180327868855, 0.26229508196721313, 0.2540983606557377, 0.25, 0.25, 0.24180327868852458, 0.2336065573770492, 0.22950819672131148, 0.22540983606557377, 0.22131147540983606, 0.21311475409836064, 0.20901639344262296, 0.20491803278688525, 0.19672131147540983, 0.19262295081967212, 0.18442622950819673, 0.18032786885245902, 0.1680327868852459, 0.1680327868852459, 0.15163934426229508, 0.14344262295081966, 0.13934426229508196, 0.12704918032786885, 0.12295081967213115, 0.11885245901639344, 0.11475409836065574, 0.11065573770491803, 0.10655737704918032, 0.09836065573770492, 0.0942622950819672, 0.09016393442622951, 0.0860655737704918, 0.08196721311475409, 0.0778688524590164, 0.06967213114754098, 0.06557377049180328, 0.05737704918032787, 0.05327868852459016, 0.045081967213114756, 0.040983606557377046, 0.036885245901639344, 0.028688524590163935, 0.020491803278688523, 0.01639344262295082, 0.012295081967213115, 0.004098360655737705, 0.0], \"xaxis\": \"x3\", \"y\": [0.5258620689655172, 0.5248380129589633, 0.525974025974026, 0.527114967462039, 0.5282608695652173, 0.5294117647058824, 0.5305676855895196, 0.5317286652078774, 0.5328947368421053, 0.5340659340659341, 0.5352422907488987, 0.5364238410596026, 0.5376106194690266, 0.5388026607538803, 0.54, 0.5412026726057907, 0.5424107142857143, 0.5436241610738255, 0.5448430493273543, 0.5460674157303371, 0.5472972972972973, 0.5485327313769752, 0.5497737556561086, 0.5510204081632653, 0.5522727272727272, 0.5535307517084282, 0.5547945205479452, 0.5560640732265446, 0.5573394495412844, 0.5586206896551724, 0.5565819861431871, 0.5578703703703703, 0.5558139534883721, 0.5547785547785548, 0.5560747663551402, 0.5573770491803278, 0.5563380281690141, 0.5576470588235294, 0.5589622641509434, 0.5602836879432624, 0.5616113744075829, 0.5629453681710214, 0.5642857142857143, 0.5656324582338902, 0.5669856459330144, 0.5683453237410072, 0.5697115384615384, 0.5710843373493976, 0.572463768115942, 0.5738498789346247, 0.5752427184466019, 0.5742092457420924, 0.5756097560975609, 0.5770171149144254, 0.5784313725490197, 0.5773955773955773, 0.5788177339901478, 0.5777777777777777, 0.5725, 0.5739348370927319, 0.5753768844221105, 0.5768261964735516, 0.5782828282828283, 0.579746835443038, 0.5812182741116751, 0.5826972010178118, 0.5841836734693877, 0.5856777493606138, 0.5871794871794872, 0.5886889460154242, 0.5902061855670103, 0.5917312661498708, 0.5932642487046632, 0.5948051948051948, 0.5963541666666666, 0.597911227154047, 0.599476439790576, 0.5984251968503937, 0.6, 0.6015831134564644, 0.6031746031746031, 0.6047745358090185, 0.6063829787234043, 0.6042780748663101, 0.6058981233243967, 0.6075268817204301, 0.6064690026954178, 0.6081081081081081, 0.6097560975609756, 0.6114130434782609, 0.6130790190735694, 0.6109589041095891, 0.6126373626373627, 0.6143250688705234, 0.6160220994475138, 0.6177285318559557, 0.6194444444444445, 0.6211699164345403, 0.6229050279329609, 0.6207865168539326, 0.6225352112676056, 0.6242937853107344, 0.6260623229461756, 0.6278409090909091, 0.6296296296296297, 0.6314285714285715, 0.6332378223495702, 0.6350574712643678, 0.6368876080691642, 0.638728323699422, 0.6405797101449275, 0.6424418604651163, 0.6443148688046647, 0.6461988304093568, 0.6480938416422287, 0.65, 0.6519174041297935, 0.650887573964497, 0.6498516320474778, 0.6488095238095238, 0.6507462686567164, 0.6526946107784432, 0.6546546546546547, 0.6566265060240963, 0.6586102719033232, 0.6606060606060606, 0.662613981762918, 0.6646341463414634, 0.6666666666666666, 0.6687116564417178, 0.6707692307692308, 0.6728395061728395, 0.6749226006191951, 0.6770186335403726, 0.6791277258566978, 0.68125, 0.6833855799373041, 0.6855345911949685, 0.6876971608832808, 0.689873417721519, 0.692063492063492, 0.6942675159235668, 0.6964856230031949, 0.6955128205128205, 0.6977491961414791, 0.7, 0.7022653721682848, 0.7045454545454546, 0.7068403908794788, 0.7091503267973857, 0.7114754098360656, 0.7105263157894737, 0.7128712871287128, 0.7152317880794702, 0.717607973421927, 0.714765100671141, 0.7138047138047138, 0.7162162162162162, 0.7186440677966102, 0.7147766323024055, 0.7172413793103448, 0.7197231833910035, 0.7222222222222222, 0.7247386759581882, 0.7237762237762237, 0.7263157894736842, 0.7288732394366197, 0.7279151943462897, 0.7304964539007093, 0.7330960854092526, 0.7321428571428571, 0.7347670250896058, 0.737410071942446, 0.740072202166065, 0.7427536231884058, 0.7454545454545455, 0.7481751824817519, 0.7472527472527473, 0.75, 0.7490774907749077, 0.7518518518518519, 0.7546468401486989, 0.7574626865671642, 0.7602996254681648, 0.7631578947368421, 0.7660377358490567, 0.7642585551330798, 0.767175572519084, 0.7701149425287356, 0.7730769230769231, 0.7722007722007722, 0.7751937984496124, 0.7782101167315175, 0.78125, 0.7843137254901961, 0.7874015748031497, 0.7865612648221344, 0.7896825396825397, 0.7888446215139442, 0.7862903225806451, 0.7854251012145749, 0.7886178861788617, 0.7918367346938775, 0.7950819672131147, 0.7916666666666666, 0.7907949790794979, 0.7890295358649789, 0.788135593220339, 0.7914893617021277, 0.7905982905982906, 0.7896995708154506, 0.7931034482758621, 0.7965367965367965, 0.8, 0.8034934497816594, 0.8026315789473685, 0.8061674008810573, 0.8053097345132744, 0.8088888888888889, 0.8080357142857143, 0.8071748878923767, 0.8063063063063063, 0.8054298642533937, 0.8090909090909091, 0.8127853881278538, 0.8165137614678899, 0.8148148148148148, 0.8186046511627907, 0.822429906542056, 0.8262910798122066, 0.8301886792452831, 0.8285714285714286, 0.8325358851674641, 0.8365384615384616, 0.8405797101449275, 0.8398058252427184, 0.8382352941176471, 0.8366336633663366, 0.835, 0.8333333333333334, 0.8375634517766497, 0.8418367346938775, 0.8461538461538461, 0.8505154639175257, 0.8549222797927462, 0.8534031413612565, 0.8578947368421053, 0.8563829787234043, 0.8609625668449198, 0.8602150537634409, 0.8648648648648649, 0.8633879781420765, 0.8626373626373627, 0.861878453038674, 0.8611111111111112, 0.8603351955307262, 0.8595505617977528, 0.864406779661017, 0.8636363636363636, 0.8685714285714285, 0.8735632183908046, 0.8728323699421965, 0.877906976744186, 0.8830409356725146, 0.888235294117647, 0.893491124260355, 0.8922155688622755, 0.8909090909090909, 0.8902439024390244, 0.8888888888888888, 0.8875, 0.8867924528301887, 0.8846153846153846, 0.8831168831168831, 0.8823529411764706, 0.8807947019867549, 0.88, 0.8775510204081632, 0.8758620689655172, 0.8741258741258742, 0.8802816901408451, 0.8865248226950354, 0.8840579710144928, 0.8905109489051095, 0.8897058823529411, 0.8872180451127819, 0.8854961832061069, 0.8837209302325582, 0.8828125, 0.889763779527559, 0.888, 0.8951612903225806, 0.9024390243902439, 0.8983050847457628, 0.896551724137931, 0.8956521739130435, 0.8928571428571429, 0.8888888888888888, 0.8878504672897196, 0.8962264150943396, 0.9047619047619048, 0.9038461538461539, 0.9029126213592233, 0.900990099009901, 0.8979591836734694, 0.9072164948453608, 0.90625, 0.9052631578947369, 0.9148936170212766, 0.9139784946236559, 0.9239130434782609, 0.9230769230769231, 0.9213483146067416, 0.9195402298850575, 0.9176470588235294, 0.9285714285714286, 0.926829268292683, 0.9382716049382716, 0.9375, 0.9358974358974359, 0.935064935064935, 0.9333333333333333, 0.9324324324324325, 0.9452054794520548, 0.9583333333333334, 0.971830985915493, 0.9714285714285714, 0.9705882352941176, 0.9696969696969697, 0.96875, 0.9682539682539683, 0.9838709677419355, 0.9833333333333333, 0.9827586206896551, 0.9824561403508771, 0.9821428571428571, 0.9818181818181818, 0.9811320754716981, 0.9807692307692307, 0.9803921568627451, 0.9795918367346939, 0.9791666666666666, 0.9782608695652174, 0.9777777777777777, 0.9761904761904762, 1.0, 1.0, 1.0, 1.0, 1.0, 1.0, 1.0, 1.0, 1.0, 1.0, 1.0, 1.0, 1.0, 1.0, 1.0, 1.0, 1.0, 1.0, 1.0, 1.0, 1.0, 1.0, 1.0, 1.0, 1.0, 1.0, 1.0, 1.0, 1.0], \"yaxis\": \"y3\"}],\n",
       "                        {\"annotations\": [{\"font\": {\"size\": 16}, \"showarrow\": false, \"text\": \"Metrics\", \"x\": 0.5, \"xanchor\": \"center\", \"xref\": \"paper\", \"y\": 1.0, \"yanchor\": \"bottom\", \"yref\": \"paper\"}, {\"font\": {\"size\": 16}, \"showarrow\": false, \"text\": \"ROC curve (0.859)\", \"x\": 0.5, \"xanchor\": \"center\", \"xref\": \"paper\", \"y\": 0.6111111111111112, \"yanchor\": \"bottom\", \"yref\": \"paper\"}, {\"font\": {\"size\": 16}, \"showarrow\": false, \"text\": \"Precision - Recall curve\", \"x\": 0.5, \"xanchor\": \"center\", \"xref\": \"paper\", \"y\": 0.22222222222222224, \"yanchor\": \"bottom\", \"yref\": \"paper\"}], \"autosize\": false, \"height\": 900, \"margin\": {\"b\": 195}, \"paper_bgcolor\": \"rgba(240,240,240, 0.95)\", \"plot_bgcolor\": \"rgba(240,240,240, 0.95)\", \"showlegend\": false, \"template\": {\"data\": {\"bar\": [{\"error_x\": {\"color\": \"#2a3f5f\"}, \"error_y\": {\"color\": \"#2a3f5f\"}, \"marker\": {\"line\": {\"color\": \"#E5ECF6\", \"width\": 0.5}}, \"type\": \"bar\"}], \"barpolar\": [{\"marker\": {\"line\": {\"color\": \"#E5ECF6\", \"width\": 0.5}}, \"type\": \"barpolar\"}], \"carpet\": [{\"aaxis\": {\"endlinecolor\": \"#2a3f5f\", \"gridcolor\": \"white\", \"linecolor\": \"white\", \"minorgridcolor\": \"white\", \"startlinecolor\": \"#2a3f5f\"}, \"baxis\": {\"endlinecolor\": \"#2a3f5f\", \"gridcolor\": \"white\", \"linecolor\": \"white\", \"minorgridcolor\": \"white\", \"startlinecolor\": \"#2a3f5f\"}, \"type\": \"carpet\"}], \"choropleth\": [{\"colorbar\": {\"outlinewidth\": 0, \"ticks\": \"\"}, \"type\": \"choropleth\"}], \"contour\": [{\"colorbar\": {\"outlinewidth\": 0, \"ticks\": \"\"}, \"colorscale\": [[0.0, \"#0d0887\"], [0.1111111111111111, \"#46039f\"], [0.2222222222222222, \"#7201a8\"], [0.3333333333333333, \"#9c179e\"], [0.4444444444444444, \"#bd3786\"], [0.5555555555555556, \"#d8576b\"], [0.6666666666666666, \"#ed7953\"], [0.7777777777777778, \"#fb9f3a\"], [0.8888888888888888, \"#fdca26\"], [1.0, \"#f0f921\"]], \"type\": \"contour\"}], \"contourcarpet\": [{\"colorbar\": {\"outlinewidth\": 0, \"ticks\": \"\"}, \"type\": \"contourcarpet\"}], \"heatmap\": [{\"colorbar\": {\"outlinewidth\": 0, \"ticks\": \"\"}, \"colorscale\": [[0.0, \"#0d0887\"], [0.1111111111111111, \"#46039f\"], [0.2222222222222222, \"#7201a8\"], [0.3333333333333333, \"#9c179e\"], [0.4444444444444444, \"#bd3786\"], [0.5555555555555556, \"#d8576b\"], [0.6666666666666666, \"#ed7953\"], [0.7777777777777778, \"#fb9f3a\"], [0.8888888888888888, \"#fdca26\"], [1.0, \"#f0f921\"]], \"type\": \"heatmap\"}], \"heatmapgl\": [{\"colorbar\": {\"outlinewidth\": 0, \"ticks\": \"\"}, \"colorscale\": [[0.0, \"#0d0887\"], [0.1111111111111111, \"#46039f\"], [0.2222222222222222, \"#7201a8\"], [0.3333333333333333, \"#9c179e\"], [0.4444444444444444, \"#bd3786\"], [0.5555555555555556, \"#d8576b\"], [0.6666666666666666, \"#ed7953\"], [0.7777777777777778, \"#fb9f3a\"], [0.8888888888888888, \"#fdca26\"], [1.0, \"#f0f921\"]], \"type\": \"heatmapgl\"}], \"histogram\": [{\"marker\": {\"colorbar\": {\"outlinewidth\": 0, \"ticks\": \"\"}}, \"type\": \"histogram\"}], \"histogram2d\": [{\"colorbar\": {\"outlinewidth\": 0, \"ticks\": \"\"}, \"colorscale\": [[0.0, \"#0d0887\"], [0.1111111111111111, \"#46039f\"], [0.2222222222222222, \"#7201a8\"], [0.3333333333333333, \"#9c179e\"], [0.4444444444444444, \"#bd3786\"], [0.5555555555555556, \"#d8576b\"], [0.6666666666666666, \"#ed7953\"], [0.7777777777777778, \"#fb9f3a\"], [0.8888888888888888, \"#fdca26\"], [1.0, \"#f0f921\"]], \"type\": \"histogram2d\"}], \"histogram2dcontour\": [{\"colorbar\": {\"outlinewidth\": 0, \"ticks\": \"\"}, \"colorscale\": [[0.0, \"#0d0887\"], [0.1111111111111111, \"#46039f\"], [0.2222222222222222, \"#7201a8\"], [0.3333333333333333, \"#9c179e\"], [0.4444444444444444, \"#bd3786\"], [0.5555555555555556, \"#d8576b\"], [0.6666666666666666, \"#ed7953\"], [0.7777777777777778, \"#fb9f3a\"], [0.8888888888888888, \"#fdca26\"], [1.0, \"#f0f921\"]], \"type\": \"histogram2dcontour\"}], \"mesh3d\": [{\"colorbar\": {\"outlinewidth\": 0, \"ticks\": \"\"}, \"type\": \"mesh3d\"}], \"parcoords\": [{\"line\": {\"colorbar\": {\"outlinewidth\": 0, \"ticks\": \"\"}}, \"type\": \"parcoords\"}], \"pie\": [{\"automargin\": true, \"type\": \"pie\"}], \"scatter\": [{\"marker\": {\"colorbar\": {\"outlinewidth\": 0, \"ticks\": \"\"}}, \"type\": \"scatter\"}], \"scatter3d\": [{\"line\": {\"colorbar\": {\"outlinewidth\": 0, \"ticks\": \"\"}}, \"marker\": {\"colorbar\": {\"outlinewidth\": 0, \"ticks\": \"\"}}, \"type\": \"scatter3d\"}], \"scattercarpet\": [{\"marker\": {\"colorbar\": {\"outlinewidth\": 0, \"ticks\": \"\"}}, \"type\": \"scattercarpet\"}], \"scattergeo\": [{\"marker\": {\"colorbar\": {\"outlinewidth\": 0, \"ticks\": \"\"}}, \"type\": \"scattergeo\"}], \"scattergl\": [{\"marker\": {\"colorbar\": {\"outlinewidth\": 0, \"ticks\": \"\"}}, \"type\": \"scattergl\"}], \"scattermapbox\": [{\"marker\": {\"colorbar\": {\"outlinewidth\": 0, \"ticks\": \"\"}}, \"type\": \"scattermapbox\"}], \"scatterpolar\": [{\"marker\": {\"colorbar\": {\"outlinewidth\": 0, \"ticks\": \"\"}}, \"type\": \"scatterpolar\"}], \"scatterpolargl\": [{\"marker\": {\"colorbar\": {\"outlinewidth\": 0, \"ticks\": \"\"}}, \"type\": \"scatterpolargl\"}], \"scatterternary\": [{\"marker\": {\"colorbar\": {\"outlinewidth\": 0, \"ticks\": \"\"}}, \"type\": \"scatterternary\"}], \"surface\": [{\"colorbar\": {\"outlinewidth\": 0, \"ticks\": \"\"}, \"colorscale\": [[0.0, \"#0d0887\"], [0.1111111111111111, \"#46039f\"], [0.2222222222222222, \"#7201a8\"], [0.3333333333333333, \"#9c179e\"], [0.4444444444444444, \"#bd3786\"], [0.5555555555555556, \"#d8576b\"], [0.6666666666666666, \"#ed7953\"], [0.7777777777777778, \"#fb9f3a\"], [0.8888888888888888, \"#fdca26\"], [1.0, \"#f0f921\"]], \"type\": \"surface\"}], \"table\": [{\"cells\": {\"fill\": {\"color\": \"#EBF0F8\"}, \"line\": {\"color\": \"white\"}}, \"header\": {\"fill\": {\"color\": \"#C8D4E3\"}, \"line\": {\"color\": \"white\"}}, \"type\": \"table\"}]}, \"layout\": {\"annotationdefaults\": {\"arrowcolor\": \"#2a3f5f\", \"arrowhead\": 0, \"arrowwidth\": 1}, \"coloraxis\": {\"colorbar\": {\"outlinewidth\": 0, \"ticks\": \"\"}}, \"colorscale\": {\"diverging\": [[0, \"#8e0152\"], [0.1, \"#c51b7d\"], [0.2, \"#de77ae\"], [0.3, \"#f1b6da\"], [0.4, \"#fde0ef\"], [0.5, \"#f7f7f7\"], [0.6, \"#e6f5d0\"], [0.7, \"#b8e186\"], [0.8, \"#7fbc41\"], [0.9, \"#4d9221\"], [1, \"#276419\"]], \"sequential\": [[0.0, \"#0d0887\"], [0.1111111111111111, \"#46039f\"], [0.2222222222222222, \"#7201a8\"], [0.3333333333333333, \"#9c179e\"], [0.4444444444444444, \"#bd3786\"], [0.5555555555555556, \"#d8576b\"], [0.6666666666666666, \"#ed7953\"], [0.7777777777777778, \"#fb9f3a\"], [0.8888888888888888, \"#fdca26\"], [1.0, \"#f0f921\"]], \"sequentialminus\": [[0.0, \"#0d0887\"], [0.1111111111111111, \"#46039f\"], [0.2222222222222222, \"#7201a8\"], [0.3333333333333333, \"#9c179e\"], [0.4444444444444444, \"#bd3786\"], [0.5555555555555556, \"#d8576b\"], [0.6666666666666666, \"#ed7953\"], [0.7777777777777778, \"#fb9f3a\"], [0.8888888888888888, \"#fdca26\"], [1.0, \"#f0f921\"]]}, \"colorway\": [\"#636efa\", \"#EF553B\", \"#00cc96\", \"#ab63fa\", \"#FFA15A\", \"#19d3f3\", \"#FF6692\", \"#B6E880\", \"#FF97FF\", \"#FECB52\"], \"font\": {\"color\": \"#2a3f5f\"}, \"geo\": {\"bgcolor\": \"white\", \"lakecolor\": \"white\", \"landcolor\": \"#E5ECF6\", \"showlakes\": true, \"showland\": true, \"subunitcolor\": \"white\"}, \"hoverlabel\": {\"align\": \"left\"}, \"hovermode\": \"closest\", \"mapbox\": {\"style\": \"light\"}, \"paper_bgcolor\": \"white\", \"plot_bgcolor\": \"#E5ECF6\", \"polar\": {\"angularaxis\": {\"gridcolor\": \"white\", \"linecolor\": \"white\", \"ticks\": \"\"}, \"bgcolor\": \"#E5ECF6\", \"radialaxis\": {\"gridcolor\": \"white\", \"linecolor\": \"white\", \"ticks\": \"\"}}, \"scene\": {\"xaxis\": {\"backgroundcolor\": \"#E5ECF6\", \"gridcolor\": \"white\", \"gridwidth\": 2, \"linecolor\": \"white\", \"showbackground\": true, \"ticks\": \"\", \"zerolinecolor\": \"white\"}, \"yaxis\": {\"backgroundcolor\": \"#E5ECF6\", \"gridcolor\": \"white\", \"gridwidth\": 2, \"linecolor\": \"white\", \"showbackground\": true, \"ticks\": \"\", \"zerolinecolor\": \"white\"}, \"zaxis\": {\"backgroundcolor\": \"#E5ECF6\", \"gridcolor\": \"white\", \"gridwidth\": 2, \"linecolor\": \"white\", \"showbackground\": true, \"ticks\": \"\", \"zerolinecolor\": \"white\"}}, \"shapedefaults\": {\"line\": {\"color\": \"#2a3f5f\"}}, \"ternary\": {\"aaxis\": {\"gridcolor\": \"white\", \"linecolor\": \"white\", \"ticks\": \"\"}, \"baxis\": {\"gridcolor\": \"white\", \"linecolor\": \"white\", \"ticks\": \"\"}, \"bgcolor\": \"#E5ECF6\", \"caxis\": {\"gridcolor\": \"white\", \"linecolor\": \"white\", \"ticks\": \"\"}}, \"title\": {\"x\": 0.05}, \"xaxis\": {\"automargin\": true, \"gridcolor\": \"white\", \"linecolor\": \"white\", \"ticks\": \"\", \"title\": {\"standoff\": 15}, \"zerolinecolor\": \"white\", \"zerolinewidth\": 2}, \"yaxis\": {\"automargin\": true, \"gridcolor\": \"white\", \"linecolor\": \"white\", \"ticks\": \"\", \"title\": {\"standoff\": 15}, \"zerolinecolor\": \"white\", \"zerolinewidth\": 2}}}, \"title\": {\"font\": {\"size\": 14}, \"text\": \"<b>Model performance</b><br>rf\"}, \"width\": 450, \"xaxis\": {\"anchor\": \"y\", \"domain\": [0.0, 1.0]}, \"xaxis2\": {\"anchor\": \"y2\", \"domain\": [0.0, 1.0], \"title\": {\"text\": \"false positive rate\"}}, \"xaxis3\": {\"anchor\": \"y3\", \"domain\": [0.0, 1.0], \"range\": [0, 1.05], \"title\": {\"text\": \"recall\"}}, \"yaxis\": {\"anchor\": \"x\", \"domain\": [0.7777777777777778, 1.0]}, \"yaxis2\": {\"anchor\": \"x2\", \"domain\": [0.3888888888888889, 0.6111111111111112], \"title\": {\"text\": \"true positive rate\"}}, \"yaxis3\": {\"anchor\": \"x3\", \"domain\": [0.0, 0.22222222222222224], \"range\": [0, 1.05], \"title\": {\"text\": \"precision\"}}},\n",
       "                        {\"responsive\": true}\n",
       "                    ).then(function(){\n",
       "                            \n",
       "var gd = document.getElementById('a7998739-26b6-452d-bd2d-a4b1f017b5f9');\n",
       "var x = new MutationObserver(function (mutations, observer) {{\n",
       "        var display = window.getComputedStyle(gd).display;\n",
       "        if (!display || display === 'none') {{\n",
       "            console.log([gd, 'removed!']);\n",
       "            Plotly.purge(gd);\n",
       "            observer.disconnect();\n",
       "        }}\n",
       "}});\n",
       "\n",
       "// Listen for the removal of the full notebook cells\n",
       "var notebookContainer = gd.closest('#notebook-container');\n",
       "if (notebookContainer) {{\n",
       "    x.observe(notebookContainer, {childList: true});\n",
       "}}\n",
       "\n",
       "// Listen for the clearing of the current output cell\n",
       "var outputEl = gd.closest('.output');\n",
       "if (outputEl) {{\n",
       "    x.observe(outputEl, {childList: true});\n",
       "}}\n",
       "\n",
       "                        })\n",
       "                };\n",
       "                });\n",
       "            </script>\n",
       "        </div>"
      ]
     },
     "metadata": {},
     "output_type": "display_data"
    }
   ],
   "source": [
    "y_pred = rf.predict(test)\n",
    "y_score = rf.predict_proba(test)[:,1]\n",
    "\n",
    "model_performance_plot('rf')"
   ]
  },
  {
   "cell_type": "code",
   "execution_count": 79,
   "metadata": {},
   "outputs": [
    {
     "data": {
      "image/png": "[encoded data removed]",
      "text/plain": [
       "<Figure size 576x576 with 1 Axes>"
      ]
     },
     "metadata": {
      "needs_background": "light"
     },
     "output_type": "display_data"
    },
    {
     "data": {
      "application/vnd.plotly.v1+json": {
       "config": {
        "plotlyServerURL": "https://plot.ly"
       },
       "data": [
        {
         "colorscale": [
          [
           0,
           "#440154"
          ],
          [
           0.1111111111111111,
           "#482878"
          ],
          [
           0.2222222222222222,
           "#3e4989"
          ],
          [
           0.3333333333333333,
           "#31688e"
          ],
          [
           0.4444444444444444,
           "#26828e"
          ],
          [
           0.5555555555555556,
           "#1f9e89"
          ],
          [
           0.6666666666666666,
           "#35b779"
          ],
          [
           0.7777777777777778,
           "#6ece58"
          ],
          [
           0.8888888888888888,
           "#b5de2b"
          ],
          [
           1,
           "#fde725"
          ]
         ],
         "hoverinfo": "z",
         "reversescale": false,
         "showscale": false,
         "type": "heatmap",
         "x": [
          "No (pred)",
          "Yes (pred)"
         ],
         "xgap": 2,
         "y": [
          "No (Actual)",
          "Yes (Actual)"
         ],
         "ygap": 2,
         "z": [
          [
           201,
           49
          ],
          [
           59,
           185
          ]
         ]
        }
       ],
       "layout": {
        "annotations": [
         {
          "font": {
           "color": "#000000"
          },
          "showarrow": false,
          "text": "201",
          "x": "No (pred)",
          "xref": "x",
          "y": "No (Actual)",
          "yref": "y"
         },
         {
          "font": {
           "color": "#FFFFFF"
          },
          "showarrow": false,
          "text": "49",
          "x": "Yes (pred)",
          "xref": "x",
          "y": "No (Actual)",
          "yref": "y"
         },
         {
          "font": {
           "color": "#FFFFFF"
          },
          "showarrow": false,
          "text": "59",
          "x": "No (pred)",
          "xref": "x",
          "y": "Yes (Actual)",
          "yref": "y"
         },
         {
          "font": {
           "color": "#000000"
          },
          "showarrow": false,
          "text": "185",
          "x": "Yes (pred)",
          "xref": "x",
          "y": "Yes (Actual)",
          "yref": "y"
         }
        ],
        "autosize": true,
        "height": 450,
        "margin": {
         "b": 195
        },
        "paper_bgcolor": "rgba(240,240,240, 0.95)",
        "plot_bgcolor": "rgba(240,240,240, 0.95)",
        "showlegend": false,
        "template": {
         "data": {
          "bar": [
           {
            "error_x": {
             "color": "#2a3f5f"
            },
            "error_y": {
             "color": "#2a3f5f"
            },
            "marker": {
             "line": {
              "color": "#E5ECF6",
              "width": 0.5
             }
            },
            "type": "bar"
           }
          ],
          "barpolar": [
           {
            "marker": {
             "line": {
              "color": "#E5ECF6",
              "width": 0.5
             }
            },
            "type": "barpolar"
           }
          ],
          "carpet": [
           {
            "aaxis": {
             "endlinecolor": "#2a3f5f",
             "gridcolor": "white",
             "linecolor": "white",
             "minorgridcolor": "white",
             "startlinecolor": "#2a3f5f"
            },
            "baxis": {
             "endlinecolor": "#2a3f5f",
             "gridcolor": "white",
             "linecolor": "white",
             "minorgridcolor": "white",
             "startlinecolor": "#2a3f5f"
            },
            "type": "carpet"
           }
          ],
          "choropleth": [
           {
            "colorbar": {
             "outlinewidth": 0,
             "ticks": ""
            },
            "type": "choropleth"
           }
          ],
          "contour": [
           {
            "colorbar": {
             "outlinewidth": 0,
             "ticks": ""
            },
            "colorscale": [
             [
              0,
              "#0d0887"
             ],
             [
              0.1111111111111111,
              "#46039f"
             ],
             [
              0.2222222222222222,
              "#7201a8"
             ],
             [
              0.3333333333333333,
              "#9c179e"
             ],
             [
              0.4444444444444444,
              "#bd3786"
             ],
             [
              0.5555555555555556,
              "#d8576b"
             ],
             [
              0.6666666666666666,
              "#ed7953"
             ],
             [
              0.7777777777777778,
              "#fb9f3a"
             ],
             [
              0.8888888888888888,
              "#fdca26"
             ],
             [
              1,
              "#f0f921"
             ]
            ],
            "type": "contour"
           }
          ],
          "contourcarpet": [
           {
            "colorbar": {
             "outlinewidth": 0,
             "ticks": ""
            },
            "type": "contourcarpet"
           }
          ],
          "heatmap": [
           {
            "colorbar": {
             "outlinewidth": 0,
             "ticks": ""
            },
            "colorscale": [
             [
              0,
              "#0d0887"
             ],
             [
              0.1111111111111111,
              "#46039f"
             ],
             [
              0.2222222222222222,
              "#7201a8"
             ],
             [
              0.3333333333333333,
              "#9c179e"
             ],
             [
              0.4444444444444444,
              "#bd3786"
             ],
             [
              0.5555555555555556,
              "#d8576b"
             ],
             [
              0.6666666666666666,
              "#ed7953"
             ],
             [
              0.7777777777777778,
              "#fb9f3a"
             ],
             [
              0.8888888888888888,
              "#fdca26"
             ],
             [
              1,
              "#f0f921"
             ]
            ],
            "type": "heatmap"
           }
          ],
          "heatmapgl": [
           {
            "colorbar": {
             "outlinewidth": 0,
             "ticks": ""
            },
            "colorscale": [
             [
              0,
              "#0d0887"
             ],
             [
              0.1111111111111111,
              "#46039f"
             ],
             [
              0.2222222222222222,
              "#7201a8"
             ],
             [
              0.3333333333333333,
              "#9c179e"
             ],
             [
              0.4444444444444444,
              "#bd3786"
             ],
             [
              0.5555555555555556,
              "#d8576b"
             ],
             [
              0.6666666666666666,
              "#ed7953"
             ],
             [
              0.7777777777777778,
              "#fb9f3a"
             ],
             [
              0.8888888888888888,
              "#fdca26"
             ],
             [
              1,
              "#f0f921"
             ]
            ],
            "type": "heatmapgl"
           }
          ],
          "histogram": [
           {
            "marker": {
             "colorbar": {
              "outlinewidth": 0,
              "ticks": ""
             }
            },
            "type": "histogram"
           }
          ],
          "histogram2d": [
           {
            "colorbar": {
             "outlinewidth": 0,
             "ticks": ""
            },
            "colorscale": [
             [
              0,
              "#0d0887"
             ],
             [
              0.1111111111111111,
              "#46039f"
             ],
             [
              0.2222222222222222,
              "#7201a8"
             ],
             [
              0.3333333333333333,
              "#9c179e"
             ],
             [
              0.4444444444444444,
              "#bd3786"
             ],
             [
              0.5555555555555556,
              "#d8576b"
             ],
             [
              0.6666666666666666,
              "#ed7953"
             ],
             [
              0.7777777777777778,
              "#fb9f3a"
             ],
             [
              0.8888888888888888,
              "#fdca26"
             ],
             [
              1,
              "#f0f921"
             ]
            ],
            "type": "histogram2d"
           }
          ],
          "histogram2dcontour": [
           {
            "colorbar": {
             "outlinewidth": 0,
             "ticks": ""
            },
            "colorscale": [
             [
              0,
              "#0d0887"
             ],
             [
              0.1111111111111111,
              "#46039f"
             ],
             [
              0.2222222222222222,
              "#7201a8"
             ],
             [
              0.3333333333333333,
              "#9c179e"
             ],
             [
              0.4444444444444444,
              "#bd3786"
             ],
             [
              0.5555555555555556,
              "#d8576b"
             ],
             [
              0.6666666666666666,
              "#ed7953"
             ],
             [
              0.7777777777777778,
              "#fb9f3a"
             ],
             [
              0.8888888888888888,
              "#fdca26"
             ],
             [
              1,
              "#f0f921"
             ]
            ],
            "type": "histogram2dcontour"
           }
          ],
          "mesh3d": [
           {
            "colorbar": {
             "outlinewidth": 0,
             "ticks": ""
            },
            "type": "mesh3d"
           }
          ],
          "parcoords": [
           {
            "line": {
             "colorbar": {
              "outlinewidth": 0,
              "ticks": ""
             }
            },
            "type": "parcoords"
           }
          ],
          "pie": [
           {
            "automargin": true,
            "type": "pie"
           }
          ],
          "scatter": [
           {
            "marker": {
             "colorbar": {
              "outlinewidth": 0,
              "ticks": ""
             }
            },
            "type": "scatter"
           }
          ],
          "scatter3d": [
           {
            "line": {
             "colorbar": {
              "outlinewidth": 0,
              "ticks": ""
             }
            },
            "marker": {
             "colorbar": {
              "outlinewidth": 0,
              "ticks": ""
             }
            },
            "type": "scatter3d"
           }
          ],
          "scattercarpet": [
           {
            "marker": {
             "colorbar": {
              "outlinewidth": 0,
              "ticks": ""
             }
            },
            "type": "scattercarpet"
           }
          ],
          "scattergeo": [
           {
            "marker": {
             "colorbar": {
              "outlinewidth": 0,
              "ticks": ""
             }
            },
            "type": "scattergeo"
           }
          ],
          "scattergl": [
           {
            "marker": {
             "colorbar": {
              "outlinewidth": 0,
              "ticks": ""
             }
            },
            "type": "scattergl"
           }
          ],
          "scattermapbox": [
           {
            "marker": {
             "colorbar": {
              "outlinewidth": 0,
              "ticks": ""
             }
            },
            "type": "scattermapbox"
           }
          ],
          "scatterpolar": [
           {
            "marker": {
             "colorbar": {
              "outlinewidth": 0,
              "ticks": ""
             }
            },
            "type": "scatterpolar"
           }
          ],
          "scatterpolargl": [
           {
            "marker": {
             "colorbar": {
              "outlinewidth": 0,
              "ticks": ""
             }
            },
            "type": "scatterpolargl"
           }
          ],
          "scatterternary": [
           {
            "marker": {
             "colorbar": {
              "outlinewidth": 0,
              "ticks": ""
             }
            },
            "type": "scatterternary"
           }
          ],
          "surface": [
           {
            "colorbar": {
             "outlinewidth": 0,
             "ticks": ""
            },
            "colorscale": [
             [
              0,
              "#0d0887"
             ],
             [
              0.1111111111111111,
              "#46039f"
             ],
             [
              0.2222222222222222,
              "#7201a8"
             ],
             [
              0.3333333333333333,
              "#9c179e"
             ],
             [
              0.4444444444444444,
              "#bd3786"
             ],
             [
              0.5555555555555556,
              "#d8576b"
             ],
             [
              0.6666666666666666,
              "#ed7953"
             ],
             [
              0.7777777777777778,
              "#fb9f3a"
             ],
             [
              0.8888888888888888,
              "#fdca26"
             ],
             [
              1,
              "#f0f921"
             ]
            ],
            "type": "surface"
           }
          ],
          "table": [
           {
            "cells": {
             "fill": {
              "color": "#EBF0F8"
             },
             "line": {
              "color": "white"
             }
            },
            "header": {
             "fill": {
              "color": "#C8D4E3"
             },
             "line": {
              "color": "white"
             }
            },
            "type": "table"
           }
          ]
         },
         "layout": {
          "annotationdefaults": {
           "arrowcolor": "#2a3f5f",
           "arrowhead": 0,
           "arrowwidth": 1
          },
          "coloraxis": {
           "colorbar": {
            "outlinewidth": 0,
            "ticks": ""
           }
          },
          "colorscale": {
           "diverging": [
            [
             0,
             "#8e0152"
            ],
            [
             0.1,
             "#c51b7d"
            ],
            [
             0.2,
             "#de77ae"
            ],
            [
             0.3,
             "#f1b6da"
            ],
            [
             0.4,
             "#fde0ef"
            ],
            [
             0.5,
             "#f7f7f7"
            ],
            [
             0.6,
             "#e6f5d0"
            ],
            [
             0.7,
             "#b8e186"
            ],
            [
             0.8,
             "#7fbc41"
            ],
            [
             0.9,
             "#4d9221"
            ],
            [
             1,
             "#276419"
            ]
           ],
           "sequential": [
            [
             0,
             "#0d0887"
            ],
            [
             0.1111111111111111,
             "#46039f"
            ],
            [
             0.2222222222222222,
             "#7201a8"
            ],
            [
             0.3333333333333333,
             "#9c179e"
            ],
            [
             0.4444444444444444,
             "#bd3786"
            ],
            [
             0.5555555555555556,
             "#d8576b"
            ],
            [
             0.6666666666666666,
             "#ed7953"
            ],
            [
             0.7777777777777778,
             "#fb9f3a"
            ],
            [
             0.8888888888888888,
             "#fdca26"
            ],
            [
             1,
             "#f0f921"
            ]
           ],
           "sequentialminus": [
            [
             0,
             "#0d0887"
            ],
            [
             0.1111111111111111,
             "#46039f"
            ],
            [
             0.2222222222222222,
             "#7201a8"
            ],
            [
             0.3333333333333333,
             "#9c179e"
            ],
            [
             0.4444444444444444,
             "#bd3786"
            ],
            [
             0.5555555555555556,
             "#d8576b"
            ],
            [
             0.6666666666666666,
             "#ed7953"
            ],
            [
             0.7777777777777778,
             "#fb9f3a"
            ],
            [
             0.8888888888888888,
             "#fdca26"
            ],
            [
             1,
             "#f0f921"
            ]
           ]
          },
          "colorway": [
           "#636efa",
           "#EF553B",
           "#00cc96",
           "#ab63fa",
           "#FFA15A",
           "#19d3f3",
           "#FF6692",
           "#B6E880",
           "#FF97FF",
           "#FECB52"
          ],
          "font": {
           "color": "#2a3f5f"
          },
          "geo": {
           "bgcolor": "white",
           "lakecolor": "white",
           "landcolor": "#E5ECF6",
           "showlakes": true,
           "showland": true,
           "subunitcolor": "white"
          },
          "hoverlabel": {
           "align": "left"
          },
          "hovermode": "closest",
          "mapbox": {
           "style": "light"
          },
          "paper_bgcolor": "white",
          "plot_bgcolor": "#E5ECF6",
          "polar": {
           "angularaxis": {
            "gridcolor": "white",
            "linecolor": "white",
            "ticks": ""
           },
           "bgcolor": "#E5ECF6",
           "radialaxis": {
            "gridcolor": "white",
            "linecolor": "white",
            "ticks": ""
           }
          },
          "scene": {
           "xaxis": {
            "backgroundcolor": "#E5ECF6",
            "gridcolor": "white",
            "gridwidth": 2,
            "linecolor": "white",
            "showbackground": true,
            "ticks": "",
            "zerolinecolor": "white"
           },
           "yaxis": {
            "backgroundcolor": "#E5ECF6",
            "gridcolor": "white",
            "gridwidth": 2,
            "linecolor": "white",
            "showbackground": true,
            "ticks": "",
            "zerolinecolor": "white"
           },
           "zaxis": {
            "backgroundcolor": "#E5ECF6",
            "gridcolor": "white",
            "gridwidth": 2,
            "linecolor": "white",
            "showbackground": true,
            "ticks": "",
            "zerolinecolor": "white"
           }
          },
          "shapedefaults": {
           "line": {
            "color": "#2a3f5f"
           }
          },
          "ternary": {
           "aaxis": {
            "gridcolor": "white",
            "linecolor": "white",
            "ticks": ""
           },
           "baxis": {
            "gridcolor": "white",
            "linecolor": "white",
            "ticks": ""
           },
           "bgcolor": "#E5ECF6",
           "caxis": {
            "gridcolor": "white",
            "linecolor": "white",
            "ticks": ""
           }
          },
          "title": {
           "x": 0.05
          },
          "xaxis": {
           "automargin": true,
           "gridcolor": "white",
           "linecolor": "white",
           "ticks": "",
           "title": {
            "standoff": 15
           },
           "zerolinecolor": "white",
           "zerolinewidth": 2
          },
          "yaxis": {
           "automargin": true,
           "gridcolor": "white",
           "linecolor": "white",
           "ticks": "",
           "title": {
            "standoff": 15
           },
           "zerolinecolor": "white",
           "zerolinewidth": 2
          }
         }
        },
        "title": {
         "text": "<b>Model Confusion matrix</b><br>RandomForestClassifier"
        },
        "width": 410,
        "xaxis": {
         "dtick": 1,
         "gridcolor": "rgb(0, 0, 0)",
         "side": "top",
         "ticks": ""
        },
        "yaxis": {
         "dtick": 1,
         "ticks": "",
         "ticksuffix": "  "
        }
       }
      },
      "text/html": [
       "<div>\n",
       "        \n",
       "        \n",
       "            <div id=\"e13f3ca1-8fed-4ba1-bc82-6fd59be7973f\" class=\"plotly-graph-div\" style=\"height:450px; width:410px;\"></div>\n",
       "            <script type=\"text/javascript\">\n",
       "                require([\"plotly\"], function(Plotly) {\n",
       "                    window.PLOTLYENV=window.PLOTLYENV || {};\n",
       "                    \n",
       "                if (document.getElementById(\"e13f3ca1-8fed-4ba1-bc82-6fd59be7973f\")) {\n",
       "                    Plotly.newPlot(\n",
       "                        'e13f3ca1-8fed-4ba1-bc82-6fd59be7973f',\n",
       "                        [{\"colorscale\": [[0.0, \"#440154\"], [0.1111111111111111, \"#482878\"], [0.2222222222222222, \"#3e4989\"], [0.3333333333333333, \"#31688e\"], [0.4444444444444444, \"#26828e\"], [0.5555555555555556, \"#1f9e89\"], [0.6666666666666666, \"#35b779\"], [0.7777777777777778, \"#6ece58\"], [0.8888888888888888, \"#b5de2b\"], [1.0, \"#fde725\"]], \"hoverinfo\": \"z\", \"reversescale\": false, \"showscale\": false, \"type\": \"heatmap\", \"x\": [\"No (pred)\", \"Yes (pred)\"], \"xgap\": 2, \"y\": [\"No (Actual)\", \"Yes (Actual)\"], \"ygap\": 2, \"z\": [[201, 49], [59, 185]]}],\n",
       "                        {\"annotations\": [{\"font\": {\"color\": \"#000000\"}, \"showarrow\": false, \"text\": \"201\", \"x\": \"No (pred)\", \"xref\": \"x\", \"y\": \"No (Actual)\", \"yref\": \"y\"}, {\"font\": {\"color\": \"#FFFFFF\"}, \"showarrow\": false, \"text\": \"49\", \"x\": \"Yes (pred)\", \"xref\": \"x\", \"y\": \"No (Actual)\", \"yref\": \"y\"}, {\"font\": {\"color\": \"#FFFFFF\"}, \"showarrow\": false, \"text\": \"59\", \"x\": \"No (pred)\", \"xref\": \"x\", \"y\": \"Yes (Actual)\", \"yref\": \"y\"}, {\"font\": {\"color\": \"#000000\"}, \"showarrow\": false, \"text\": \"185\", \"x\": \"Yes (pred)\", \"xref\": \"x\", \"y\": \"Yes (Actual)\", \"yref\": \"y\"}], \"autosize\": true, \"height\": 450, \"margin\": {\"b\": 195}, \"paper_bgcolor\": \"rgba(240,240,240, 0.95)\", \"plot_bgcolor\": \"rgba(240,240,240, 0.95)\", \"showlegend\": false, \"template\": {\"data\": {\"bar\": [{\"error_x\": {\"color\": \"#2a3f5f\"}, \"error_y\": {\"color\": \"#2a3f5f\"}, \"marker\": {\"line\": {\"color\": \"#E5ECF6\", \"width\": 0.5}}, \"type\": \"bar\"}], \"barpolar\": [{\"marker\": {\"line\": {\"color\": \"#E5ECF6\", \"width\": 0.5}}, \"type\": \"barpolar\"}], \"carpet\": [{\"aaxis\": {\"endlinecolor\": \"#2a3f5f\", \"gridcolor\": \"white\", \"linecolor\": \"white\", \"minorgridcolor\": \"white\", \"startlinecolor\": \"#2a3f5f\"}, \"baxis\": {\"endlinecolor\": \"#2a3f5f\", \"gridcolor\": \"white\", \"linecolor\": \"white\", \"minorgridcolor\": \"white\", \"startlinecolor\": \"#2a3f5f\"}, \"type\": \"carpet\"}], \"choropleth\": [{\"colorbar\": {\"outlinewidth\": 0, \"ticks\": \"\"}, \"type\": \"choropleth\"}], \"contour\": [{\"colorbar\": {\"outlinewidth\": 0, \"ticks\": \"\"}, \"colorscale\": [[0.0, \"#0d0887\"], [0.1111111111111111, \"#46039f\"], [0.2222222222222222, \"#7201a8\"], [0.3333333333333333, \"#9c179e\"], [0.4444444444444444, \"#bd3786\"], [0.5555555555555556, \"#d8576b\"], [0.6666666666666666, \"#ed7953\"], [0.7777777777777778, \"#fb9f3a\"], [0.8888888888888888, \"#fdca26\"], [1.0, \"#f0f921\"]], \"type\": \"contour\"}], \"contourcarpet\": [{\"colorbar\": {\"outlinewidth\": 0, \"ticks\": \"\"}, \"type\": \"contourcarpet\"}], \"heatmap\": [{\"colorbar\": {\"outlinewidth\": 0, \"ticks\": \"\"}, \"colorscale\": [[0.0, \"#0d0887\"], [0.1111111111111111, \"#46039f\"], [0.2222222222222222, \"#7201a8\"], [0.3333333333333333, \"#9c179e\"], [0.4444444444444444, \"#bd3786\"], [0.5555555555555556, \"#d8576b\"], [0.6666666666666666, \"#ed7953\"], [0.7777777777777778, \"#fb9f3a\"], [0.8888888888888888, \"#fdca26\"], [1.0, \"#f0f921\"]], \"type\": \"heatmap\"}], \"heatmapgl\": [{\"colorbar\": {\"outlinewidth\": 0, \"ticks\": \"\"}, \"colorscale\": [[0.0, \"#0d0887\"], [0.1111111111111111, \"#46039f\"], [0.2222222222222222, \"#7201a8\"], [0.3333333333333333, \"#9c179e\"], [0.4444444444444444, \"#bd3786\"], [0.5555555555555556, \"#d8576b\"], [0.6666666666666666, \"#ed7953\"], [0.7777777777777778, \"#fb9f3a\"], [0.8888888888888888, \"#fdca26\"], [1.0, \"#f0f921\"]], \"type\": \"heatmapgl\"}], \"histogram\": [{\"marker\": {\"colorbar\": {\"outlinewidth\": 0, \"ticks\": \"\"}}, \"type\": \"histogram\"}], \"histogram2d\": [{\"colorbar\": {\"outlinewidth\": 0, \"ticks\": \"\"}, \"colorscale\": [[0.0, \"#0d0887\"], [0.1111111111111111, \"#46039f\"], [0.2222222222222222, \"#7201a8\"], [0.3333333333333333, \"#9c179e\"], [0.4444444444444444, \"#bd3786\"], [0.5555555555555556, \"#d8576b\"], [0.6666666666666666, \"#ed7953\"], [0.7777777777777778, \"#fb9f3a\"], [0.8888888888888888, \"#fdca26\"], [1.0, \"#f0f921\"]], \"type\": \"histogram2d\"}], \"histogram2dcontour\": [{\"colorbar\": {\"outlinewidth\": 0, \"ticks\": \"\"}, \"colorscale\": [[0.0, \"#0d0887\"], [0.1111111111111111, \"#46039f\"], [0.2222222222222222, \"#7201a8\"], [0.3333333333333333, \"#9c179e\"], [0.4444444444444444, \"#bd3786\"], [0.5555555555555556, \"#d8576b\"], [0.6666666666666666, \"#ed7953\"], [0.7777777777777778, \"#fb9f3a\"], [0.8888888888888888, \"#fdca26\"], [1.0, \"#f0f921\"]], \"type\": \"histogram2dcontour\"}], \"mesh3d\": [{\"colorbar\": {\"outlinewidth\": 0, \"ticks\": \"\"}, \"type\": \"mesh3d\"}], \"parcoords\": [{\"line\": {\"colorbar\": {\"outlinewidth\": 0, \"ticks\": \"\"}}, \"type\": \"parcoords\"}], \"pie\": [{\"automargin\": true, \"type\": \"pie\"}], \"scatter\": [{\"marker\": {\"colorbar\": {\"outlinewidth\": 0, \"ticks\": \"\"}}, \"type\": \"scatter\"}], \"scatter3d\": [{\"line\": {\"colorbar\": {\"outlinewidth\": 0, \"ticks\": \"\"}}, \"marker\": {\"colorbar\": {\"outlinewidth\": 0, \"ticks\": \"\"}}, \"type\": \"scatter3d\"}], \"scattercarpet\": [{\"marker\": {\"colorbar\": {\"outlinewidth\": 0, \"ticks\": \"\"}}, \"type\": \"scattercarpet\"}], \"scattergeo\": [{\"marker\": {\"colorbar\": {\"outlinewidth\": 0, \"ticks\": \"\"}}, \"type\": \"scattergeo\"}], \"scattergl\": [{\"marker\": {\"colorbar\": {\"outlinewidth\": 0, \"ticks\": \"\"}}, \"type\": \"scattergl\"}], \"scattermapbox\": [{\"marker\": {\"colorbar\": {\"outlinewidth\": 0, \"ticks\": \"\"}}, \"type\": \"scattermapbox\"}], \"scatterpolar\": [{\"marker\": {\"colorbar\": {\"outlinewidth\": 0, \"ticks\": \"\"}}, \"type\": \"scatterpolar\"}], \"scatterpolargl\": [{\"marker\": {\"colorbar\": {\"outlinewidth\": 0, \"ticks\": \"\"}}, \"type\": \"scatterpolargl\"}], \"scatterternary\": [{\"marker\": {\"colorbar\": {\"outlinewidth\": 0, \"ticks\": \"\"}}, \"type\": \"scatterternary\"}], \"surface\": [{\"colorbar\": {\"outlinewidth\": 0, \"ticks\": \"\"}, \"colorscale\": [[0.0, \"#0d0887\"], [0.1111111111111111, \"#46039f\"], [0.2222222222222222, \"#7201a8\"], [0.3333333333333333, \"#9c179e\"], [0.4444444444444444, \"#bd3786\"], [0.5555555555555556, \"#d8576b\"], [0.6666666666666666, \"#ed7953\"], [0.7777777777777778, \"#fb9f3a\"], [0.8888888888888888, \"#fdca26\"], [1.0, \"#f0f921\"]], \"type\": \"surface\"}], \"table\": [{\"cells\": {\"fill\": {\"color\": \"#EBF0F8\"}, \"line\": {\"color\": \"white\"}}, \"header\": {\"fill\": {\"color\": \"#C8D4E3\"}, \"line\": {\"color\": \"white\"}}, \"type\": \"table\"}]}, \"layout\": {\"annotationdefaults\": {\"arrowcolor\": \"#2a3f5f\", \"arrowhead\": 0, \"arrowwidth\": 1}, \"coloraxis\": {\"colorbar\": {\"outlinewidth\": 0, \"ticks\": \"\"}}, \"colorscale\": {\"diverging\": [[0, \"#8e0152\"], [0.1, \"#c51b7d\"], [0.2, \"#de77ae\"], [0.3, \"#f1b6da\"], [0.4, \"#fde0ef\"], [0.5, \"#f7f7f7\"], [0.6, \"#e6f5d0\"], [0.7, \"#b8e186\"], [0.8, \"#7fbc41\"], [0.9, \"#4d9221\"], [1, \"#276419\"]], \"sequential\": [[0.0, \"#0d0887\"], [0.1111111111111111, \"#46039f\"], [0.2222222222222222, \"#7201a8\"], [0.3333333333333333, \"#9c179e\"], [0.4444444444444444, \"#bd3786\"], [0.5555555555555556, \"#d8576b\"], [0.6666666666666666, \"#ed7953\"], [0.7777777777777778, \"#fb9f3a\"], [0.8888888888888888, \"#fdca26\"], [1.0, \"#f0f921\"]], \"sequentialminus\": [[0.0, \"#0d0887\"], [0.1111111111111111, \"#46039f\"], [0.2222222222222222, \"#7201a8\"], [0.3333333333333333, \"#9c179e\"], [0.4444444444444444, \"#bd3786\"], [0.5555555555555556, \"#d8576b\"], [0.6666666666666666, \"#ed7953\"], [0.7777777777777778, \"#fb9f3a\"], [0.8888888888888888, \"#fdca26\"], [1.0, \"#f0f921\"]]}, \"colorway\": [\"#636efa\", \"#EF553B\", \"#00cc96\", \"#ab63fa\", \"#FFA15A\", \"#19d3f3\", \"#FF6692\", \"#B6E880\", \"#FF97FF\", \"#FECB52\"], \"font\": {\"color\": \"#2a3f5f\"}, \"geo\": {\"bgcolor\": \"white\", \"lakecolor\": \"white\", \"landcolor\": \"#E5ECF6\", \"showlakes\": true, \"showland\": true, \"subunitcolor\": \"white\"}, \"hoverlabel\": {\"align\": \"left\"}, \"hovermode\": \"closest\", \"mapbox\": {\"style\": \"light\"}, \"paper_bgcolor\": \"white\", \"plot_bgcolor\": \"#E5ECF6\", \"polar\": {\"angularaxis\": {\"gridcolor\": \"white\", \"linecolor\": \"white\", \"ticks\": \"\"}, \"bgcolor\": \"#E5ECF6\", \"radialaxis\": {\"gridcolor\": \"white\", \"linecolor\": \"white\", \"ticks\": \"\"}}, \"scene\": {\"xaxis\": {\"backgroundcolor\": \"#E5ECF6\", \"gridcolor\": \"white\", \"gridwidth\": 2, \"linecolor\": \"white\", \"showbackground\": true, \"ticks\": \"\", \"zerolinecolor\": \"white\"}, \"yaxis\": {\"backgroundcolor\": \"#E5ECF6\", \"gridcolor\": \"white\", \"gridwidth\": 2, \"linecolor\": \"white\", \"showbackground\": true, \"ticks\": \"\", \"zerolinecolor\": \"white\"}, \"zaxis\": {\"backgroundcolor\": \"#E5ECF6\", \"gridcolor\": \"white\", \"gridwidth\": 2, \"linecolor\": \"white\", \"showbackground\": true, \"ticks\": \"\", \"zerolinecolor\": \"white\"}}, \"shapedefaults\": {\"line\": {\"color\": \"#2a3f5f\"}}, \"ternary\": {\"aaxis\": {\"gridcolor\": \"white\", \"linecolor\": \"white\", \"ticks\": \"\"}, \"baxis\": {\"gridcolor\": \"white\", \"linecolor\": \"white\", \"ticks\": \"\"}, \"bgcolor\": \"#E5ECF6\", \"caxis\": {\"gridcolor\": \"white\", \"linecolor\": \"white\", \"ticks\": \"\"}}, \"title\": {\"x\": 0.05}, \"xaxis\": {\"automargin\": true, \"gridcolor\": \"white\", \"linecolor\": \"white\", \"ticks\": \"\", \"title\": {\"standoff\": 15}, \"zerolinecolor\": \"white\", \"zerolinewidth\": 2}, \"yaxis\": {\"automargin\": true, \"gridcolor\": \"white\", \"linecolor\": \"white\", \"ticks\": \"\", \"title\": {\"standoff\": 15}, \"zerolinecolor\": \"white\", \"zerolinewidth\": 2}}}, \"title\": {\"text\": \"<b>Model Confusion matrix</b><br>RandomForestClassifier\"}, \"width\": 410, \"xaxis\": {\"dtick\": 1, \"gridcolor\": \"rgb(0, 0, 0)\", \"side\": \"top\", \"ticks\": \"\"}, \"yaxis\": {\"dtick\": 1, \"ticks\": \"\", \"ticksuffix\": \"  \"}},\n",
       "                        {\"responsive\": true}\n",
       "                    ).then(function(){\n",
       "                            \n",
       "var gd = document.getElementById('e13f3ca1-8fed-4ba1-bc82-6fd59be7973f');\n",
       "var x = new MutationObserver(function (mutations, observer) {{\n",
       "        var display = window.getComputedStyle(gd).display;\n",
       "        if (!display || display === 'none') {{\n",
       "            console.log([gd, 'removed!']);\n",
       "            Plotly.purge(gd);\n",
       "            observer.disconnect();\n",
       "        }}\n",
       "}});\n",
       "\n",
       "// Listen for the removal of the full notebook cells\n",
       "var notebookContainer = gd.closest('#notebook-container');\n",
       "if (notebookContainer) {{\n",
       "    x.observe(notebookContainer, {childList: true});\n",
       "}}\n",
       "\n",
       "// Listen for the clearing of the current output cell\n",
       "var outputEl = gd.closest('.output');\n",
       "if (outputEl) {{\n",
       "    x.observe(outputEl, {childList: true});\n",
       "}}\n",
       "\n",
       "                        })\n",
       "                };\n",
       "                });\n",
       "            </script>\n",
       "        </div>"
      ]
     },
     "metadata": {},
     "output_type": "display_data"
    }
   ],
   "source": [
    "plot_feature_importance(rf)\n",
    "plot_confusion_matrix(rf)"
   ]
  },
  {
   "cell_type": "markdown",
   "metadata": {},
   "source": [
    "## Gradient boosting"
   ]
  },
  {
   "cell_type": "code",
   "execution_count": 82,
   "metadata": {},
   "outputs": [
    {
     "name": "stdout",
     "output_type": "stream",
     "text": [
      "Predictions have finished\n"
     ]
    }
   ],
   "source": [
    "# Gradient Boosting Parameters\n",
    "gb_params ={\n",
    "    'n_estimators': 1500,\n",
    "    'max_features': 0.9,\n",
    "    'learning_rate' : 0.25,\n",
    "    'max_depth': 4,\n",
    "    'min_samples_leaf': 2,\n",
    "    'subsample': 1,\n",
    "    'max_features' : 'sqrt',\n",
    "    'random_state' : seed,\n",
    "    'verbose': 0\n",
    "}\n",
    "\n",
    "gb = GradientBoostingClassifier(**gb_params)\n",
    "# Fit the model to our SMOTEd train and target\n",
    "gb.fit(train, target_train)\n",
    "# Get our predictions\n",
    "gb_predictions = gb.predict(test)\n",
    "print(\"Predictions have finished\")"
   ]
  },
  {
   "cell_type": "code",
   "execution_count": 83,
   "metadata": {},
   "outputs": [
    {
     "name": "stdout",
     "output_type": "stream",
     "text": [
      "0.9595141700404858\n",
      "              precision    recall  f1-score   support\n",
      "\n",
      "           0       1.00      0.92      0.96       250\n",
      "           1       0.92      1.00      0.96       244\n",
      "\n",
      "    accuracy                           0.96       494\n",
      "   macro avg       0.96      0.96      0.96       494\n",
      "weighted avg       0.96      0.96      0.96       494\n",
      "\n"
     ]
    }
   ],
   "source": [
    "print(accuracy_score(target_val, gb_predictions))\n",
    "print(classification_report(target_val, gb_predictions))"
   ]
  },
  {
   "cell_type": "code",
   "execution_count": 84,
   "metadata": {},
   "outputs": [
    {
     "data": {
      "application/vnd.plotly.v1+json": {
       "config": {
        "linkText": "Export to plot.ly",
        "plotlyServerURL": "https://plot.ly",
        "showLink": false
       },
       "data": [
        {
         "marker": {
          "color": [
           "gold",
           "lightgreen",
           "lightcoral",
           "lightskyblue"
          ],
          "line": {
           "color": "#000000",
           "width": 1.5
          }
         },
         "opacity": 0.8,
         "orientation": "h",
         "text": [
          0.9595,
          0.9242,
          1,
          0.9606
         ],
         "textposition": "auto",
         "type": "bar",
         "x": [
          0.9595141700404858,
          0.9242424242424242,
          1,
          0.9606299212598425
         ],
         "xaxis": "x",
         "y": [
          "Accuracy",
          "Precision",
          "Recall",
          "F1_score"
         ],
         "yaxis": "y"
        },
        {
         "fill": "tozeroy",
         "line": {
          "color": "rgb(22, 96, 167)",
          "width": 2
         },
         "name": "Roc : ",
         "type": "scatter",
         "x": [
          0,
          0,
          0,
          0,
          0,
          0,
          0,
          0,
          0,
          0,
          0,
          0,
          0,
          0,
          0,
          0,
          0,
          0,
          0,
          0,
          0,
          0,
          0,
          0,
          0,
          0,
          0,
          0,
          0,
          0,
          0,
          0,
          0,
          0,
          0,
          0,
          0,
          0,
          0,
          0,
          0,
          0,
          0,
          0,
          0,
          0,
          0,
          0,
          0,
          0,
          0,
          0,
          0,
          0,
          0,
          0,
          0,
          0,
          0,
          0,
          0,
          0,
          0,
          0,
          0,
          0,
          0,
          0,
          0,
          0,
          0,
          0,
          0,
          0,
          0,
          0,
          0,
          0,
          0,
          0,
          0.004,
          0.004,
          0.004,
          0.004,
          0.004,
          0.004,
          0.004,
          0.004,
          0.012,
          0.012,
          1
         ],
         "xaxis": "x2",
         "y": [
          0,
          0.004098360655737705,
          0.00819672131147541,
          0.03278688524590164,
          0.036885245901639344,
          0.05327868852459016,
          0.0778688524590164,
          0.09016393442622951,
          0.09836065573770492,
          0.13934426229508196,
          0.14754098360655737,
          0.1557377049180328,
          0.16393442622950818,
          0.1721311475409836,
          0.18442622950819673,
          0.1885245901639344,
          0.19672131147540983,
          0.21311475409836064,
          0.21721311475409835,
          0.22540983606557377,
          0.27459016393442626,
          0.29098360655737704,
          0.29508196721311475,
          0.3114754098360656,
          0.3155737704918033,
          0.3319672131147541,
          0.3360655737704918,
          0.3524590163934426,
          0.35655737704918034,
          0.36475409836065575,
          0.38114754098360654,
          0.38934426229508196,
          0.4057377049180328,
          0.4180327868852459,
          0.42213114754098363,
          0.430327868852459,
          0.4344262295081967,
          0.4426229508196721,
          0.45081967213114754,
          0.45901639344262296,
          0.46311475409836067,
          0.47950819672131145,
          0.48770491803278687,
          0.4959016393442623,
          0.5081967213114754,
          0.5163934426229508,
          0.5491803278688525,
          0.5573770491803278,
          0.5655737704918032,
          0.569672131147541,
          0.5860655737704918,
          0.5942622950819673,
          0.610655737704918,
          0.6188524590163934,
          0.6270491803278688,
          0.639344262295082,
          0.6557377049180327,
          0.6680327868852459,
          0.6844262295081968,
          0.7008196721311475,
          0.7090163934426229,
          0.7131147540983607,
          0.7254098360655737,
          0.7377049180327869,
          0.7459016393442623,
          0.7704918032786885,
          0.7868852459016393,
          0.7909836065573771,
          0.8032786885245902,
          0.8114754098360656,
          0.8155737704918032,
          0.8237704918032787,
          0.8360655737704918,
          0.8442622950819673,
          0.8483606557377049,
          0.8647540983606558,
          0.8852459016393442,
          0.8934426229508197,
          0.9016393442622951,
          0.9098360655737705,
          0.9098360655737705,
          0.9221311475409836,
          0.9467213114754098,
          0.9672131147540983,
          0.9754098360655737,
          0.9836065573770492,
          0.9918032786885246,
          0.9959016393442623,
          0.9959016393442623,
          1,
          1
         ],
         "yaxis": "y2"
        },
        {
         "line": {
          "color": "black",
          "dash": "dot",
          "width": 1.5
         },
         "type": "scatter",
         "x": [
          0,
          1
         ],
         "xaxis": "x2",
         "y": [
          0,
          1
         ],
         "yaxis": "y2"
        },
        {
         "fill": "tozeroy",
         "line": {
          "color": "lightcoral",
          "width": 2
         },
         "name": "Precision[0.98785425 0.98780488 0.99183673 0.99590164 0.99588477 0.99585062\n 0.99583333 0.9958159  0.99578059 0.99568966 0.99565217 0.99561404\n 0.99557522 0.99555556 0.99553571 0.9955157  1.         1.\n 1.         1.         1.         1.         1.         1.\n 1.         1.         1.         1.         1.         1.\n 1.         1.         1.         1.         1.         1.\n 1.         1.         1.         1.         1.         1.\n 1.         1.         1.         1.         1.         1.\n 1.         1.         1.         1.         1.         1.\n 1.         1.         1.         1.         1.         1.\n 1.         1.         1.         1.         1.         1.\n 1.         1.         1.         1.         1.         1.\n 1.         1.         1.         1.         1.         1.\n 1.         1.         1.         1.         1.         1.\n 1.         1.         1.         1.         1.         1.\n 1.         1.         1.         1.         1.         1.\n 1.         1.         1.         1.         1.         1.\n 1.         1.         1.         1.         1.         1.\n 1.         1.         1.         1.         1.         1.\n 1.         1.         1.         1.         1.         1.\n 1.         1.         1.         1.         1.         1.\n 1.         1.         1.         1.         1.         1.\n 1.         1.         1.         1.         1.         1.\n 1.         1.         1.         1.         1.         1.\n 1.         1.         1.         1.         1.         1.\n 1.         1.         1.         1.         1.         1.\n 1.        ]",
         "type": "scatter",
         "x": [
          1,
          0.9959016393442623,
          0.9959016393442623,
          0.9959016393442623,
          0.9918032786885246,
          0.9836065573770492,
          0.9795081967213115,
          0.9754098360655737,
          0.9672131147540983,
          0.9467213114754098,
          0.9385245901639344,
          0.930327868852459,
          0.9221311475409836,
          0.9180327868852459,
          0.9139344262295082,
          0.9098360655737705,
          0.9098360655737705,
          0.9057377049180327,
          0.9016393442622951,
          0.8934426229508197,
          0.889344262295082,
          0.8852459016393442,
          0.8647540983606558,
          0.8565573770491803,
          0.8483606557377049,
          0.8442622950819673,
          0.8360655737704918,
          0.8319672131147541,
          0.8278688524590164,
          0.8237704918032787,
          0.8155737704918032,
          0.8114754098360656,
          0.8032786885245902,
          0.7909836065573771,
          0.7868852459016393,
          0.7786885245901639,
          0.7704918032786885,
          0.7581967213114754,
          0.7459016393442623,
          0.7377049180327869,
          0.7336065573770492,
          0.7295081967213115,
          0.7254098360655737,
          0.7131147540983607,
          0.7090163934426229,
          0.7008196721311475,
          0.6844262295081968,
          0.6762295081967213,
          0.6680327868852459,
          0.6557377049180327,
          0.639344262295082,
          0.6270491803278688,
          0.6188524590163934,
          0.6147540983606558,
          0.610655737704918,
          0.6024590163934426,
          0.5942622950819673,
          0.5901639344262295,
          0.5860655737704918,
          0.569672131147541,
          0.5655737704918032,
          0.5573770491803278,
          0.5532786885245902,
          0.5491803278688525,
          0.5409836065573771,
          0.5327868852459017,
          0.5245901639344263,
          0.5163934426229508,
          0.5122950819672131,
          0.5081967213114754,
          0.4959016393442623,
          0.48770491803278687,
          0.48360655737704916,
          0.47950819672131145,
          0.4713114754098361,
          0.46311475409836067,
          0.45901639344262296,
          0.45081967213114754,
          0.44672131147540983,
          0.4426229508196721,
          0.4344262295081967,
          0.430327868852459,
          0.42213114754098363,
          0.4180327868852459,
          0.4057377049180328,
          0.4016393442622951,
          0.3975409836065574,
          0.39344262295081966,
          0.38934426229508196,
          0.38114754098360654,
          0.3770491803278688,
          0.3729508196721312,
          0.36885245901639346,
          0.36475409836065575,
          0.35655737704918034,
          0.3524590163934426,
          0.3442622950819672,
          0.3360655737704918,
          0.3319672131147541,
          0.3237704918032787,
          0.3155737704918033,
          0.3114754098360656,
          0.30327868852459017,
          0.29508196721311475,
          0.29098360655737704,
          0.2827868852459016,
          0.27459016393442626,
          0.27049180327868855,
          0.26639344262295084,
          0.26229508196721313,
          0.2581967213114754,
          0.2540983606557377,
          0.25,
          0.2459016393442623,
          0.24180327868852458,
          0.23770491803278687,
          0.2336065573770492,
          0.22950819672131148,
          0.22540983606557377,
          0.21721311475409835,
          0.21311475409836064,
          0.19672131147540983,
          0.1885245901639344,
          0.18442622950819673,
          0.1721311475409836,
          0.1680327868852459,
          0.16393442622950818,
          0.1557377049180328,
          0.15163934426229508,
          0.14754098360655737,
          0.13934426229508196,
          0.13524590163934427,
          0.13114754098360656,
          0.12704918032786885,
          0.12295081967213115,
          0.11885245901639344,
          0.11475409836065574,
          0.11065573770491803,
          0.10655737704918032,
          0.10245901639344263,
          0.09836065573770492,
          0.09016393442622951,
          0.0778688524590164,
          0.07377049180327869,
          0.06967213114754098,
          0.06557377049180328,
          0.06147540983606557,
          0.05737704918032787,
          0.05327868852459016,
          0.045081967213114756,
          0.036885245901639344,
          0.03278688524590164,
          0.02459016393442623,
          0.01639344262295082,
          0.00819672131147541,
          0.004098360655737705,
          0
         ],
         "xaxis": "x3",
         "y": [
          0.9878542510121457,
          0.9878048780487805,
          0.9918367346938776,
          0.9959016393442623,
          0.9958847736625515,
          0.995850622406639,
          0.9958333333333333,
          0.99581589958159,
          0.9957805907172996,
          0.9956896551724138,
          0.9956521739130435,
          0.9956140350877193,
          0.995575221238938,
          0.9955555555555555,
          0.9955357142857143,
          0.9955156950672646,
          1,
          1,
          1,
          1,
          1,
          1,
          1,
          1,
          1,
          1,
          1,
          1,
          1,
          1,
          1,
          1,
          1,
          1,
          1,
          1,
          1,
          1,
          1,
          1,
          1,
          1,
          1,
          1,
          1,
          1,
          1,
          1,
          1,
          1,
          1,
          1,
          1,
          1,
          1,
          1,
          1,
          1,
          1,
          1,
          1,
          1,
          1,
          1,
          1,
          1,
          1,
          1,
          1,
          1,
          1,
          1,
          1,
          1,
          1,
          1,
          1,
          1,
          1,
          1,
          1,
          1,
          1,
          1,
          1,
          1,
          1,
          1,
          1,
          1,
          1,
          1,
          1,
          1,
          1,
          1,
          1,
          1,
          1,
          1,
          1,
          1,
          1,
          1,
          1,
          1,
          1,
          1,
          1,
          1,
          1,
          1,
          1,
          1,
          1,
          1,
          1,
          1,
          1,
          1,
          1,
          1,
          1,
          1,
          1,
          1,
          1,
          1,
          1,
          1,
          1,
          1,
          1,
          1,
          1,
          1,
          1,
          1,
          1,
          1,
          1,
          1,
          1,
          1,
          1,
          1,
          1,
          1,
          1,
          1,
          1,
          1,
          1,
          1,
          1,
          1,
          1
         ],
         "yaxis": "y3"
        }
       ],
       "layout": {
        "annotations": [
         {
          "font": {
           "size": 16
          },
          "showarrow": false,
          "text": "Metrics",
          "x": 0.5,
          "xanchor": "center",
          "xref": "paper",
          "y": 1,
          "yanchor": "bottom",
          "yref": "paper"
         },
         {
          "font": {
           "size": 16
          },
          "showarrow": false,
          "text": "ROC curve (1.0)",
          "x": 0.5,
          "xanchor": "center",
          "xref": "paper",
          "y": 0.6111111111111112,
          "yanchor": "bottom",
          "yref": "paper"
         },
         {
          "font": {
           "size": 16
          },
          "showarrow": false,
          "text": "Precision - Recall curve",
          "x": 0.5,
          "xanchor": "center",
          "xref": "paper",
          "y": 0.22222222222222224,
          "yanchor": "bottom",
          "yref": "paper"
         }
        ],
        "autosize": false,
        "height": 900,
        "margin": {
         "b": 195
        },
        "paper_bgcolor": "rgba(240,240,240, 0.95)",
        "plot_bgcolor": "rgba(240,240,240, 0.95)",
        "showlegend": false,
        "template": {
         "data": {
          "bar": [
           {
            "error_x": {
             "color": "#2a3f5f"
            },
            "error_y": {
             "color": "#2a3f5f"
            },
            "marker": {
             "line": {
              "color": "#E5ECF6",
              "width": 0.5
             }
            },
            "type": "bar"
           }
          ],
          "barpolar": [
           {
            "marker": {
             "line": {
              "color": "#E5ECF6",
              "width": 0.5
             }
            },
            "type": "barpolar"
           }
          ],
          "carpet": [
           {
            "aaxis": {
             "endlinecolor": "#2a3f5f",
             "gridcolor": "white",
             "linecolor": "white",
             "minorgridcolor": "white",
             "startlinecolor": "#2a3f5f"
            },
            "baxis": {
             "endlinecolor": "#2a3f5f",
             "gridcolor": "white",
             "linecolor": "white",
             "minorgridcolor": "white",
             "startlinecolor": "#2a3f5f"
            },
            "type": "carpet"
           }
          ],
          "choropleth": [
           {
            "colorbar": {
             "outlinewidth": 0,
             "ticks": ""
            },
            "type": "choropleth"
           }
          ],
          "contour": [
           {
            "colorbar": {
             "outlinewidth": 0,
             "ticks": ""
            },
            "colorscale": [
             [
              0,
              "#0d0887"
             ],
             [
              0.1111111111111111,
              "#46039f"
             ],
             [
              0.2222222222222222,
              "#7201a8"
             ],
             [
              0.3333333333333333,
              "#9c179e"
             ],
             [
              0.4444444444444444,
              "#bd3786"
             ],
             [
              0.5555555555555556,
              "#d8576b"
             ],
             [
              0.6666666666666666,
              "#ed7953"
             ],
             [
              0.7777777777777778,
              "#fb9f3a"
             ],
             [
              0.8888888888888888,
              "#fdca26"
             ],
             [
              1,
              "#f0f921"
             ]
            ],
            "type": "contour"
           }
          ],
          "contourcarpet": [
           {
            "colorbar": {
             "outlinewidth": 0,
             "ticks": ""
            },
            "type": "contourcarpet"
           }
          ],
          "heatmap": [
           {
            "colorbar": {
             "outlinewidth": 0,
             "ticks": ""
            },
            "colorscale": [
             [
              0,
              "#0d0887"
             ],
             [
              0.1111111111111111,
              "#46039f"
             ],
             [
              0.2222222222222222,
              "#7201a8"
             ],
             [
              0.3333333333333333,
              "#9c179e"
             ],
             [
              0.4444444444444444,
              "#bd3786"
             ],
             [
              0.5555555555555556,
              "#d8576b"
             ],
             [
              0.6666666666666666,
              "#ed7953"
             ],
             [
              0.7777777777777778,
              "#fb9f3a"
             ],
             [
              0.8888888888888888,
              "#fdca26"
             ],
             [
              1,
              "#f0f921"
             ]
            ],
            "type": "heatmap"
           }
          ],
          "heatmapgl": [
           {
            "colorbar": {
             "outlinewidth": 0,
             "ticks": ""
            },
            "colorscale": [
             [
              0,
              "#0d0887"
             ],
             [
              0.1111111111111111,
              "#46039f"
             ],
             [
              0.2222222222222222,
              "#7201a8"
             ],
             [
              0.3333333333333333,
              "#9c179e"
             ],
             [
              0.4444444444444444,
              "#bd3786"
             ],
             [
              0.5555555555555556,
              "#d8576b"
             ],
             [
              0.6666666666666666,
              "#ed7953"
             ],
             [
              0.7777777777777778,
              "#fb9f3a"
             ],
             [
              0.8888888888888888,
              "#fdca26"
             ],
             [
              1,
              "#f0f921"
             ]
            ],
            "type": "heatmapgl"
           }
          ],
          "histogram": [
           {
            "marker": {
             "colorbar": {
              "outlinewidth": 0,
              "ticks": ""
             }
            },
            "type": "histogram"
           }
          ],
          "histogram2d": [
           {
            "colorbar": {
             "outlinewidth": 0,
             "ticks": ""
            },
            "colorscale": [
             [
              0,
              "#0d0887"
             ],
             [
              0.1111111111111111,
              "#46039f"
             ],
             [
              0.2222222222222222,
              "#7201a8"
             ],
             [
              0.3333333333333333,
              "#9c179e"
             ],
             [
              0.4444444444444444,
              "#bd3786"
             ],
             [
              0.5555555555555556,
              "#d8576b"
             ],
             [
              0.6666666666666666,
              "#ed7953"
             ],
             [
              0.7777777777777778,
              "#fb9f3a"
             ],
             [
              0.8888888888888888,
              "#fdca26"
             ],
             [
              1,
              "#f0f921"
             ]
            ],
            "type": "histogram2d"
           }
          ],
          "histogram2dcontour": [
           {
            "colorbar": {
             "outlinewidth": 0,
             "ticks": ""
            },
            "colorscale": [
             [
              0,
              "#0d0887"
             ],
             [
              0.1111111111111111,
              "#46039f"
             ],
             [
              0.2222222222222222,
              "#7201a8"
             ],
             [
              0.3333333333333333,
              "#9c179e"
             ],
             [
              0.4444444444444444,
              "#bd3786"
             ],
             [
              0.5555555555555556,
              "#d8576b"
             ],
             [
              0.6666666666666666,
              "#ed7953"
             ],
             [
              0.7777777777777778,
              "#fb9f3a"
             ],
             [
              0.8888888888888888,
              "#fdca26"
             ],
             [
              1,
              "#f0f921"
             ]
            ],
            "type": "histogram2dcontour"
           }
          ],
          "mesh3d": [
           {
            "colorbar": {
             "outlinewidth": 0,
             "ticks": ""
            },
            "type": "mesh3d"
           }
          ],
          "parcoords": [
           {
            "line": {
             "colorbar": {
              "outlinewidth": 0,
              "ticks": ""
             }
            },
            "type": "parcoords"
           }
          ],
          "pie": [
           {
            "automargin": true,
            "type": "pie"
           }
          ],
          "scatter": [
           {
            "marker": {
             "colorbar": {
              "outlinewidth": 0,
              "ticks": ""
             }
            },
            "type": "scatter"
           }
          ],
          "scatter3d": [
           {
            "line": {
             "colorbar": {
              "outlinewidth": 0,
              "ticks": ""
             }
            },
            "marker": {
             "colorbar": {
              "outlinewidth": 0,
              "ticks": ""
             }
            },
            "type": "scatter3d"
           }
          ],
          "scattercarpet": [
           {
            "marker": {
             "colorbar": {
              "outlinewidth": 0,
              "ticks": ""
             }
            },
            "type": "scattercarpet"
           }
          ],
          "scattergeo": [
           {
            "marker": {
             "colorbar": {
              "outlinewidth": 0,
              "ticks": ""
             }
            },
            "type": "scattergeo"
           }
          ],
          "scattergl": [
           {
            "marker": {
             "colorbar": {
              "outlinewidth": 0,
              "ticks": ""
             }
            },
            "type": "scattergl"
           }
          ],
          "scattermapbox": [
           {
            "marker": {
             "colorbar": {
              "outlinewidth": 0,
              "ticks": ""
             }
            },
            "type": "scattermapbox"
           }
          ],
          "scatterpolar": [
           {
            "marker": {
             "colorbar": {
              "outlinewidth": 0,
              "ticks": ""
             }
            },
            "type": "scatterpolar"
           }
          ],
          "scatterpolargl": [
           {
            "marker": {
             "colorbar": {
              "outlinewidth": 0,
              "ticks": ""
             }
            },
            "type": "scatterpolargl"
           }
          ],
          "scatterternary": [
           {
            "marker": {
             "colorbar": {
              "outlinewidth": 0,
              "ticks": ""
             }
            },
            "type": "scatterternary"
           }
          ],
          "surface": [
           {
            "colorbar": {
             "outlinewidth": 0,
             "ticks": ""
            },
            "colorscale": [
             [
              0,
              "#0d0887"
             ],
             [
              0.1111111111111111,
              "#46039f"
             ],
             [
              0.2222222222222222,
              "#7201a8"
             ],
             [
              0.3333333333333333,
              "#9c179e"
             ],
             [
              0.4444444444444444,
              "#bd3786"
             ],
             [
              0.5555555555555556,
              "#d8576b"
             ],
             [
              0.6666666666666666,
              "#ed7953"
             ],
             [
              0.7777777777777778,
              "#fb9f3a"
             ],
             [
              0.8888888888888888,
              "#fdca26"
             ],
             [
              1,
              "#f0f921"
             ]
            ],
            "type": "surface"
           }
          ],
          "table": [
           {
            "cells": {
             "fill": {
              "color": "#EBF0F8"
             },
             "line": {
              "color": "white"
             }
            },
            "header": {
             "fill": {
              "color": "#C8D4E3"
             },
             "line": {
              "color": "white"
             }
            },
            "type": "table"
           }
          ]
         },
         "layout": {
          "annotationdefaults": {
           "arrowcolor": "#2a3f5f",
           "arrowhead": 0,
           "arrowwidth": 1
          },
          "coloraxis": {
           "colorbar": {
            "outlinewidth": 0,
            "ticks": ""
           }
          },
          "colorscale": {
           "diverging": [
            [
             0,
             "#8e0152"
            ],
            [
             0.1,
             "#c51b7d"
            ],
            [
             0.2,
             "#de77ae"
            ],
            [
             0.3,
             "#f1b6da"
            ],
            [
             0.4,
             "#fde0ef"
            ],
            [
             0.5,
             "#f7f7f7"
            ],
            [
             0.6,
             "#e6f5d0"
            ],
            [
             0.7,
             "#b8e186"
            ],
            [
             0.8,
             "#7fbc41"
            ],
            [
             0.9,
             "#4d9221"
            ],
            [
             1,
             "#276419"
            ]
           ],
           "sequential": [
            [
             0,
             "#0d0887"
            ],
            [
             0.1111111111111111,
             "#46039f"
            ],
            [
             0.2222222222222222,
             "#7201a8"
            ],
            [
             0.3333333333333333,
             "#9c179e"
            ],
            [
             0.4444444444444444,
             "#bd3786"
            ],
            [
             0.5555555555555556,
             "#d8576b"
            ],
            [
             0.6666666666666666,
             "#ed7953"
            ],
            [
             0.7777777777777778,
             "#fb9f3a"
            ],
            [
             0.8888888888888888,
             "#fdca26"
            ],
            [
             1,
             "#f0f921"
            ]
           ],
           "sequentialminus": [
            [
             0,
             "#0d0887"
            ],
            [
             0.1111111111111111,
             "#46039f"
            ],
            [
             0.2222222222222222,
             "#7201a8"
            ],
            [
             0.3333333333333333,
             "#9c179e"
            ],
            [
             0.4444444444444444,
             "#bd3786"
            ],
            [
             0.5555555555555556,
             "#d8576b"
            ],
            [
             0.6666666666666666,
             "#ed7953"
            ],
            [
             0.7777777777777778,
             "#fb9f3a"
            ],
            [
             0.8888888888888888,
             "#fdca26"
            ],
            [
             1,
             "#f0f921"
            ]
           ]
          },
          "colorway": [
           "#636efa",
           "#EF553B",
           "#00cc96",
           "#ab63fa",
           "#FFA15A",
           "#19d3f3",
           "#FF6692",
           "#B6E880",
           "#FF97FF",
           "#FECB52"
          ],
          "font": {
           "color": "#2a3f5f"
          },
          "geo": {
           "bgcolor": "white",
           "lakecolor": "white",
           "landcolor": "#E5ECF6",
           "showlakes": true,
           "showland": true,
           "subunitcolor": "white"
          },
          "hoverlabel": {
           "align": "left"
          },
          "hovermode": "closest",
          "mapbox": {
           "style": "light"
          },
          "paper_bgcolor": "white",
          "plot_bgcolor": "#E5ECF6",
          "polar": {
           "angularaxis": {
            "gridcolor": "white",
            "linecolor": "white",
            "ticks": ""
           },
           "bgcolor": "#E5ECF6",
           "radialaxis": {
            "gridcolor": "white",
            "linecolor": "white",
            "ticks": ""
           }
          },
          "scene": {
           "xaxis": {
            "backgroundcolor": "#E5ECF6",
            "gridcolor": "white",
            "gridwidth": 2,
            "linecolor": "white",
            "showbackground": true,
            "ticks": "",
            "zerolinecolor": "white"
           },
           "yaxis": {
            "backgroundcolor": "#E5ECF6",
            "gridcolor": "white",
            "gridwidth": 2,
            "linecolor": "white",
            "showbackground": true,
            "ticks": "",
            "zerolinecolor": "white"
           },
           "zaxis": {
            "backgroundcolor": "#E5ECF6",
            "gridcolor": "white",
            "gridwidth": 2,
            "linecolor": "white",
            "showbackground": true,
            "ticks": "",
            "zerolinecolor": "white"
           }
          },
          "shapedefaults": {
           "line": {
            "color": "#2a3f5f"
           }
          },
          "ternary": {
           "aaxis": {
            "gridcolor": "white",
            "linecolor": "white",
            "ticks": ""
           },
           "baxis": {
            "gridcolor": "white",
            "linecolor": "white",
            "ticks": ""
           },
           "bgcolor": "#E5ECF6",
           "caxis": {
            "gridcolor": "white",
            "linecolor": "white",
            "ticks": ""
           }
          },
          "title": {
           "x": 0.05
          },
          "xaxis": {
           "automargin": true,
           "gridcolor": "white",
           "linecolor": "white",
           "ticks": "",
           "title": {
            "standoff": 15
           },
           "zerolinecolor": "white",
           "zerolinewidth": 2
          },
          "yaxis": {
           "automargin": true,
           "gridcolor": "white",
           "linecolor": "white",
           "ticks": "",
           "title": {
            "standoff": 15
           },
           "zerolinecolor": "white",
           "zerolinewidth": 2
          }
         }
        },
        "title": {
         "font": {
          "size": 14
         },
         "text": "<b>Model performance</b><br>gb"
        },
        "width": 450,
        "xaxis": {
         "anchor": "y",
         "domain": [
          0,
          1
         ]
        },
        "xaxis2": {
         "anchor": "y2",
         "domain": [
          0,
          1
         ],
         "title": {
          "text": "false positive rate"
         }
        },
        "xaxis3": {
         "anchor": "y3",
         "domain": [
          0,
          1
         ],
         "range": [
          0,
          1.05
         ],
         "title": {
          "text": "recall"
         }
        },
        "yaxis": {
         "anchor": "x",
         "domain": [
          0.7777777777777778,
          1
         ]
        },
        "yaxis2": {
         "anchor": "x2",
         "domain": [
          0.3888888888888889,
          0.6111111111111112
         ],
         "title": {
          "text": "true positive rate"
         }
        },
        "yaxis3": {
         "anchor": "x3",
         "domain": [
          0,
          0.22222222222222224
         ],
         "range": [
          0,
          1.05
         ],
         "title": {
          "text": "precision"
         }
        }
       }
      },
      "text/html": [
       "<div>\n",
       "        \n",
       "        \n",
       "            <div id=\"9dac3939-29f8-4160-b8cd-abc4fc20bb68\" class=\"plotly-graph-div\" style=\"height:900px; width:450px;\"></div>\n",
       "            <script type=\"text/javascript\">\n",
       "                require([\"plotly\"], function(Plotly) {\n",
       "                    window.PLOTLYENV=window.PLOTLYENV || {};\n",
       "                    \n",
       "                if (document.getElementById(\"9dac3939-29f8-4160-b8cd-abc4fc20bb68\")) {\n",
       "                    Plotly.newPlot(\n",
       "                        '9dac3939-29f8-4160-b8cd-abc4fc20bb68',\n",
       "                        [{\"marker\": {\"color\": [\"gold\", \"lightgreen\", \"lightcoral\", \"lightskyblue\"], \"line\": {\"color\": \"#000000\", \"width\": 1.5}}, \"opacity\": 0.8, \"orientation\": \"h\", \"text\": [0.9595, 0.9242, 1.0, 0.9606], \"textposition\": \"auto\", \"type\": \"bar\", \"x\": [0.9595141700404858, 0.9242424242424242, 1.0, 0.9606299212598425], \"xaxis\": \"x\", \"y\": [\"Accuracy\", \"Precision\", \"Recall\", \"F1_score\"], \"yaxis\": \"y\"}, {\"fill\": \"tozeroy\", \"line\": {\"color\": \"rgb(22, 96, 167)\", \"width\": 2}, \"name\": \"Roc : \", \"type\": \"scatter\", \"x\": [0.0, 0.0, 0.0, 0.0, 0.0, 0.0, 0.0, 0.0, 0.0, 0.0, 0.0, 0.0, 0.0, 0.0, 0.0, 0.0, 0.0, 0.0, 0.0, 0.0, 0.0, 0.0, 0.0, 0.0, 0.0, 0.0, 0.0, 0.0, 0.0, 0.0, 0.0, 0.0, 0.0, 0.0, 0.0, 0.0, 0.0, 0.0, 0.0, 0.0, 0.0, 0.0, 0.0, 0.0, 0.0, 0.0, 0.0, 0.0, 0.0, 0.0, 0.0, 0.0, 0.0, 0.0, 0.0, 0.0, 0.0, 0.0, 0.0, 0.0, 0.0, 0.0, 0.0, 0.0, 0.0, 0.0, 0.0, 0.0, 0.0, 0.0, 0.0, 0.0, 0.0, 0.0, 0.0, 0.0, 0.0, 0.0, 0.0, 0.0, 0.004, 0.004, 0.004, 0.004, 0.004, 0.004, 0.004, 0.004, 0.012, 0.012, 1.0], \"xaxis\": \"x2\", \"y\": [0.0, 0.004098360655737705, 0.00819672131147541, 0.03278688524590164, 0.036885245901639344, 0.05327868852459016, 0.0778688524590164, 0.09016393442622951, 0.09836065573770492, 0.13934426229508196, 0.14754098360655737, 0.1557377049180328, 0.16393442622950818, 0.1721311475409836, 0.18442622950819673, 0.1885245901639344, 0.19672131147540983, 0.21311475409836064, 0.21721311475409835, 0.22540983606557377, 0.27459016393442626, 0.29098360655737704, 0.29508196721311475, 0.3114754098360656, 0.3155737704918033, 0.3319672131147541, 0.3360655737704918, 0.3524590163934426, 0.35655737704918034, 0.36475409836065575, 0.38114754098360654, 0.38934426229508196, 0.4057377049180328, 0.4180327868852459, 0.42213114754098363, 0.430327868852459, 0.4344262295081967, 0.4426229508196721, 0.45081967213114754, 0.45901639344262296, 0.46311475409836067, 0.47950819672131145, 0.48770491803278687, 0.4959016393442623, 0.5081967213114754, 0.5163934426229508, 0.5491803278688525, 0.5573770491803278, 0.5655737704918032, 0.569672131147541, 0.5860655737704918, 0.5942622950819673, 0.610655737704918, 0.6188524590163934, 0.6270491803278688, 0.639344262295082, 0.6557377049180327, 0.6680327868852459, 0.6844262295081968, 0.7008196721311475, 0.7090163934426229, 0.7131147540983607, 0.7254098360655737, 0.7377049180327869, 0.7459016393442623, 0.7704918032786885, 0.7868852459016393, 0.7909836065573771, 0.8032786885245902, 0.8114754098360656, 0.8155737704918032, 0.8237704918032787, 0.8360655737704918, 0.8442622950819673, 0.8483606557377049, 0.8647540983606558, 0.8852459016393442, 0.8934426229508197, 0.9016393442622951, 0.9098360655737705, 0.9098360655737705, 0.9221311475409836, 0.9467213114754098, 0.9672131147540983, 0.9754098360655737, 0.9836065573770492, 0.9918032786885246, 0.9959016393442623, 0.9959016393442623, 1.0, 1.0], \"yaxis\": \"y2\"}, {\"line\": {\"color\": \"black\", \"dash\": \"dot\", \"width\": 1.5}, \"type\": \"scatter\", \"x\": [0, 1], \"xaxis\": \"x2\", \"y\": [0, 1], \"yaxis\": \"y2\"}, {\"fill\": \"tozeroy\", \"line\": {\"color\": \"lightcoral\", \"width\": 2}, \"name\": \"Precision[0.98785425 0.98780488 0.99183673 0.99590164 0.99588477 0.99585062\\n 0.99583333 0.9958159  0.99578059 0.99568966 0.99565217 0.99561404\\n 0.99557522 0.99555556 0.99553571 0.9955157  1.         1.\\n 1.         1.         1.         1.         1.         1.\\n 1.         1.         1.         1.         1.         1.\\n 1.         1.         1.         1.         1.         1.\\n 1.         1.         1.         1.         1.         1.\\n 1.         1.         1.         1.         1.         1.\\n 1.         1.         1.         1.         1.         1.\\n 1.         1.         1.         1.         1.         1.\\n 1.         1.         1.         1.         1.         1.\\n 1.         1.         1.         1.         1.         1.\\n 1.         1.         1.         1.         1.         1.\\n 1.         1.         1.         1.         1.         1.\\n 1.         1.         1.         1.         1.         1.\\n 1.         1.         1.         1.         1.         1.\\n 1.         1.         1.         1.         1.         1.\\n 1.         1.         1.         1.         1.         1.\\n 1.         1.         1.         1.         1.         1.\\n 1.         1.         1.         1.         1.         1.\\n 1.         1.         1.         1.         1.         1.\\n 1.         1.         1.         1.         1.         1.\\n 1.         1.         1.         1.         1.         1.\\n 1.         1.         1.         1.         1.         1.\\n 1.         1.         1.         1.         1.         1.\\n 1.         1.         1.         1.         1.         1.\\n 1.        ]\", \"type\": \"scatter\", \"x\": [1.0, 0.9959016393442623, 0.9959016393442623, 0.9959016393442623, 0.9918032786885246, 0.9836065573770492, 0.9795081967213115, 0.9754098360655737, 0.9672131147540983, 0.9467213114754098, 0.9385245901639344, 0.930327868852459, 0.9221311475409836, 0.9180327868852459, 0.9139344262295082, 0.9098360655737705, 0.9098360655737705, 0.9057377049180327, 0.9016393442622951, 0.8934426229508197, 0.889344262295082, 0.8852459016393442, 0.8647540983606558, 0.8565573770491803, 0.8483606557377049, 0.8442622950819673, 0.8360655737704918, 0.8319672131147541, 0.8278688524590164, 0.8237704918032787, 0.8155737704918032, 0.8114754098360656, 0.8032786885245902, 0.7909836065573771, 0.7868852459016393, 0.7786885245901639, 0.7704918032786885, 0.7581967213114754, 0.7459016393442623, 0.7377049180327869, 0.7336065573770492, 0.7295081967213115, 0.7254098360655737, 0.7131147540983607, 0.7090163934426229, 0.7008196721311475, 0.6844262295081968, 0.6762295081967213, 0.6680327868852459, 0.6557377049180327, 0.639344262295082, 0.6270491803278688, 0.6188524590163934, 0.6147540983606558, 0.610655737704918, 0.6024590163934426, 0.5942622950819673, 0.5901639344262295, 0.5860655737704918, 0.569672131147541, 0.5655737704918032, 0.5573770491803278, 0.5532786885245902, 0.5491803278688525, 0.5409836065573771, 0.5327868852459017, 0.5245901639344263, 0.5163934426229508, 0.5122950819672131, 0.5081967213114754, 0.4959016393442623, 0.48770491803278687, 0.48360655737704916, 0.47950819672131145, 0.4713114754098361, 0.46311475409836067, 0.45901639344262296, 0.45081967213114754, 0.44672131147540983, 0.4426229508196721, 0.4344262295081967, 0.430327868852459, 0.42213114754098363, 0.4180327868852459, 0.4057377049180328, 0.4016393442622951, 0.3975409836065574, 0.39344262295081966, 0.38934426229508196, 0.38114754098360654, 0.3770491803278688, 0.3729508196721312, 0.36885245901639346, 0.36475409836065575, 0.35655737704918034, 0.3524590163934426, 0.3442622950819672, 0.3360655737704918, 0.3319672131147541, 0.3237704918032787, 0.3155737704918033, 0.3114754098360656, 0.30327868852459017, 0.29508196721311475, 0.29098360655737704, 0.2827868852459016, 0.27459016393442626, 0.27049180327868855, 0.26639344262295084, 0.26229508196721313, 0.2581967213114754, 0.2540983606557377, 0.25, 0.2459016393442623, 0.24180327868852458, 0.23770491803278687, 0.2336065573770492, 0.22950819672131148, 0.22540983606557377, 0.21721311475409835, 0.21311475409836064, 0.19672131147540983, 0.1885245901639344, 0.18442622950819673, 0.1721311475409836, 0.1680327868852459, 0.16393442622950818, 0.1557377049180328, 0.15163934426229508, 0.14754098360655737, 0.13934426229508196, 0.13524590163934427, 0.13114754098360656, 0.12704918032786885, 0.12295081967213115, 0.11885245901639344, 0.11475409836065574, 0.11065573770491803, 0.10655737704918032, 0.10245901639344263, 0.09836065573770492, 0.09016393442622951, 0.0778688524590164, 0.07377049180327869, 0.06967213114754098, 0.06557377049180328, 0.06147540983606557, 0.05737704918032787, 0.05327868852459016, 0.045081967213114756, 0.036885245901639344, 0.03278688524590164, 0.02459016393442623, 0.01639344262295082, 0.00819672131147541, 0.004098360655737705, 0.0], \"xaxis\": \"x3\", \"y\": [0.9878542510121457, 0.9878048780487805, 0.9918367346938776, 0.9959016393442623, 0.9958847736625515, 0.995850622406639, 0.9958333333333333, 0.99581589958159, 0.9957805907172996, 0.9956896551724138, 0.9956521739130435, 0.9956140350877193, 0.995575221238938, 0.9955555555555555, 0.9955357142857143, 0.9955156950672646, 1.0, 1.0, 1.0, 1.0, 1.0, 1.0, 1.0, 1.0, 1.0, 1.0, 1.0, 1.0, 1.0, 1.0, 1.0, 1.0, 1.0, 1.0, 1.0, 1.0, 1.0, 1.0, 1.0, 1.0, 1.0, 1.0, 1.0, 1.0, 1.0, 1.0, 1.0, 1.0, 1.0, 1.0, 1.0, 1.0, 1.0, 1.0, 1.0, 1.0, 1.0, 1.0, 1.0, 1.0, 1.0, 1.0, 1.0, 1.0, 1.0, 1.0, 1.0, 1.0, 1.0, 1.0, 1.0, 1.0, 1.0, 1.0, 1.0, 1.0, 1.0, 1.0, 1.0, 1.0, 1.0, 1.0, 1.0, 1.0, 1.0, 1.0, 1.0, 1.0, 1.0, 1.0, 1.0, 1.0, 1.0, 1.0, 1.0, 1.0, 1.0, 1.0, 1.0, 1.0, 1.0, 1.0, 1.0, 1.0, 1.0, 1.0, 1.0, 1.0, 1.0, 1.0, 1.0, 1.0, 1.0, 1.0, 1.0, 1.0, 1.0, 1.0, 1.0, 1.0, 1.0, 1.0, 1.0, 1.0, 1.0, 1.0, 1.0, 1.0, 1.0, 1.0, 1.0, 1.0, 1.0, 1.0, 1.0, 1.0, 1.0, 1.0, 1.0, 1.0, 1.0, 1.0, 1.0, 1.0, 1.0, 1.0, 1.0, 1.0, 1.0, 1.0, 1.0, 1.0, 1.0, 1.0, 1.0, 1.0, 1.0], \"yaxis\": \"y3\"}],\n",
       "                        {\"annotations\": [{\"font\": {\"size\": 16}, \"showarrow\": false, \"text\": \"Metrics\", \"x\": 0.5, \"xanchor\": \"center\", \"xref\": \"paper\", \"y\": 1.0, \"yanchor\": \"bottom\", \"yref\": \"paper\"}, {\"font\": {\"size\": 16}, \"showarrow\": false, \"text\": \"ROC curve (1.0)\", \"x\": 0.5, \"xanchor\": \"center\", \"xref\": \"paper\", \"y\": 0.6111111111111112, \"yanchor\": \"bottom\", \"yref\": \"paper\"}, {\"font\": {\"size\": 16}, \"showarrow\": false, \"text\": \"Precision - Recall curve\", \"x\": 0.5, \"xanchor\": \"center\", \"xref\": \"paper\", \"y\": 0.22222222222222224, \"yanchor\": \"bottom\", \"yref\": \"paper\"}], \"autosize\": false, \"height\": 900, \"margin\": {\"b\": 195}, \"paper_bgcolor\": \"rgba(240,240,240, 0.95)\", \"plot_bgcolor\": \"rgba(240,240,240, 0.95)\", \"showlegend\": false, \"template\": {\"data\": {\"bar\": [{\"error_x\": {\"color\": \"#2a3f5f\"}, \"error_y\": {\"color\": \"#2a3f5f\"}, \"marker\": {\"line\": {\"color\": \"#E5ECF6\", \"width\": 0.5}}, \"type\": \"bar\"}], \"barpolar\": [{\"marker\": {\"line\": {\"color\": \"#E5ECF6\", \"width\": 0.5}}, \"type\": \"barpolar\"}], \"carpet\": [{\"aaxis\": {\"endlinecolor\": \"#2a3f5f\", \"gridcolor\": \"white\", \"linecolor\": \"white\", \"minorgridcolor\": \"white\", \"startlinecolor\": \"#2a3f5f\"}, \"baxis\": {\"endlinecolor\": \"#2a3f5f\", \"gridcolor\": \"white\", \"linecolor\": \"white\", \"minorgridcolor\": \"white\", \"startlinecolor\": \"#2a3f5f\"}, \"type\": \"carpet\"}], \"choropleth\": [{\"colorbar\": {\"outlinewidth\": 0, \"ticks\": \"\"}, \"type\": \"choropleth\"}], \"contour\": [{\"colorbar\": {\"outlinewidth\": 0, \"ticks\": \"\"}, \"colorscale\": [[0.0, \"#0d0887\"], [0.1111111111111111, \"#46039f\"], [0.2222222222222222, \"#7201a8\"], [0.3333333333333333, \"#9c179e\"], [0.4444444444444444, \"#bd3786\"], [0.5555555555555556, \"#d8576b\"], [0.6666666666666666, \"#ed7953\"], [0.7777777777777778, \"#fb9f3a\"], [0.8888888888888888, \"#fdca26\"], [1.0, \"#f0f921\"]], \"type\": \"contour\"}], \"contourcarpet\": [{\"colorbar\": {\"outlinewidth\": 0, \"ticks\": \"\"}, \"type\": \"contourcarpet\"}], \"heatmap\": [{\"colorbar\": {\"outlinewidth\": 0, \"ticks\": \"\"}, \"colorscale\": [[0.0, \"#0d0887\"], [0.1111111111111111, \"#46039f\"], [0.2222222222222222, \"#7201a8\"], [0.3333333333333333, \"#9c179e\"], [0.4444444444444444, \"#bd3786\"], [0.5555555555555556, \"#d8576b\"], [0.6666666666666666, \"#ed7953\"], [0.7777777777777778, \"#fb9f3a\"], [0.8888888888888888, \"#fdca26\"], [1.0, \"#f0f921\"]], \"type\": \"heatmap\"}], \"heatmapgl\": [{\"colorbar\": {\"outlinewidth\": 0, \"ticks\": \"\"}, \"colorscale\": [[0.0, \"#0d0887\"], [0.1111111111111111, \"#46039f\"], [0.2222222222222222, \"#7201a8\"], [0.3333333333333333, \"#9c179e\"], [0.4444444444444444, \"#bd3786\"], [0.5555555555555556, \"#d8576b\"], [0.6666666666666666, \"#ed7953\"], [0.7777777777777778, \"#fb9f3a\"], [0.8888888888888888, \"#fdca26\"], [1.0, \"#f0f921\"]], \"type\": \"heatmapgl\"}], \"histogram\": [{\"marker\": {\"colorbar\": {\"outlinewidth\": 0, \"ticks\": \"\"}}, \"type\": \"histogram\"}], \"histogram2d\": [{\"colorbar\": {\"outlinewidth\": 0, \"ticks\": \"\"}, \"colorscale\": [[0.0, \"#0d0887\"], [0.1111111111111111, \"#46039f\"], [0.2222222222222222, \"#7201a8\"], [0.3333333333333333, \"#9c179e\"], [0.4444444444444444, \"#bd3786\"], [0.5555555555555556, \"#d8576b\"], [0.6666666666666666, \"#ed7953\"], [0.7777777777777778, \"#fb9f3a\"], [0.8888888888888888, \"#fdca26\"], [1.0, \"#f0f921\"]], \"type\": \"histogram2d\"}], \"histogram2dcontour\": [{\"colorbar\": {\"outlinewidth\": 0, \"ticks\": \"\"}, \"colorscale\": [[0.0, \"#0d0887\"], [0.1111111111111111, \"#46039f\"], [0.2222222222222222, \"#7201a8\"], [0.3333333333333333, \"#9c179e\"], [0.4444444444444444, \"#bd3786\"], [0.5555555555555556, \"#d8576b\"], [0.6666666666666666, \"#ed7953\"], [0.7777777777777778, \"#fb9f3a\"], [0.8888888888888888, \"#fdca26\"], [1.0, \"#f0f921\"]], \"type\": \"histogram2dcontour\"}], \"mesh3d\": [{\"colorbar\": {\"outlinewidth\": 0, \"ticks\": \"\"}, \"type\": \"mesh3d\"}], \"parcoords\": [{\"line\": {\"colorbar\": {\"outlinewidth\": 0, \"ticks\": \"\"}}, \"type\": \"parcoords\"}], \"pie\": [{\"automargin\": true, \"type\": \"pie\"}], \"scatter\": [{\"marker\": {\"colorbar\": {\"outlinewidth\": 0, \"ticks\": \"\"}}, \"type\": \"scatter\"}], \"scatter3d\": [{\"line\": {\"colorbar\": {\"outlinewidth\": 0, \"ticks\": \"\"}}, \"marker\": {\"colorbar\": {\"outlinewidth\": 0, \"ticks\": \"\"}}, \"type\": \"scatter3d\"}], \"scattercarpet\": [{\"marker\": {\"colorbar\": {\"outlinewidth\": 0, \"ticks\": \"\"}}, \"type\": \"scattercarpet\"}], \"scattergeo\": [{\"marker\": {\"colorbar\": {\"outlinewidth\": 0, \"ticks\": \"\"}}, \"type\": \"scattergeo\"}], \"scattergl\": [{\"marker\": {\"colorbar\": {\"outlinewidth\": 0, \"ticks\": \"\"}}, \"type\": \"scattergl\"}], \"scattermapbox\": [{\"marker\": {\"colorbar\": {\"outlinewidth\": 0, \"ticks\": \"\"}}, \"type\": \"scattermapbox\"}], \"scatterpolar\": [{\"marker\": {\"colorbar\": {\"outlinewidth\": 0, \"ticks\": \"\"}}, \"type\": \"scatterpolar\"}], \"scatterpolargl\": [{\"marker\": {\"colorbar\": {\"outlinewidth\": 0, \"ticks\": \"\"}}, \"type\": \"scatterpolargl\"}], \"scatterternary\": [{\"marker\": {\"colorbar\": {\"outlinewidth\": 0, \"ticks\": \"\"}}, \"type\": \"scatterternary\"}], \"surface\": [{\"colorbar\": {\"outlinewidth\": 0, \"ticks\": \"\"}, \"colorscale\": [[0.0, \"#0d0887\"], [0.1111111111111111, \"#46039f\"], [0.2222222222222222, \"#7201a8\"], [0.3333333333333333, \"#9c179e\"], [0.4444444444444444, \"#bd3786\"], [0.5555555555555556, \"#d8576b\"], [0.6666666666666666, \"#ed7953\"], [0.7777777777777778, \"#fb9f3a\"], [0.8888888888888888, \"#fdca26\"], [1.0, \"#f0f921\"]], \"type\": \"surface\"}], \"table\": [{\"cells\": {\"fill\": {\"color\": \"#EBF0F8\"}, \"line\": {\"color\": \"white\"}}, \"header\": {\"fill\": {\"color\": \"#C8D4E3\"}, \"line\": {\"color\": \"white\"}}, \"type\": \"table\"}]}, \"layout\": {\"annotationdefaults\": {\"arrowcolor\": \"#2a3f5f\", \"arrowhead\": 0, \"arrowwidth\": 1}, \"coloraxis\": {\"colorbar\": {\"outlinewidth\": 0, \"ticks\": \"\"}}, \"colorscale\": {\"diverging\": [[0, \"#8e0152\"], [0.1, \"#c51b7d\"], [0.2, \"#de77ae\"], [0.3, \"#f1b6da\"], [0.4, \"#fde0ef\"], [0.5, \"#f7f7f7\"], [0.6, \"#e6f5d0\"], [0.7, \"#b8e186\"], [0.8, \"#7fbc41\"], [0.9, \"#4d9221\"], [1, \"#276419\"]], \"sequential\": [[0.0, \"#0d0887\"], [0.1111111111111111, \"#46039f\"], [0.2222222222222222, \"#7201a8\"], [0.3333333333333333, \"#9c179e\"], [0.4444444444444444, \"#bd3786\"], [0.5555555555555556, \"#d8576b\"], [0.6666666666666666, \"#ed7953\"], [0.7777777777777778, \"#fb9f3a\"], [0.8888888888888888, \"#fdca26\"], [1.0, \"#f0f921\"]], \"sequentialminus\": [[0.0, \"#0d0887\"], [0.1111111111111111, \"#46039f\"], [0.2222222222222222, \"#7201a8\"], [0.3333333333333333, \"#9c179e\"], [0.4444444444444444, \"#bd3786\"], [0.5555555555555556, \"#d8576b\"], [0.6666666666666666, \"#ed7953\"], [0.7777777777777778, \"#fb9f3a\"], [0.8888888888888888, \"#fdca26\"], [1.0, \"#f0f921\"]]}, \"colorway\": [\"#636efa\", \"#EF553B\", \"#00cc96\", \"#ab63fa\", \"#FFA15A\", \"#19d3f3\", \"#FF6692\", \"#B6E880\", \"#FF97FF\", \"#FECB52\"], \"font\": {\"color\": \"#2a3f5f\"}, \"geo\": {\"bgcolor\": \"white\", \"lakecolor\": \"white\", \"landcolor\": \"#E5ECF6\", \"showlakes\": true, \"showland\": true, \"subunitcolor\": \"white\"}, \"hoverlabel\": {\"align\": \"left\"}, \"hovermode\": \"closest\", \"mapbox\": {\"style\": \"light\"}, \"paper_bgcolor\": \"white\", \"plot_bgcolor\": \"#E5ECF6\", \"polar\": {\"angularaxis\": {\"gridcolor\": \"white\", \"linecolor\": \"white\", \"ticks\": \"\"}, \"bgcolor\": \"#E5ECF6\", \"radialaxis\": {\"gridcolor\": \"white\", \"linecolor\": \"white\", \"ticks\": \"\"}}, \"scene\": {\"xaxis\": {\"backgroundcolor\": \"#E5ECF6\", \"gridcolor\": \"white\", \"gridwidth\": 2, \"linecolor\": \"white\", \"showbackground\": true, \"ticks\": \"\", \"zerolinecolor\": \"white\"}, \"yaxis\": {\"backgroundcolor\": \"#E5ECF6\", \"gridcolor\": \"white\", \"gridwidth\": 2, \"linecolor\": \"white\", \"showbackground\": true, \"ticks\": \"\", \"zerolinecolor\": \"white\"}, \"zaxis\": {\"backgroundcolor\": \"#E5ECF6\", \"gridcolor\": \"white\", \"gridwidth\": 2, \"linecolor\": \"white\", \"showbackground\": true, \"ticks\": \"\", \"zerolinecolor\": \"white\"}}, \"shapedefaults\": {\"line\": {\"color\": \"#2a3f5f\"}}, \"ternary\": {\"aaxis\": {\"gridcolor\": \"white\", \"linecolor\": \"white\", \"ticks\": \"\"}, \"baxis\": {\"gridcolor\": \"white\", \"linecolor\": \"white\", \"ticks\": \"\"}, \"bgcolor\": \"#E5ECF6\", \"caxis\": {\"gridcolor\": \"white\", \"linecolor\": \"white\", \"ticks\": \"\"}}, \"title\": {\"x\": 0.05}, \"xaxis\": {\"automargin\": true, \"gridcolor\": \"white\", \"linecolor\": \"white\", \"ticks\": \"\", \"title\": {\"standoff\": 15}, \"zerolinecolor\": \"white\", \"zerolinewidth\": 2}, \"yaxis\": {\"automargin\": true, \"gridcolor\": \"white\", \"linecolor\": \"white\", \"ticks\": \"\", \"title\": {\"standoff\": 15}, \"zerolinecolor\": \"white\", \"zerolinewidth\": 2}}}, \"title\": {\"font\": {\"size\": 14}, \"text\": \"<b>Model performance</b><br>gb\"}, \"width\": 450, \"xaxis\": {\"anchor\": \"y\", \"domain\": [0.0, 1.0]}, \"xaxis2\": {\"anchor\": \"y2\", \"domain\": [0.0, 1.0], \"title\": {\"text\": \"false positive rate\"}}, \"xaxis3\": {\"anchor\": \"y3\", \"domain\": [0.0, 1.0], \"range\": [0, 1.05], \"title\": {\"text\": \"recall\"}}, \"yaxis\": {\"anchor\": \"x\", \"domain\": [0.7777777777777778, 1.0]}, \"yaxis2\": {\"anchor\": \"x2\", \"domain\": [0.3888888888888889, 0.6111111111111112], \"title\": {\"text\": \"true positive rate\"}}, \"yaxis3\": {\"anchor\": \"x3\", \"domain\": [0.0, 0.22222222222222224], \"range\": [0, 1.05], \"title\": {\"text\": \"precision\"}}},\n",
       "                        {\"responsive\": true}\n",
       "                    ).then(function(){\n",
       "                            \n",
       "var gd = document.getElementById('9dac3939-29f8-4160-b8cd-abc4fc20bb68');\n",
       "var x = new MutationObserver(function (mutations, observer) {{\n",
       "        var display = window.getComputedStyle(gd).display;\n",
       "        if (!display || display === 'none') {{\n",
       "            console.log([gd, 'removed!']);\n",
       "            Plotly.purge(gd);\n",
       "            observer.disconnect();\n",
       "        }}\n",
       "}});\n",
       "\n",
       "// Listen for the removal of the full notebook cells\n",
       "var notebookContainer = gd.closest('#notebook-container');\n",
       "if (notebookContainer) {{\n",
       "    x.observe(notebookContainer, {childList: true});\n",
       "}}\n",
       "\n",
       "// Listen for the clearing of the current output cell\n",
       "var outputEl = gd.closest('.output');\n",
       "if (outputEl) {{\n",
       "    x.observe(outputEl, {childList: true});\n",
       "}}\n",
       "\n",
       "                        })\n",
       "                };\n",
       "                });\n",
       "            </script>\n",
       "        </div>"
      ]
     },
     "metadata": {},
     "output_type": "display_data"
    }
   ],
   "source": [
    "y_pred = gb.predict(test)\n",
    "y_score = gb.predict_proba(test)[:,1]\n",
    "\n",
    "model_performance_plot('gb')"
   ]
  },
  {
   "cell_type": "code",
   "execution_count": 85,
   "metadata": {},
   "outputs": [
    {
     "data": {
      "image/png": "[encoded data removed]",
      "text/plain": [
       "<Figure size 576x576 with 1 Axes>"
      ]
     },
     "metadata": {
      "needs_background": "light"
     },
     "output_type": "display_data"
    }
   ],
   "source": [
    "plot_feature_importance(gb)"
   ]
  },
  {
   "cell_type": "markdown",
   "metadata": {},
   "source": [
    "## Decision Tree"
   ]
  },
  {
   "cell_type": "code",
   "execution_count": 86,
   "metadata": {},
   "outputs": [
    {
     "name": "stdout",
     "output_type": "stream",
     "text": [
      "Predictions finished\n"
     ]
    }
   ],
   "source": [
    "tree_params = {\n",
    "    'criterion': 'entropy',\n",
    "    'max_depth': 4,\n",
    "    'min_samples_leaf': 2,\n",
    "    'min_samples_split': 10,\n",
    "    'random_state': 123\n",
    "}\n",
    "tree_clf = tree.DecisionTreeClassifier(**tree_params)\n",
    "\n",
    "tree_clf.fit(train, target_train)\n",
    "\n",
    "dec_tree_predictions = tree_clf.predict(test)\n",
    "print(\"Predictions finished\")"
   ]
  },
  {
   "cell_type": "code",
   "execution_count": 99,
   "metadata": {},
   "outputs": [
    {
     "name": "stdout",
     "output_type": "stream",
     "text": [
      "0.7327935222672065\n",
      "              precision    recall  f1-score   support\n",
      "\n",
      "           0       0.70      0.82      0.76       250\n",
      "           1       0.78      0.64      0.70       244\n",
      "\n",
      "    accuracy                           0.73       494\n",
      "   macro avg       0.74      0.73      0.73       494\n",
      "weighted avg       0.74      0.73      0.73       494\n",
      "\n"
     ]
    }
   ],
   "source": [
    "print(accuracy_score(target_val, dec_tree_predictions))\n",
    "print(classification_report(target_val, dec_tree_predictions))"
   ]
  },
  {
   "cell_type": "code",
   "execution_count": 100,
   "metadata": {},
   "outputs": [],
   "source": [
    "from sklearn.tree import export_graphviz\n",
    "\n",
    "export_graphviz(tree_clf, out_file=\"decision_tree_orig_final.dot\", max_depth=4,feature_names=train.columns, class_names=['0','1'], impurity=False, filled=True)\n"
   ]
  },
  {
   "cell_type": "code",
   "execution_count": 101,
   "metadata": {},
   "outputs": [
    {
     "data": {
      "image/svg+xml": [
       "<?xml version=\"1.0\" encoding=\"UTF-8\" standalone=\"no\"?>\n",
       "<!DOCTYPE svg PUBLIC \"-//W3C//DTD SVG 1.1//EN\"\n",
       " \"http://www.w3.org/Graphics/SVG/1.1/DTD/svg11.dtd\">\n",
       "<!-- Generated by graphviz version 2.43.0 (0)\n",
       " -->\n",
       "<!-- Title: Tree Pages: 1 -->\n",
       "<svg width=\"1980pt\" height=\"458pt\"\n",
       " viewBox=\"0.00 0.00 1979.78 458.00\" xmlns=\"http://www.w3.org/2000/svg\" xmlns:xlink=\"http://www.w3.org/1999/xlink\">\n",
       "<g id=\"graph0\" class=\"graph\" transform=\"scale(1 1) rotate(0) translate(4 454)\">\n",
       "<title>Tree</title>\n",
       "<polygon fill=\"white\" stroke=\"transparent\" points=\"-4,4 -4,-454 1975.78,-454 1975.78,4 -4,4\"/>\n",
       "<!-- 0 -->\n",
       "<g id=\"node1\" class=\"node\">\n",
       "<title>0</title>\n",
       "<polygon fill=\"#fefeff\" stroke=\"black\" points=\"1041.81,-450 922.73,-450 922.73,-386 1041.81,-386 1041.81,-450\"/>\n",
       "<text text-anchor=\"middle\" x=\"982.27\" y=\"-434.8\" font-family=\"Times,serif\" font-size=\"14.00\">OverTime &lt;= 0.5</text>\n",
       "<text text-anchor=\"middle\" x=\"982.27\" y=\"-420.8\" font-family=\"Times,serif\" font-size=\"14.00\">samples = 1972</text>\n",
       "<text text-anchor=\"middle\" x=\"982.27\" y=\"-406.8\" font-family=\"Times,serif\" font-size=\"14.00\">value = [983, 989]</text>\n",
       "<text text-anchor=\"middle\" x=\"982.27\" y=\"-392.8\" font-family=\"Times,serif\" font-size=\"14.00\">class = 1</text>\n",
       "</g>\n",
       "<!-- 1 -->\n",
       "<g id=\"node2\" class=\"node\">\n",
       "<title>1</title>\n",
       "<polygon fill=\"#f5ceb2\" stroke=\"black\" points=\"842.42,-350 668.12,-350 668.12,-286 842.42,-286 842.42,-350\"/>\n",
       "<text text-anchor=\"middle\" x=\"755.27\" y=\"-334.8\" font-family=\"Times,serif\" font-size=\"14.00\">YearsAtCompany &lt;= &#45;0.608</text>\n",
       "<text text-anchor=\"middle\" x=\"755.27\" y=\"-320.8\" font-family=\"Times,serif\" font-size=\"14.00\">samples = 1215</text>\n",
       "<text text-anchor=\"middle\" x=\"755.27\" y=\"-306.8\" font-family=\"Times,serif\" font-size=\"14.00\">value = [754, 461]</text>\n",
       "<text text-anchor=\"middle\" x=\"755.27\" y=\"-292.8\" font-family=\"Times,serif\" font-size=\"14.00\">class = 0</text>\n",
       "</g>\n",
       "<!-- 0&#45;&gt;1 -->\n",
       "<g id=\"edge1\" class=\"edge\">\n",
       "<title>0&#45;&gt;1</title>\n",
       "<path fill=\"none\" stroke=\"black\" d=\"M922.63,-391.25C896.43,-379.94 865.24,-366.48 836.93,-354.26\"/>\n",
       "<polygon fill=\"black\" stroke=\"black\" points=\"838.02,-350.91 827.45,-350.16 835.25,-357.34 838.02,-350.91\"/>\n",
       "<text text-anchor=\"middle\" x=\"836.68\" y=\"-369.2\" font-family=\"Times,serif\" font-size=\"14.00\">True</text>\n",
       "</g>\n",
       "<!-- 16 -->\n",
       "<g id=\"node17\" class=\"node\">\n",
       "<title>16</title>\n",
       "<polygon fill=\"#8fc8f0\" stroke=\"black\" points=\"1309.93,-350 1144.61,-350 1144.61,-286 1309.93,-286 1309.93,-350\"/>\n",
       "<text text-anchor=\"middle\" x=\"1227.27\" y=\"-334.8\" font-family=\"Times,serif\" font-size=\"14.00\">MonthlyIncome &lt;= &#45;0.472</text>\n",
       "<text text-anchor=\"middle\" x=\"1227.27\" y=\"-320.8\" font-family=\"Times,serif\" font-size=\"14.00\">samples = 757</text>\n",
       "<text text-anchor=\"middle\" x=\"1227.27\" y=\"-306.8\" font-family=\"Times,serif\" font-size=\"14.00\">value = [229, 528]</text>\n",
       "<text text-anchor=\"middle\" x=\"1227.27\" y=\"-292.8\" font-family=\"Times,serif\" font-size=\"14.00\">class = 1</text>\n",
       "</g>\n",
       "<!-- 0&#45;&gt;16 -->\n",
       "<g id=\"edge16\" class=\"edge\">\n",
       "<title>0&#45;&gt;16</title>\n",
       "<path fill=\"none\" stroke=\"black\" d=\"M1041.89,-393.15C1071.41,-381.34 1107.62,-366.86 1140.17,-353.84\"/>\n",
       "<polygon fill=\"black\" stroke=\"black\" points=\"1141.71,-356.99 1149.7,-350.03 1139.11,-350.49 1141.71,-356.99\"/>\n",
       "<text text-anchor=\"middle\" x=\"1139.85\" y=\"-368.81\" font-family=\"Times,serif\" font-size=\"14.00\">False</text>\n",
       "</g>\n",
       "<!-- 2 -->\n",
       "<g id=\"node3\" class=\"node\">\n",
       "<title>2</title>\n",
       "<polygon fill=\"#cbe5f8\" stroke=\"black\" points=\"463.79,-250 344.74,-250 344.74,-186 463.79,-186 463.79,-250\"/>\n",
       "<text text-anchor=\"middle\" x=\"404.27\" y=\"-234.8\" font-family=\"Times,serif\" font-size=\"14.00\">Age &lt;= &#45;0.417</text>\n",
       "<text text-anchor=\"middle\" x=\"404.27\" y=\"-220.8\" font-family=\"Times,serif\" font-size=\"14.00\">samples = 367</text>\n",
       "<text text-anchor=\"middle\" x=\"404.27\" y=\"-206.8\" font-family=\"Times,serif\" font-size=\"14.00\">value = [156, 211]</text>\n",
       "<text text-anchor=\"middle\" x=\"404.27\" y=\"-192.8\" font-family=\"Times,serif\" font-size=\"14.00\">class = 1</text>\n",
       "</g>\n",
       "<!-- 1&#45;&gt;2 -->\n",
       "<g id=\"edge2\" class=\"edge\">\n",
       "<title>1&#45;&gt;2</title>\n",
       "<path fill=\"none\" stroke=\"black\" d=\"M668.05,-292.65C608.1,-275.91 529.57,-253.98 473.82,-238.42\"/>\n",
       "<polygon fill=\"black\" stroke=\"black\" points=\"474.61,-235.01 464.04,-235.69 472.73,-241.75 474.61,-235.01\"/>\n",
       "</g>\n",
       "<!-- 9 -->\n",
       "<g id=\"node10\" class=\"node\">\n",
       "<title>9</title>\n",
       "<polygon fill=\"#f0b68c\" stroke=\"black\" points=\"856.7,-250 653.84,-250 653.84,-186 856.7,-186 856.7,-250\"/>\n",
       "<text text-anchor=\"middle\" x=\"755.27\" y=\"-234.8\" font-family=\"Times,serif\" font-size=\"14.00\">TrainingTimesLastYear &lt;= 1.383</text>\n",
       "<text text-anchor=\"middle\" x=\"755.27\" y=\"-220.8\" font-family=\"Times,serif\" font-size=\"14.00\">samples = 848</text>\n",
       "<text text-anchor=\"middle\" x=\"755.27\" y=\"-206.8\" font-family=\"Times,serif\" font-size=\"14.00\">value = [598, 250]</text>\n",
       "<text text-anchor=\"middle\" x=\"755.27\" y=\"-192.8\" font-family=\"Times,serif\" font-size=\"14.00\">class = 0</text>\n",
       "</g>\n",
       "<!-- 1&#45;&gt;9 -->\n",
       "<g id=\"edge9\" class=\"edge\">\n",
       "<title>1&#45;&gt;9</title>\n",
       "<path fill=\"none\" stroke=\"black\" d=\"M755.27,-285.99C755.27,-277.86 755.27,-268.96 755.27,-260.38\"/>\n",
       "<polygon fill=\"black\" stroke=\"black\" points=\"758.77,-260.14 755.27,-250.14 751.77,-260.14 758.77,-260.14\"/>\n",
       "</g>\n",
       "<!-- 3 -->\n",
       "<g id=\"node4\" class=\"node\">\n",
       "<title>3</title>\n",
       "<polygon fill=\"#75bbed\" stroke=\"black\" points=\"262.71,-150 103.83,-150 103.83,-86 262.71,-86 262.71,-150\"/>\n",
       "<text text-anchor=\"middle\" x=\"183.27\" y=\"-134.8\" font-family=\"Times,serif\" font-size=\"14.00\">StockOptionLevel &lt;= 0.5</text>\n",
       "<text text-anchor=\"middle\" x=\"183.27\" y=\"-120.8\" font-family=\"Times,serif\" font-size=\"14.00\">samples = 219</text>\n",
       "<text text-anchor=\"middle\" x=\"183.27\" y=\"-106.8\" font-family=\"Times,serif\" font-size=\"14.00\">value = [51, 168]</text>\n",
       "<text text-anchor=\"middle\" x=\"183.27\" y=\"-92.8\" font-family=\"Times,serif\" font-size=\"14.00\">class = 1</text>\n",
       "</g>\n",
       "<!-- 2&#45;&gt;3 -->\n",
       "<g id=\"edge3\" class=\"edge\">\n",
       "<title>2&#45;&gt;3</title>\n",
       "<path fill=\"none\" stroke=\"black\" d=\"M344.75,-190.61C319.59,-179.45 289.92,-166.29 262.91,-154.32\"/>\n",
       "<polygon fill=\"black\" stroke=\"black\" points=\"264.05,-150.99 253.49,-150.14 261.21,-157.39 264.05,-150.99\"/>\n",
       "</g>\n",
       "<!-- 6 -->\n",
       "<g id=\"node7\" class=\"node\">\n",
       "<title>6</title>\n",
       "<polygon fill=\"#f0b58a\" stroke=\"black\" points=\"502.25,-150 306.28,-150 306.28,-86 502.25,-86 502.25,-150\"/>\n",
       "<text text-anchor=\"middle\" x=\"404.27\" y=\"-134.8\" font-family=\"Times,serif\" font-size=\"14.00\">EnvironmentSatisfaction &lt;= 1.5</text>\n",
       "<text text-anchor=\"middle\" x=\"404.27\" y=\"-120.8\" font-family=\"Times,serif\" font-size=\"14.00\">samples = 148</text>\n",
       "<text text-anchor=\"middle\" x=\"404.27\" y=\"-106.8\" font-family=\"Times,serif\" font-size=\"14.00\">value = [105, 43]</text>\n",
       "<text text-anchor=\"middle\" x=\"404.27\" y=\"-92.8\" font-family=\"Times,serif\" font-size=\"14.00\">class = 0</text>\n",
       "</g>\n",
       "<!-- 2&#45;&gt;6 -->\n",
       "<g id=\"edge6\" class=\"edge\">\n",
       "<title>2&#45;&gt;6</title>\n",
       "<path fill=\"none\" stroke=\"black\" d=\"M404.27,-185.99C404.27,-177.86 404.27,-168.96 404.27,-160.38\"/>\n",
       "<polygon fill=\"black\" stroke=\"black\" points=\"407.77,-160.14 404.27,-150.14 400.77,-160.14 407.77,-160.14\"/>\n",
       "</g>\n",
       "<!-- 4 -->\n",
       "<g id=\"node5\" class=\"node\">\n",
       "<title>4</title>\n",
       "<polygon fill=\"#58ace9\" stroke=\"black\" points=\"112.31,-50 0.23,-50 0.23,0 112.31,0 112.31,-50\"/>\n",
       "<text text-anchor=\"middle\" x=\"56.27\" y=\"-34.8\" font-family=\"Times,serif\" font-size=\"14.00\">samples = 149</text>\n",
       "<text text-anchor=\"middle\" x=\"56.27\" y=\"-20.8\" font-family=\"Times,serif\" font-size=\"14.00\">value = [20, 129]</text>\n",
       "<text text-anchor=\"middle\" x=\"56.27\" y=\"-6.8\" font-family=\"Times,serif\" font-size=\"14.00\">class = 1</text>\n",
       "</g>\n",
       "<!-- 3&#45;&gt;4 -->\n",
       "<g id=\"edge4\" class=\"edge\">\n",
       "<title>3&#45;&gt;4</title>\n",
       "<path fill=\"none\" stroke=\"black\" d=\"M139.92,-85.94C126.35,-76.22 111.41,-65.51 97.96,-55.88\"/>\n",
       "<polygon fill=\"black\" stroke=\"black\" points=\"99.97,-53.01 89.81,-50.03 95.9,-58.7 99.97,-53.01\"/>\n",
       "</g>\n",
       "<!-- 5 -->\n",
       "<g id=\"node6\" class=\"node\">\n",
       "<title>5</title>\n",
       "<polygon fill=\"#d6ebfa\" stroke=\"black\" points=\"235.81,-50 130.73,-50 130.73,0 235.81,0 235.81,-50\"/>\n",
       "<text text-anchor=\"middle\" x=\"183.27\" y=\"-34.8\" font-family=\"Times,serif\" font-size=\"14.00\">samples = 70</text>\n",
       "<text text-anchor=\"middle\" x=\"183.27\" y=\"-20.8\" font-family=\"Times,serif\" font-size=\"14.00\">value = [31, 39]</text>\n",
       "<text text-anchor=\"middle\" x=\"183.27\" y=\"-6.8\" font-family=\"Times,serif\" font-size=\"14.00\">class = 1</text>\n",
       "</g>\n",
       "<!-- 3&#45;&gt;5 -->\n",
       "<g id=\"edge5\" class=\"edge\">\n",
       "<title>3&#45;&gt;5</title>\n",
       "<path fill=\"none\" stroke=\"black\" d=\"M183.27,-85.94C183.27,-77.68 183.27,-68.72 183.27,-60.31\"/>\n",
       "<polygon fill=\"black\" stroke=\"black\" points=\"186.77,-60.03 183.27,-50.03 179.77,-60.03 186.77,-60.03\"/>\n",
       "</g>\n",
       "<!-- 7 -->\n",
       "<g id=\"node8\" class=\"node\">\n",
       "<title>7</title>\n",
       "<polygon fill=\"#bbddf6\" stroke=\"black\" points=\"359.81,-50 254.73,-50 254.73,0 359.81,0 359.81,-50\"/>\n",
       "<text text-anchor=\"middle\" x=\"307.27\" y=\"-34.8\" font-family=\"Times,serif\" font-size=\"14.00\">samples = 48</text>\n",
       "<text text-anchor=\"middle\" x=\"307.27\" y=\"-20.8\" font-family=\"Times,serif\" font-size=\"14.00\">value = [19, 29]</text>\n",
       "<text text-anchor=\"middle\" x=\"307.27\" y=\"-6.8\" font-family=\"Times,serif\" font-size=\"14.00\">class = 1</text>\n",
       "</g>\n",
       "<!-- 6&#45;&gt;7 -->\n",
       "<g id=\"edge7\" class=\"edge\">\n",
       "<title>6&#45;&gt;7</title>\n",
       "<path fill=\"none\" stroke=\"black\" d=\"M371.16,-85.94C361.19,-76.58 350.25,-66.32 340.28,-56.97\"/>\n",
       "<polygon fill=\"black\" stroke=\"black\" points=\"342.57,-54.32 332.88,-50.03 337.78,-59.42 342.57,-54.32\"/>\n",
       "</g>\n",
       "<!-- 8 -->\n",
       "<g id=\"node9\" class=\"node\">\n",
       "<title>8</title>\n",
       "<polygon fill=\"#e99659\" stroke=\"black\" points=\"483.81,-50 378.73,-50 378.73,0 483.81,0 483.81,-50\"/>\n",
       "<text text-anchor=\"middle\" x=\"431.27\" y=\"-34.8\" font-family=\"Times,serif\" font-size=\"14.00\">samples = 100</text>\n",
       "<text text-anchor=\"middle\" x=\"431.27\" y=\"-20.8\" font-family=\"Times,serif\" font-size=\"14.00\">value = [86, 14]</text>\n",
       "<text text-anchor=\"middle\" x=\"431.27\" y=\"-6.8\" font-family=\"Times,serif\" font-size=\"14.00\">class = 0</text>\n",
       "</g>\n",
       "<!-- 6&#45;&gt;8 -->\n",
       "<g id=\"edge8\" class=\"edge\">\n",
       "<title>6&#45;&gt;8</title>\n",
       "<path fill=\"none\" stroke=\"black\" d=\"M413.48,-85.94C415.99,-77.5 418.71,-68.32 421.26,-59.75\"/>\n",
       "<polygon fill=\"black\" stroke=\"black\" points=\"424.65,-60.61 424.14,-50.03 417.94,-58.62 424.65,-60.61\"/>\n",
       "</g>\n",
       "<!-- 10 -->\n",
       "<g id=\"node11\" class=\"node\">\n",
       "<title>10</title>\n",
       "<polygon fill=\"#f2be99\" stroke=\"black\" points=\"746.1,-150 604.43,-150 604.43,-86 746.1,-86 746.1,-150\"/>\n",
       "<text text-anchor=\"middle\" x=\"675.27\" y=\"-134.8\" font-family=\"Times,serif\" font-size=\"14.00\">JobSatisfaction &lt;= 1.5</text>\n",
       "<text text-anchor=\"middle\" x=\"675.27\" y=\"-120.8\" font-family=\"Times,serif\" font-size=\"14.00\">samples = 755</text>\n",
       "<text text-anchor=\"middle\" x=\"675.27\" y=\"-106.8\" font-family=\"Times,serif\" font-size=\"14.00\">value = [509, 246]</text>\n",
       "<text text-anchor=\"middle\" x=\"675.27\" y=\"-92.8\" font-family=\"Times,serif\" font-size=\"14.00\">class = 0</text>\n",
       "</g>\n",
       "<!-- 9&#45;&gt;10 -->\n",
       "<g id=\"edge10\" class=\"edge\">\n",
       "<title>9&#45;&gt;10</title>\n",
       "<path fill=\"none\" stroke=\"black\" d=\"M729.96,-185.99C722.73,-177.14 714.77,-167.39 707.21,-158.12\"/>\n",
       "<polygon fill=\"black\" stroke=\"black\" points=\"709.73,-155.68 700.69,-150.14 704.3,-160.1 709.73,-155.68\"/>\n",
       "</g>\n",
       "<!-- 13 -->\n",
       "<g id=\"node14\" class=\"node\">\n",
       "<title>13</title>\n",
       "<polygon fill=\"#e68742\" stroke=\"black\" points=\"906.07,-150 764.47,-150 764.47,-86 906.07,-86 906.07,-150\"/>\n",
       "<text text-anchor=\"middle\" x=\"835.27\" y=\"-134.8\" font-family=\"Times,serif\" font-size=\"14.00\">frequent_travel &lt;= 0.5</text>\n",
       "<text text-anchor=\"middle\" x=\"835.27\" y=\"-120.8\" font-family=\"Times,serif\" font-size=\"14.00\">samples = 93</text>\n",
       "<text text-anchor=\"middle\" x=\"835.27\" y=\"-106.8\" font-family=\"Times,serif\" font-size=\"14.00\">value = [89, 4]</text>\n",
       "<text text-anchor=\"middle\" x=\"835.27\" y=\"-92.8\" font-family=\"Times,serif\" font-size=\"14.00\">class = 0</text>\n",
       "</g>\n",
       "<!-- 9&#45;&gt;13 -->\n",
       "<g id=\"edge13\" class=\"edge\">\n",
       "<title>9&#45;&gt;13</title>\n",
       "<path fill=\"none\" stroke=\"black\" d=\"M780.58,-185.99C787.8,-177.14 795.77,-167.39 803.33,-158.12\"/>\n",
       "<polygon fill=\"black\" stroke=\"black\" points=\"806.23,-160.1 809.85,-150.14 800.81,-155.68 806.23,-160.1\"/>\n",
       "</g>\n",
       "<!-- 11 -->\n",
       "<g id=\"node12\" class=\"node\">\n",
       "<title>11</title>\n",
       "<polygon fill=\"#fefaf7\" stroke=\"black\" points=\"614.31,-50 502.23,-50 502.23,0 614.31,0 614.31,-50\"/>\n",
       "<text text-anchor=\"middle\" x=\"558.27\" y=\"-34.8\" font-family=\"Times,serif\" font-size=\"14.00\">samples = 202</text>\n",
       "<text text-anchor=\"middle\" x=\"558.27\" y=\"-20.8\" font-family=\"Times,serif\" font-size=\"14.00\">value = [103, 99]</text>\n",
       "<text text-anchor=\"middle\" x=\"558.27\" y=\"-6.8\" font-family=\"Times,serif\" font-size=\"14.00\">class = 0</text>\n",
       "</g>\n",
       "<!-- 10&#45;&gt;11 -->\n",
       "<g id=\"edge11\" class=\"edge\">\n",
       "<title>10&#45;&gt;11</title>\n",
       "<path fill=\"none\" stroke=\"black\" d=\"M635.33,-85.94C623.07,-76.4 609.59,-65.92 597.38,-56.42\"/>\n",
       "<polygon fill=\"black\" stroke=\"black\" points=\"599.21,-53.41 589.16,-50.03 594.91,-58.93 599.21,-53.41\"/>\n",
       "</g>\n",
       "<!-- 12 -->\n",
       "<g id=\"node13\" class=\"node\">\n",
       "<title>12</title>\n",
       "<polygon fill=\"#eeaf81\" stroke=\"black\" points=\"751.81,-50 632.73,-50 632.73,0 751.81,0 751.81,-50\"/>\n",
       "<text text-anchor=\"middle\" x=\"692.27\" y=\"-34.8\" font-family=\"Times,serif\" font-size=\"14.00\">samples = 553</text>\n",
       "<text text-anchor=\"middle\" x=\"692.27\" y=\"-20.8\" font-family=\"Times,serif\" font-size=\"14.00\">value = [406, 147]</text>\n",
       "<text text-anchor=\"middle\" x=\"692.27\" y=\"-6.8\" font-family=\"Times,serif\" font-size=\"14.00\">class = 0</text>\n",
       "</g>\n",
       "<!-- 10&#45;&gt;12 -->\n",
       "<g id=\"edge12\" class=\"edge\">\n",
       "<title>10&#45;&gt;12</title>\n",
       "<path fill=\"none\" stroke=\"black\" d=\"M681.07,-85.94C682.63,-77.59 684.32,-68.52 685.91,-60.02\"/>\n",
       "<polygon fill=\"black\" stroke=\"black\" points=\"689.38,-60.5 687.78,-50.03 682.5,-59.22 689.38,-60.5\"/>\n",
       "</g>\n",
       "<!-- 14 -->\n",
       "<g id=\"node15\" class=\"node\">\n",
       "<title>14</title>\n",
       "<polygon fill=\"#e58139\" stroke=\"black\" points=\"868.31,-50 770.23,-50 770.23,0 868.31,0 868.31,-50\"/>\n",
       "<text text-anchor=\"middle\" x=\"819.27\" y=\"-34.8\" font-family=\"Times,serif\" font-size=\"14.00\">samples = 78</text>\n",
       "<text text-anchor=\"middle\" x=\"819.27\" y=\"-20.8\" font-family=\"Times,serif\" font-size=\"14.00\">value = [78, 0]</text>\n",
       "<text text-anchor=\"middle\" x=\"819.27\" y=\"-6.8\" font-family=\"Times,serif\" font-size=\"14.00\">class = 0</text>\n",
       "</g>\n",
       "<!-- 13&#45;&gt;14 -->\n",
       "<g id=\"edge14\" class=\"edge\">\n",
       "<title>13&#45;&gt;14</title>\n",
       "<path fill=\"none\" stroke=\"black\" d=\"M829.81,-85.94C828.34,-77.59 826.75,-68.52 825.25,-60.02\"/>\n",
       "<polygon fill=\"black\" stroke=\"black\" points=\"828.67,-59.27 823.49,-50.03 821.78,-60.49 828.67,-59.27\"/>\n",
       "</g>\n",
       "<!-- 15 -->\n",
       "<g id=\"node16\" class=\"node\">\n",
       "<title>15</title>\n",
       "<polygon fill=\"#eeaf81\" stroke=\"black\" points=\"984.29,-50 886.24,-50 886.24,0 984.29,0 984.29,-50\"/>\n",
       "<text text-anchor=\"middle\" x=\"935.27\" y=\"-34.8\" font-family=\"Times,serif\" font-size=\"14.00\">samples = 15</text>\n",
       "<text text-anchor=\"middle\" x=\"935.27\" y=\"-20.8\" font-family=\"Times,serif\" font-size=\"14.00\">value = [11, 4]</text>\n",
       "<text text-anchor=\"middle\" x=\"935.27\" y=\"-6.8\" font-family=\"Times,serif\" font-size=\"14.00\">class = 0</text>\n",
       "</g>\n",
       "<!-- 13&#45;&gt;15 -->\n",
       "<g id=\"edge15\" class=\"edge\">\n",
       "<title>13&#45;&gt;15</title>\n",
       "<path fill=\"none\" stroke=\"black\" d=\"M869.4,-85.94C879.68,-76.58 890.96,-66.32 901.23,-56.97\"/>\n",
       "<polygon fill=\"black\" stroke=\"black\" points=\"903.82,-59.35 908.86,-50.03 899.11,-54.17 903.82,-59.35\"/>\n",
       "</g>\n",
       "<!-- 17 -->\n",
       "<g id=\"node18\" class=\"node\">\n",
       "<title>17</title>\n",
       "<polygon fill=\"#57ace9\" stroke=\"black\" points=\"1283.31,-250 1171.23,-250 1171.23,-186 1283.31,-186 1283.31,-250\"/>\n",
       "<text text-anchor=\"middle\" x=\"1227.27\" y=\"-234.8\" font-family=\"Times,serif\" font-size=\"14.00\">Age &lt;= 0.004</text>\n",
       "<text text-anchor=\"middle\" x=\"1227.27\" y=\"-220.8\" font-family=\"Times,serif\" font-size=\"14.00\">samples = 377</text>\n",
       "<text text-anchor=\"middle\" x=\"1227.27\" y=\"-206.8\" font-family=\"Times,serif\" font-size=\"14.00\">value = [50, 327]</text>\n",
       "<text text-anchor=\"middle\" x=\"1227.27\" y=\"-192.8\" font-family=\"Times,serif\" font-size=\"14.00\">class = 1</text>\n",
       "</g>\n",
       "<!-- 16&#45;&gt;17 -->\n",
       "<g id=\"edge17\" class=\"edge\">\n",
       "<title>16&#45;&gt;17</title>\n",
       "<path fill=\"none\" stroke=\"black\" d=\"M1227.27,-285.99C1227.27,-277.86 1227.27,-268.96 1227.27,-260.38\"/>\n",
       "<polygon fill=\"black\" stroke=\"black\" points=\"1230.77,-260.14 1227.27,-250.14 1223.77,-260.14 1230.77,-260.14\"/>\n",
       "</g>\n",
       "<!-- 24 -->\n",
       "<g id=\"node25\" class=\"node\">\n",
       "<title>24</title>\n",
       "<polygon fill=\"#e9f4fc\" stroke=\"black\" points=\"1638.64,-250 1515.89,-250 1515.89,-186 1638.64,-186 1638.64,-250\"/>\n",
       "<text text-anchor=\"middle\" x=\"1577.27\" y=\"-234.8\" font-family=\"Times,serif\" font-size=\"14.00\">Department &lt;= 1.5</text>\n",
       "<text text-anchor=\"middle\" x=\"1577.27\" y=\"-220.8\" font-family=\"Times,serif\" font-size=\"14.00\">samples = 380</text>\n",
       "<text text-anchor=\"middle\" x=\"1577.27\" y=\"-206.8\" font-family=\"Times,serif\" font-size=\"14.00\">value = [179, 201]</text>\n",
       "<text text-anchor=\"middle\" x=\"1577.27\" y=\"-192.8\" font-family=\"Times,serif\" font-size=\"14.00\">class = 1</text>\n",
       "</g>\n",
       "<!-- 16&#45;&gt;24 -->\n",
       "<g id=\"edge24\" class=\"edge\">\n",
       "<title>16&#45;&gt;24</title>\n",
       "<path fill=\"none\" stroke=\"black\" d=\"M1310.21,-293.78C1369.81,-277.09 1449.31,-254.83 1506.04,-238.94\"/>\n",
       "<polygon fill=\"black\" stroke=\"black\" points=\"1507.32,-242.22 1516,-236.15 1505.43,-235.48 1507.32,-242.22\"/>\n",
       "</g>\n",
       "<!-- 18 -->\n",
       "<g id=\"node19\" class=\"node\">\n",
       "<title>18</title>\n",
       "<polygon fill=\"#4ca6e7\" stroke=\"black\" points=\"1220.42,-150 1046.12,-150 1046.12,-86 1220.42,-86 1220.42,-150\"/>\n",
       "<text text-anchor=\"middle\" x=\"1133.27\" y=\"-134.8\" font-family=\"Times,serif\" font-size=\"14.00\">YearsAtCompany &lt;= &#45;0.767</text>\n",
       "<text text-anchor=\"middle\" x=\"1133.27\" y=\"-120.8\" font-family=\"Times,serif\" font-size=\"14.00\">samples = 289</text>\n",
       "<text text-anchor=\"middle\" x=\"1133.27\" y=\"-106.8\" font-family=\"Times,serif\" font-size=\"14.00\">value = [25, 264]</text>\n",
       "<text text-anchor=\"middle\" x=\"1133.27\" y=\"-92.8\" font-family=\"Times,serif\" font-size=\"14.00\">class = 1</text>\n",
       "</g>\n",
       "<!-- 17&#45;&gt;18 -->\n",
       "<g id=\"edge18\" class=\"edge\">\n",
       "<title>17&#45;&gt;18</title>\n",
       "<path fill=\"none\" stroke=\"black\" d=\"M1197.53,-185.99C1188.87,-176.97 1179.3,-166.99 1170.26,-157.56\"/>\n",
       "<polygon fill=\"black\" stroke=\"black\" points=\"1172.59,-154.94 1163.14,-150.14 1167.54,-159.78 1172.59,-154.94\"/>\n",
       "</g>\n",
       "<!-- 21 -->\n",
       "<g id=\"node22\" class=\"node\">\n",
       "<title>21</title>\n",
       "<polygon fill=\"#88c4ef\" stroke=\"black\" points=\"1403.93,-150 1238.61,-150 1238.61,-86 1403.93,-86 1403.93,-150\"/>\n",
       "<text text-anchor=\"middle\" x=\"1321.27\" y=\"-134.8\" font-family=\"Times,serif\" font-size=\"14.00\">MonthlyIncome &lt;= &#45;0.843</text>\n",
       "<text text-anchor=\"middle\" x=\"1321.27\" y=\"-120.8\" font-family=\"Times,serif\" font-size=\"14.00\">samples = 88</text>\n",
       "<text text-anchor=\"middle\" x=\"1321.27\" y=\"-106.8\" font-family=\"Times,serif\" font-size=\"14.00\">value = [25, 63]</text>\n",
       "<text text-anchor=\"middle\" x=\"1321.27\" y=\"-92.8\" font-family=\"Times,serif\" font-size=\"14.00\">class = 1</text>\n",
       "</g>\n",
       "<!-- 17&#45;&gt;21 -->\n",
       "<g id=\"edge21\" class=\"edge\">\n",
       "<title>17&#45;&gt;21</title>\n",
       "<path fill=\"none\" stroke=\"black\" d=\"M1257.01,-185.99C1265.67,-176.97 1275.23,-166.99 1284.28,-157.56\"/>\n",
       "<polygon fill=\"black\" stroke=\"black\" points=\"1287,-159.78 1291.4,-150.14 1281.95,-154.94 1287,-159.78\"/>\n",
       "</g>\n",
       "<!-- 19 -->\n",
       "<g id=\"node20\" class=\"node\">\n",
       "<title>19</title>\n",
       "<polygon fill=\"#3d9fe5\" stroke=\"black\" points=\"1106.28,-50 1002.26,-50 1002.26,0 1106.28,0 1106.28,-50\"/>\n",
       "<text text-anchor=\"middle\" x=\"1054.27\" y=\"-34.8\" font-family=\"Times,serif\" font-size=\"14.00\">samples = 113</text>\n",
       "<text text-anchor=\"middle\" x=\"1054.27\" y=\"-20.8\" font-family=\"Times,serif\" font-size=\"14.00\">value = [2, 111]</text>\n",
       "<text text-anchor=\"middle\" x=\"1054.27\" y=\"-6.8\" font-family=\"Times,serif\" font-size=\"14.00\">class = 1</text>\n",
       "</g>\n",
       "<!-- 18&#45;&gt;19 -->\n",
       "<g id=\"edge19\" class=\"edge\">\n",
       "<title>18&#45;&gt;19</title>\n",
       "<path fill=\"none\" stroke=\"black\" d=\"M1106.3,-85.94C1098.42,-76.86 1089.79,-66.92 1081.87,-57.8\"/>\n",
       "<polygon fill=\"black\" stroke=\"black\" points=\"1084.33,-55.29 1075.13,-50.03 1079.04,-59.88 1084.33,-55.29\"/>\n",
       "</g>\n",
       "<!-- 20 -->\n",
       "<g id=\"node21\" class=\"node\">\n",
       "<title>20</title>\n",
       "<polygon fill=\"#57ace9\" stroke=\"black\" points=\"1237.31,-50 1125.23,-50 1125.23,0 1237.31,0 1237.31,-50\"/>\n",
       "<text text-anchor=\"middle\" x=\"1181.27\" y=\"-34.8\" font-family=\"Times,serif\" font-size=\"14.00\">samples = 176</text>\n",
       "<text text-anchor=\"middle\" x=\"1181.27\" y=\"-20.8\" font-family=\"Times,serif\" font-size=\"14.00\">value = [23, 153]</text>\n",
       "<text text-anchor=\"middle\" x=\"1181.27\" y=\"-6.8\" font-family=\"Times,serif\" font-size=\"14.00\">class = 1</text>\n",
       "</g>\n",
       "<!-- 18&#45;&gt;20 -->\n",
       "<g id=\"edge20\" class=\"edge\">\n",
       "<title>18&#45;&gt;20</title>\n",
       "<path fill=\"none\" stroke=\"black\" d=\"M1149.65,-85.94C1154.25,-77.22 1159.26,-67.72 1163.91,-58.91\"/>\n",
       "<polygon fill=\"black\" stroke=\"black\" points=\"1167.02,-60.51 1168.59,-50.03 1160.83,-57.24 1167.02,-60.51\"/>\n",
       "</g>\n",
       "<!-- 22 -->\n",
       "<g id=\"node23\" class=\"node\">\n",
       "<title>22</title>\n",
       "<polygon fill=\"#399de5\" stroke=\"black\" points=\"1346.81,-50 1255.73,-50 1255.73,0 1346.81,0 1346.81,-50\"/>\n",
       "<text text-anchor=\"middle\" x=\"1301.27\" y=\"-34.8\" font-family=\"Times,serif\" font-size=\"14.00\">samples = 9</text>\n",
       "<text text-anchor=\"middle\" x=\"1301.27\" y=\"-20.8\" font-family=\"Times,serif\" font-size=\"14.00\">value = [0, 9]</text>\n",
       "<text text-anchor=\"middle\" x=\"1301.27\" y=\"-6.8\" font-family=\"Times,serif\" font-size=\"14.00\">class = 1</text>\n",
       "</g>\n",
       "<!-- 21&#45;&gt;22 -->\n",
       "<g id=\"edge22\" class=\"edge\">\n",
       "<title>21&#45;&gt;22</title>\n",
       "<path fill=\"none\" stroke=\"black\" d=\"M1314.44,-85.94C1312.61,-77.59 1310.61,-68.52 1308.75,-60.02\"/>\n",
       "<polygon fill=\"black\" stroke=\"black\" points=\"1312.11,-59.05 1306.55,-50.03 1305.28,-60.55 1312.11,-59.05\"/>\n",
       "</g>\n",
       "<!-- 23 -->\n",
       "<g id=\"node24\" class=\"node\">\n",
       "<title>23</title>\n",
       "<polygon fill=\"#95caf1\" stroke=\"black\" points=\"1470.81,-50 1365.73,-50 1365.73,0 1470.81,0 1470.81,-50\"/>\n",
       "<text text-anchor=\"middle\" x=\"1418.27\" y=\"-34.8\" font-family=\"Times,serif\" font-size=\"14.00\">samples = 79</text>\n",
       "<text text-anchor=\"middle\" x=\"1418.27\" y=\"-20.8\" font-family=\"Times,serif\" font-size=\"14.00\">value = [25, 54]</text>\n",
       "<text text-anchor=\"middle\" x=\"1418.27\" y=\"-6.8\" font-family=\"Times,serif\" font-size=\"14.00\">class = 1</text>\n",
       "</g>\n",
       "<!-- 21&#45;&gt;23 -->\n",
       "<g id=\"edge23\" class=\"edge\">\n",
       "<title>21&#45;&gt;23</title>\n",
       "<path fill=\"none\" stroke=\"black\" d=\"M1354.38,-85.94C1364.35,-76.58 1375.29,-66.32 1385.26,-56.97\"/>\n",
       "<polygon fill=\"black\" stroke=\"black\" points=\"1387.76,-59.42 1392.65,-50.03 1382.97,-54.32 1387.76,-59.42\"/>\n",
       "</g>\n",
       "<!-- 25 -->\n",
       "<g id=\"node26\" class=\"node\">\n",
       "<title>25</title>\n",
       "<polygon fill=\"#f2bf9a\" stroke=\"black\" points=\"1680.03,-150 1474.51,-150 1474.51,-86 1680.03,-86 1680.03,-150\"/>\n",
       "<text text-anchor=\"middle\" x=\"1577.27\" y=\"-134.8\" font-family=\"Times,serif\" font-size=\"14.00\">NumCompaniesWorked &lt;= 1.419</text>\n",
       "<text text-anchor=\"middle\" x=\"1577.27\" y=\"-120.8\" font-family=\"Times,serif\" font-size=\"14.00\">samples = 182</text>\n",
       "<text text-anchor=\"middle\" x=\"1577.27\" y=\"-106.8\" font-family=\"Times,serif\" font-size=\"14.00\">value = [122, 60]</text>\n",
       "<text text-anchor=\"middle\" x=\"1577.27\" y=\"-92.8\" font-family=\"Times,serif\" font-size=\"14.00\">class = 0</text>\n",
       "</g>\n",
       "<!-- 24&#45;&gt;25 -->\n",
       "<g id=\"edge25\" class=\"edge\">\n",
       "<title>24&#45;&gt;25</title>\n",
       "<path fill=\"none\" stroke=\"black\" d=\"M1577.27,-185.99C1577.27,-177.86 1577.27,-168.96 1577.27,-160.38\"/>\n",
       "<polygon fill=\"black\" stroke=\"black\" points=\"1580.77,-160.14 1577.27,-150.14 1573.77,-160.14 1580.77,-160.14\"/>\n",
       "</g>\n",
       "<!-- 28 -->\n",
       "<g id=\"node29\" class=\"node\">\n",
       "<title>28</title>\n",
       "<polygon fill=\"#89c5f0\" stroke=\"black\" points=\"1861.99,-150 1730.54,-150 1730.54,-86 1861.99,-86 1861.99,-150\"/>\n",
       "<text text-anchor=\"middle\" x=\"1796.27\" y=\"-134.8\" font-family=\"Times,serif\" font-size=\"14.00\">MaritalStatus &lt;= 1.5</text>\n",
       "<text text-anchor=\"middle\" x=\"1796.27\" y=\"-120.8\" font-family=\"Times,serif\" font-size=\"14.00\">samples = 198</text>\n",
       "<text text-anchor=\"middle\" x=\"1796.27\" y=\"-106.8\" font-family=\"Times,serif\" font-size=\"14.00\">value = [57, 141]</text>\n",
       "<text text-anchor=\"middle\" x=\"1796.27\" y=\"-92.8\" font-family=\"Times,serif\" font-size=\"14.00\">class = 1</text>\n",
       "</g>\n",
       "<!-- 24&#45;&gt;28 -->\n",
       "<g id=\"edge28\" class=\"edge\">\n",
       "<title>24&#45;&gt;28</title>\n",
       "<path fill=\"none\" stroke=\"black\" d=\"M1638.56,-189.57C1664.15,-178.12 1694.11,-164.71 1721.01,-152.68\"/>\n",
       "<polygon fill=\"black\" stroke=\"black\" points=\"1722.69,-155.76 1730.39,-148.48 1719.83,-149.37 1722.69,-155.76\"/>\n",
       "</g>\n",
       "<!-- 26 -->\n",
       "<g id=\"node27\" class=\"node\">\n",
       "<title>26</title>\n",
       "<polygon fill=\"#eca36e\" stroke=\"black\" points=\"1601.29,-50 1489.24,-50 1489.24,0 1601.29,0 1601.29,-50\"/>\n",
       "<text text-anchor=\"middle\" x=\"1545.27\" y=\"-34.8\" font-family=\"Times,serif\" font-size=\"14.00\">samples = 142</text>\n",
       "<text text-anchor=\"middle\" x=\"1545.27\" y=\"-20.8\" font-family=\"Times,serif\" font-size=\"14.00\">value = [112, 30]</text>\n",
       "<text text-anchor=\"middle\" x=\"1545.27\" y=\"-6.8\" font-family=\"Times,serif\" font-size=\"14.00\">class = 0</text>\n",
       "</g>\n",
       "<!-- 25&#45;&gt;26 -->\n",
       "<g id=\"edge26\" class=\"edge\">\n",
       "<title>25&#45;&gt;26</title>\n",
       "<path fill=\"none\" stroke=\"black\" d=\"M1566.35,-85.94C1563.35,-77.41 1560.08,-68.12 1557.04,-59.47\"/>\n",
       "<polygon fill=\"black\" stroke=\"black\" points=\"1560.34,-58.3 1553.72,-50.03 1553.73,-60.62 1560.34,-58.3\"/>\n",
       "</g>\n",
       "<!-- 27 -->\n",
       "<g id=\"node28\" class=\"node\">\n",
       "<title>27</title>\n",
       "<polygon fill=\"#7bbeee\" stroke=\"black\" points=\"1724.81,-50 1619.73,-50 1619.73,0 1724.81,0 1724.81,-50\"/>\n",
       "<text text-anchor=\"middle\" x=\"1672.27\" y=\"-34.8\" font-family=\"Times,serif\" font-size=\"14.00\">samples = 40</text>\n",
       "<text text-anchor=\"middle\" x=\"1672.27\" y=\"-20.8\" font-family=\"Times,serif\" font-size=\"14.00\">value = [10, 30]</text>\n",
       "<text text-anchor=\"middle\" x=\"1672.27\" y=\"-6.8\" font-family=\"Times,serif\" font-size=\"14.00\">class = 1</text>\n",
       "</g>\n",
       "<!-- 25&#45;&gt;27 -->\n",
       "<g id=\"edge27\" class=\"edge\">\n",
       "<title>25&#45;&gt;27</title>\n",
       "<path fill=\"none\" stroke=\"black\" d=\"M1609.7,-85.94C1619.46,-76.58 1630.18,-66.32 1639.94,-56.97\"/>\n",
       "<polygon fill=\"black\" stroke=\"black\" points=\"1642.38,-59.48 1647.18,-50.03 1637.54,-54.42 1642.38,-59.48\"/>\n",
       "</g>\n",
       "<!-- 29 -->\n",
       "<g id=\"node30\" class=\"node\">\n",
       "<title>29</title>\n",
       "<polygon fill=\"#ffffff\" stroke=\"black\" points=\"1848.81,-50 1743.73,-50 1743.73,0 1848.81,0 1848.81,-50\"/>\n",
       "<text text-anchor=\"middle\" x=\"1796.27\" y=\"-34.8\" font-family=\"Times,serif\" font-size=\"14.00\">samples = 92</text>\n",
       "<text text-anchor=\"middle\" x=\"1796.27\" y=\"-20.8\" font-family=\"Times,serif\" font-size=\"14.00\">value = [46, 46]</text>\n",
       "<text text-anchor=\"middle\" x=\"1796.27\" y=\"-6.8\" font-family=\"Times,serif\" font-size=\"14.00\">class = 0</text>\n",
       "</g>\n",
       "<!-- 28&#45;&gt;29 -->\n",
       "<g id=\"edge29\" class=\"edge\">\n",
       "<title>28&#45;&gt;29</title>\n",
       "<path fill=\"none\" stroke=\"black\" d=\"M1796.27,-85.94C1796.27,-77.68 1796.27,-68.72 1796.27,-60.31\"/>\n",
       "<polygon fill=\"black\" stroke=\"black\" points=\"1799.77,-60.03 1796.27,-50.03 1792.77,-60.03 1799.77,-60.03\"/>\n",
       "</g>\n",
       "<!-- 30 -->\n",
       "<g id=\"node31\" class=\"node\">\n",
       "<title>30</title>\n",
       "<polygon fill=\"#50a8e8\" stroke=\"black\" points=\"1971.79,-50 1866.74,-50 1866.74,0 1971.79,0 1971.79,-50\"/>\n",
       "<text text-anchor=\"middle\" x=\"1919.27\" y=\"-34.8\" font-family=\"Times,serif\" font-size=\"14.00\">samples = 106</text>\n",
       "<text text-anchor=\"middle\" x=\"1919.27\" y=\"-20.8\" font-family=\"Times,serif\" font-size=\"14.00\">value = [11, 95]</text>\n",
       "<text text-anchor=\"middle\" x=\"1919.27\" y=\"-6.8\" font-family=\"Times,serif\" font-size=\"14.00\">class = 1</text>\n",
       "</g>\n",
       "<!-- 28&#45;&gt;30 -->\n",
       "<g id=\"edge30\" class=\"edge\">\n",
       "<title>28&#45;&gt;30</title>\n",
       "<path fill=\"none\" stroke=\"black\" d=\"M1838.25,-85.94C1851.27,-76.31 1865.59,-65.72 1878.52,-56.15\"/>\n",
       "<polygon fill=\"black\" stroke=\"black\" points=\"1880.83,-58.79 1886.79,-50.03 1876.67,-53.16 1880.83,-58.79\"/>\n",
       "</g>\n",
       "</g>\n",
       "</svg>\n"
      ],
      "text/plain": [
       "<graphviz.files.Source at 0x120e1c190>"
      ]
     },
     "execution_count": 101,
     "metadata": {},
     "output_type": "execute_result"
    }
   ],
   "source": [
    "import graphviz\n",
    "with open(\"decision_tree_orig_final.dot\") as f:\n",
    "    dot_graph = f.read()\n",
    "graphviz.Source(dot_graph)"
   ]
  },
  {
   "cell_type": "code",
   "execution_count": 88,
   "metadata": {},
   "outputs": [
    {
     "data": {
      "application/vnd.plotly.v1+json": {
       "config": {
        "linkText": "Export to plot.ly",
        "plotlyServerURL": "https://plot.ly",
        "showLink": false
       },
       "data": [
        {
         "marker": {
          "color": [
           "gold",
           "lightgreen",
           "lightcoral",
           "lightskyblue"
          ],
          "line": {
           "color": "#000000",
           "width": 1.5
          }
         },
         "opacity": 0.8,
         "orientation": "h",
         "text": [
          0.7328,
          0.78,
          0.6393,
          0.7027
         ],
         "textposition": "auto",
         "type": "bar",
         "x": [
          0.7327935222672065,
          0.78,
          0.639344262295082,
          0.7027027027027027
         ],
         "xaxis": "x",
         "y": [
          "Accuracy",
          "Precision",
          "Recall",
          "F1_score"
         ],
         "yaxis": "y"
        },
        {
         "fill": "tozeroy",
         "line": {
          "color": "rgb(22, 96, 167)",
          "width": 2
         },
         "name": "Roc : ",
         "type": "scatter",
         "x": [
          0,
          0.004,
          0.02,
          0.032,
          0.056,
          0.08,
          0.1,
          0.116,
          0.136,
          0.176,
          0.228,
          0.304,
          0.328,
          0.772,
          0.868,
          0.916,
          1
         ],
         "xaxis": "x2",
         "y": [
          0,
          0.00819672131147541,
          0.11885245901639344,
          0.20491803278688525,
          0.36065573770491804,
          0.4713114754098361,
          0.5,
          0.5737704918032787,
          0.5983606557377049,
          0.639344262295082,
          0.6762295081967213,
          0.7868852459016393,
          0.7950819672131147,
          0.9262295081967213,
          0.9713114754098361,
          1,
          1
         ],
         "yaxis": "y2"
        },
        {
         "line": {
          "color": "black",
          "dash": "dot",
          "width": 1.5
         },
         "type": "scatter",
         "x": [
          0,
          1
         ],
         "xaxis": "x2",
         "y": [
          0,
          1
         ],
         "yaxis": "y2"
        },
        {
         "fill": "tozeroy",
         "line": {
          "color": "lightcoral",
          "width": 2
         },
         "name": "Precision[0.51585624 0.52202643 0.53937947 0.70289855 0.71641791 0.74324324\n 0.78       0.81111111 0.82840237 0.82993197 0.85185185 0.8627451\n 0.86206897 0.85294118 0.66666667 1.        ]",
         "type": "scatter",
         "x": [
          1,
          0.9713114754098361,
          0.9262295081967213,
          0.7950819672131147,
          0.7868852459016393,
          0.6762295081967213,
          0.639344262295082,
          0.5983606557377049,
          0.5737704918032787,
          0.5,
          0.4713114754098361,
          0.36065573770491804,
          0.20491803278688525,
          0.11885245901639344,
          0.00819672131147541,
          0
         ],
         "xaxis": "x3",
         "y": [
          0.5158562367864693,
          0.5220264317180616,
          0.5393794749403341,
          0.7028985507246377,
          0.7164179104477612,
          0.7432432432432432,
          0.78,
          0.8111111111111111,
          0.8284023668639053,
          0.8299319727891157,
          0.8518518518518519,
          0.8627450980392157,
          0.8620689655172413,
          0.8529411764705882,
          0.6666666666666666,
          1
         ],
         "yaxis": "y3"
        }
       ],
       "layout": {
        "annotations": [
         {
          "font": {
           "size": 16
          },
          "showarrow": false,
          "text": "Metrics",
          "x": 0.5,
          "xanchor": "center",
          "xref": "paper",
          "y": 1,
          "yanchor": "bottom",
          "yref": "paper"
         },
         {
          "font": {
           "size": 16
          },
          "showarrow": false,
          "text": "ROC curve (0.788)",
          "x": 0.5,
          "xanchor": "center",
          "xref": "paper",
          "y": 0.6111111111111112,
          "yanchor": "bottom",
          "yref": "paper"
         },
         {
          "font": {
           "size": 16
          },
          "showarrow": false,
          "text": "Precision - Recall curve",
          "x": 0.5,
          "xanchor": "center",
          "xref": "paper",
          "y": 0.22222222222222224,
          "yanchor": "bottom",
          "yref": "paper"
         }
        ],
        "autosize": false,
        "height": 900,
        "margin": {
         "b": 195
        },
        "paper_bgcolor": "rgba(240,240,240, 0.95)",
        "plot_bgcolor": "rgba(240,240,240, 0.95)",
        "showlegend": false,
        "template": {
         "data": {
          "bar": [
           {
            "error_x": {
             "color": "#2a3f5f"
            },
            "error_y": {
             "color": "#2a3f5f"
            },
            "marker": {
             "line": {
              "color": "#E5ECF6",
              "width": 0.5
             }
            },
            "type": "bar"
           }
          ],
          "barpolar": [
           {
            "marker": {
             "line": {
              "color": "#E5ECF6",
              "width": 0.5
             }
            },
            "type": "barpolar"
           }
          ],
          "carpet": [
           {
            "aaxis": {
             "endlinecolor": "#2a3f5f",
             "gridcolor": "white",
             "linecolor": "white",
             "minorgridcolor": "white",
             "startlinecolor": "#2a3f5f"
            },
            "baxis": {
             "endlinecolor": "#2a3f5f",
             "gridcolor": "white",
             "linecolor": "white",
             "minorgridcolor": "white",
             "startlinecolor": "#2a3f5f"
            },
            "type": "carpet"
           }
          ],
          "choropleth": [
           {
            "colorbar": {
             "outlinewidth": 0,
             "ticks": ""
            },
            "type": "choropleth"
           }
          ],
          "contour": [
           {
            "colorbar": {
             "outlinewidth": 0,
             "ticks": ""
            },
            "colorscale": [
             [
              0,
              "#0d0887"
             ],
             [
              0.1111111111111111,
              "#46039f"
             ],
             [
              0.2222222222222222,
              "#7201a8"
             ],
             [
              0.3333333333333333,
              "#9c179e"
             ],
             [
              0.4444444444444444,
              "#bd3786"
             ],
             [
              0.5555555555555556,
              "#d8576b"
             ],
             [
              0.6666666666666666,
              "#ed7953"
             ],
             [
              0.7777777777777778,
              "#fb9f3a"
             ],
             [
              0.8888888888888888,
              "#fdca26"
             ],
             [
              1,
              "#f0f921"
             ]
            ],
            "type": "contour"
           }
          ],
          "contourcarpet": [
           {
            "colorbar": {
             "outlinewidth": 0,
             "ticks": ""
            },
            "type": "contourcarpet"
           }
          ],
          "heatmap": [
           {
            "colorbar": {
             "outlinewidth": 0,
             "ticks": ""
            },
            "colorscale": [
             [
              0,
              "#0d0887"
             ],
             [
              0.1111111111111111,
              "#46039f"
             ],
             [
              0.2222222222222222,
              "#7201a8"
             ],
             [
              0.3333333333333333,
              "#9c179e"
             ],
             [
              0.4444444444444444,
              "#bd3786"
             ],
             [
              0.5555555555555556,
              "#d8576b"
             ],
             [
              0.6666666666666666,
              "#ed7953"
             ],
             [
              0.7777777777777778,
              "#fb9f3a"
             ],
             [
              0.8888888888888888,
              "#fdca26"
             ],
             [
              1,
              "#f0f921"
             ]
            ],
            "type": "heatmap"
           }
          ],
          "heatmapgl": [
           {
            "colorbar": {
             "outlinewidth": 0,
             "ticks": ""
            },
            "colorscale": [
             [
              0,
              "#0d0887"
             ],
             [
              0.1111111111111111,
              "#46039f"
             ],
             [
              0.2222222222222222,
              "#7201a8"
             ],
             [
              0.3333333333333333,
              "#9c179e"
             ],
             [
              0.4444444444444444,
              "#bd3786"
             ],
             [
              0.5555555555555556,
              "#d8576b"
             ],
             [
              0.6666666666666666,
              "#ed7953"
             ],
             [
              0.7777777777777778,
              "#fb9f3a"
             ],
             [
              0.8888888888888888,
              "#fdca26"
             ],
             [
              1,
              "#f0f921"
             ]
            ],
            "type": "heatmapgl"
           }
          ],
          "histogram": [
           {
            "marker": {
             "colorbar": {
              "outlinewidth": 0,
              "ticks": ""
             }
            },
            "type": "histogram"
           }
          ],
          "histogram2d": [
           {
            "colorbar": {
             "outlinewidth": 0,
             "ticks": ""
            },
            "colorscale": [
             [
              0,
              "#0d0887"
             ],
             [
              0.1111111111111111,
              "#46039f"
             ],
             [
              0.2222222222222222,
              "#7201a8"
             ],
             [
              0.3333333333333333,
              "#9c179e"
             ],
             [
              0.4444444444444444,
              "#bd3786"
             ],
             [
              0.5555555555555556,
              "#d8576b"
             ],
             [
              0.6666666666666666,
              "#ed7953"
             ],
             [
              0.7777777777777778,
              "#fb9f3a"
             ],
             [
              0.8888888888888888,
              "#fdca26"
             ],
             [
              1,
              "#f0f921"
             ]
            ],
            "type": "histogram2d"
           }
          ],
          "histogram2dcontour": [
           {
            "colorbar": {
             "outlinewidth": 0,
             "ticks": ""
            },
            "colorscale": [
             [
              0,
              "#0d0887"
             ],
             [
              0.1111111111111111,
              "#46039f"
             ],
             [
              0.2222222222222222,
              "#7201a8"
             ],
             [
              0.3333333333333333,
              "#9c179e"
             ],
             [
              0.4444444444444444,
              "#bd3786"
             ],
             [
              0.5555555555555556,
              "#d8576b"
             ],
             [
              0.6666666666666666,
              "#ed7953"
             ],
             [
              0.7777777777777778,
              "#fb9f3a"
             ],
             [
              0.8888888888888888,
              "#fdca26"
             ],
             [
              1,
              "#f0f921"
             ]
            ],
            "type": "histogram2dcontour"
           }
          ],
          "mesh3d": [
           {
            "colorbar": {
             "outlinewidth": 0,
             "ticks": ""
            },
            "type": "mesh3d"
           }
          ],
          "parcoords": [
           {
            "line": {
             "colorbar": {
              "outlinewidth": 0,
              "ticks": ""
             }
            },
            "type": "parcoords"
           }
          ],
          "pie": [
           {
            "automargin": true,
            "type": "pie"
           }
          ],
          "scatter": [
           {
            "marker": {
             "colorbar": {
              "outlinewidth": 0,
              "ticks": ""
             }
            },
            "type": "scatter"
           }
          ],
          "scatter3d": [
           {
            "line": {
             "colorbar": {
              "outlinewidth": 0,
              "ticks": ""
             }
            },
            "marker": {
             "colorbar": {
              "outlinewidth": 0,
              "ticks": ""
             }
            },
            "type": "scatter3d"
           }
          ],
          "scattercarpet": [
           {
            "marker": {
             "colorbar": {
              "outlinewidth": 0,
              "ticks": ""
             }
            },
            "type": "scattercarpet"
           }
          ],
          "scattergeo": [
           {
            "marker": {
             "colorbar": {
              "outlinewidth": 0,
              "ticks": ""
             }
            },
            "type": "scattergeo"
           }
          ],
          "scattergl": [
           {
            "marker": {
             "colorbar": {
              "outlinewidth": 0,
              "ticks": ""
             }
            },
            "type": "scattergl"
           }
          ],
          "scattermapbox": [
           {
            "marker": {
             "colorbar": {
              "outlinewidth": 0,
              "ticks": ""
             }
            },
            "type": "scattermapbox"
           }
          ],
          "scatterpolar": [
           {
            "marker": {
             "colorbar": {
              "outlinewidth": 0,
              "ticks": ""
             }
            },
            "type": "scatterpolar"
           }
          ],
          "scatterpolargl": [
           {
            "marker": {
             "colorbar": {
              "outlinewidth": 0,
              "ticks": ""
             }
            },
            "type": "scatterpolargl"
           }
          ],
          "scatterternary": [
           {
            "marker": {
             "colorbar": {
              "outlinewidth": 0,
              "ticks": ""
             }
            },
            "type": "scatterternary"
           }
          ],
          "surface": [
           {
            "colorbar": {
             "outlinewidth": 0,
             "ticks": ""
            },
            "colorscale": [
             [
              0,
              "#0d0887"
             ],
             [
              0.1111111111111111,
              "#46039f"
             ],
             [
              0.2222222222222222,
              "#7201a8"
             ],
             [
              0.3333333333333333,
              "#9c179e"
             ],
             [
              0.4444444444444444,
              "#bd3786"
             ],
             [
              0.5555555555555556,
              "#d8576b"
             ],
             [
              0.6666666666666666,
              "#ed7953"
             ],
             [
              0.7777777777777778,
              "#fb9f3a"
             ],
             [
              0.8888888888888888,
              "#fdca26"
             ],
             [
              1,
              "#f0f921"
             ]
            ],
            "type": "surface"
           }
          ],
          "table": [
           {
            "cells": {
             "fill": {
              "color": "#EBF0F8"
             },
             "line": {
              "color": "white"
             }
            },
            "header": {
             "fill": {
              "color": "#C8D4E3"
             },
             "line": {
              "color": "white"
             }
            },
            "type": "table"
           }
          ]
         },
         "layout": {
          "annotationdefaults": {
           "arrowcolor": "#2a3f5f",
           "arrowhead": 0,
           "arrowwidth": 1
          },
          "coloraxis": {
           "colorbar": {
            "outlinewidth": 0,
            "ticks": ""
           }
          },
          "colorscale": {
           "diverging": [
            [
             0,
             "#8e0152"
            ],
            [
             0.1,
             "#c51b7d"
            ],
            [
             0.2,
             "#de77ae"
            ],
            [
             0.3,
             "#f1b6da"
            ],
            [
             0.4,
             "#fde0ef"
            ],
            [
             0.5,
             "#f7f7f7"
            ],
            [
             0.6,
             "#e6f5d0"
            ],
            [
             0.7,
             "#b8e186"
            ],
            [
             0.8,
             "#7fbc41"
            ],
            [
             0.9,
             "#4d9221"
            ],
            [
             1,
             "#276419"
            ]
           ],
           "sequential": [
            [
             0,
             "#0d0887"
            ],
            [
             0.1111111111111111,
             "#46039f"
            ],
            [
             0.2222222222222222,
             "#7201a8"
            ],
            [
             0.3333333333333333,
             "#9c179e"
            ],
            [
             0.4444444444444444,
             "#bd3786"
            ],
            [
             0.5555555555555556,
             "#d8576b"
            ],
            [
             0.6666666666666666,
             "#ed7953"
            ],
            [
             0.7777777777777778,
             "#fb9f3a"
            ],
            [
             0.8888888888888888,
             "#fdca26"
            ],
            [
             1,
             "#f0f921"
            ]
           ],
           "sequentialminus": [
            [
             0,
             "#0d0887"
            ],
            [
             0.1111111111111111,
             "#46039f"
            ],
            [
             0.2222222222222222,
             "#7201a8"
            ],
            [
             0.3333333333333333,
             "#9c179e"
            ],
            [
             0.4444444444444444,
             "#bd3786"
            ],
            [
             0.5555555555555556,
             "#d8576b"
            ],
            [
             0.6666666666666666,
             "#ed7953"
            ],
            [
             0.7777777777777778,
             "#fb9f3a"
            ],
            [
             0.8888888888888888,
             "#fdca26"
            ],
            [
             1,
             "#f0f921"
            ]
           ]
          },
          "colorway": [
           "#636efa",
           "#EF553B",
           "#00cc96",
           "#ab63fa",
           "#FFA15A",
           "#19d3f3",
           "#FF6692",
           "#B6E880",
           "#FF97FF",
           "#FECB52"
          ],
          "font": {
           "color": "#2a3f5f"
          },
          "geo": {
           "bgcolor": "white",
           "lakecolor": "white",
           "landcolor": "#E5ECF6",
           "showlakes": true,
           "showland": true,
           "subunitcolor": "white"
          },
          "hoverlabel": {
           "align": "left"
          },
          "hovermode": "closest",
          "mapbox": {
           "style": "light"
          },
          "paper_bgcolor": "white",
          "plot_bgcolor": "#E5ECF6",
          "polar": {
           "angularaxis": {
            "gridcolor": "white",
            "linecolor": "white",
            "ticks": ""
           },
           "bgcolor": "#E5ECF6",
           "radialaxis": {
            "gridcolor": "white",
            "linecolor": "white",
            "ticks": ""
           }
          },
          "scene": {
           "xaxis": {
            "backgroundcolor": "#E5ECF6",
            "gridcolor": "white",
            "gridwidth": 2,
            "linecolor": "white",
            "showbackground": true,
            "ticks": "",
            "zerolinecolor": "white"
           },
           "yaxis": {
            "backgroundcolor": "#E5ECF6",
            "gridcolor": "white",
            "gridwidth": 2,
            "linecolor": "white",
            "showbackground": true,
            "ticks": "",
            "zerolinecolor": "white"
           },
           "zaxis": {
            "backgroundcolor": "#E5ECF6",
            "gridcolor": "white",
            "gridwidth": 2,
            "linecolor": "white",
            "showbackground": true,
            "ticks": "",
            "zerolinecolor": "white"
           }
          },
          "shapedefaults": {
           "line": {
            "color": "#2a3f5f"
           }
          },
          "ternary": {
           "aaxis": {
            "gridcolor": "white",
            "linecolor": "white",
            "ticks": ""
           },
           "baxis": {
            "gridcolor": "white",
            "linecolor": "white",
            "ticks": ""
           },
           "bgcolor": "#E5ECF6",
           "caxis": {
            "gridcolor": "white",
            "linecolor": "white",
            "ticks": ""
           }
          },
          "title": {
           "x": 0.05
          },
          "xaxis": {
           "automargin": true,
           "gridcolor": "white",
           "linecolor": "white",
           "ticks": "",
           "title": {
            "standoff": 15
           },
           "zerolinecolor": "white",
           "zerolinewidth": 2
          },
          "yaxis": {
           "automargin": true,
           "gridcolor": "white",
           "linecolor": "white",
           "ticks": "",
           "title": {
            "standoff": 15
           },
           "zerolinecolor": "white",
           "zerolinewidth": 2
          }
         }
        },
        "title": {
         "font": {
          "size": 14
         },
         "text": "<b>Model performance</b><br>tree_clf"
        },
        "width": 450,
        "xaxis": {
         "anchor": "y",
         "domain": [
          0,
          1
         ]
        },
        "xaxis2": {
         "anchor": "y2",
         "domain": [
          0,
          1
         ],
         "title": {
          "text": "false positive rate"
         }
        },
        "xaxis3": {
         "anchor": "y3",
         "domain": [
          0,
          1
         ],
         "range": [
          0,
          1.05
         ],
         "title": {
          "text": "recall"
         }
        },
        "yaxis": {
         "anchor": "x",
         "domain": [
          0.7777777777777778,
          1
         ]
        },
        "yaxis2": {
         "anchor": "x2",
         "domain": [
          0.3888888888888889,
          0.6111111111111112
         ],
         "title": {
          "text": "true positive rate"
         }
        },
        "yaxis3": {
         "anchor": "x3",
         "domain": [
          0,
          0.22222222222222224
         ],
         "range": [
          0,
          1.05
         ],
         "title": {
          "text": "precision"
         }
        }
       }
      },
      "text/html": [
       "<div>\n",
       "        \n",
       "        \n",
       "            <div id=\"833c345f-cf85-4e1e-b456-7a3c9506add0\" class=\"plotly-graph-div\" style=\"height:900px; width:450px;\"></div>\n",
       "            <script type=\"text/javascript\">\n",
       "                require([\"plotly\"], function(Plotly) {\n",
       "                    window.PLOTLYENV=window.PLOTLYENV || {};\n",
       "                    \n",
       "                if (document.getElementById(\"833c345f-cf85-4e1e-b456-7a3c9506add0\")) {\n",
       "                    Plotly.newPlot(\n",
       "                        '833c345f-cf85-4e1e-b456-7a3c9506add0',\n",
       "                        [{\"marker\": {\"color\": [\"gold\", \"lightgreen\", \"lightcoral\", \"lightskyblue\"], \"line\": {\"color\": \"#000000\", \"width\": 1.5}}, \"opacity\": 0.8, \"orientation\": \"h\", \"text\": [0.7328, 0.78, 0.6393, 0.7027], \"textposition\": \"auto\", \"type\": \"bar\", \"x\": [0.7327935222672065, 0.78, 0.639344262295082, 0.7027027027027027], \"xaxis\": \"x\", \"y\": [\"Accuracy\", \"Precision\", \"Recall\", \"F1_score\"], \"yaxis\": \"y\"}, {\"fill\": \"tozeroy\", \"line\": {\"color\": \"rgb(22, 96, 167)\", \"width\": 2}, \"name\": \"Roc : \", \"type\": \"scatter\", \"x\": [0.0, 0.004, 0.02, 0.032, 0.056, 0.08, 0.1, 0.116, 0.136, 0.176, 0.228, 0.304, 0.328, 0.772, 0.868, 0.916, 1.0], \"xaxis\": \"x2\", \"y\": [0.0, 0.00819672131147541, 0.11885245901639344, 0.20491803278688525, 0.36065573770491804, 0.4713114754098361, 0.5, 0.5737704918032787, 0.5983606557377049, 0.639344262295082, 0.6762295081967213, 0.7868852459016393, 0.7950819672131147, 0.9262295081967213, 0.9713114754098361, 1.0, 1.0], \"yaxis\": \"y2\"}, {\"line\": {\"color\": \"black\", \"dash\": \"dot\", \"width\": 1.5}, \"type\": \"scatter\", \"x\": [0, 1], \"xaxis\": \"x2\", \"y\": [0, 1], \"yaxis\": \"y2\"}, {\"fill\": \"tozeroy\", \"line\": {\"color\": \"lightcoral\", \"width\": 2}, \"name\": \"Precision[0.51585624 0.52202643 0.53937947 0.70289855 0.71641791 0.74324324\\n 0.78       0.81111111 0.82840237 0.82993197 0.85185185 0.8627451\\n 0.86206897 0.85294118 0.66666667 1.        ]\", \"type\": \"scatter\", \"x\": [1.0, 0.9713114754098361, 0.9262295081967213, 0.7950819672131147, 0.7868852459016393, 0.6762295081967213, 0.639344262295082, 0.5983606557377049, 0.5737704918032787, 0.5, 0.4713114754098361, 0.36065573770491804, 0.20491803278688525, 0.11885245901639344, 0.00819672131147541, 0.0], \"xaxis\": \"x3\", \"y\": [0.5158562367864693, 0.5220264317180616, 0.5393794749403341, 0.7028985507246377, 0.7164179104477612, 0.7432432432432432, 0.78, 0.8111111111111111, 0.8284023668639053, 0.8299319727891157, 0.8518518518518519, 0.8627450980392157, 0.8620689655172413, 0.8529411764705882, 0.6666666666666666, 1.0], \"yaxis\": \"y3\"}],\n",
       "                        {\"annotations\": [{\"font\": {\"size\": 16}, \"showarrow\": false, \"text\": \"Metrics\", \"x\": 0.5, \"xanchor\": \"center\", \"xref\": \"paper\", \"y\": 1.0, \"yanchor\": \"bottom\", \"yref\": \"paper\"}, {\"font\": {\"size\": 16}, \"showarrow\": false, \"text\": \"ROC curve (0.788)\", \"x\": 0.5, \"xanchor\": \"center\", \"xref\": \"paper\", \"y\": 0.6111111111111112, \"yanchor\": \"bottom\", \"yref\": \"paper\"}, {\"font\": {\"size\": 16}, \"showarrow\": false, \"text\": \"Precision - Recall curve\", \"x\": 0.5, \"xanchor\": \"center\", \"xref\": \"paper\", \"y\": 0.22222222222222224, \"yanchor\": \"bottom\", \"yref\": \"paper\"}], \"autosize\": false, \"height\": 900, \"margin\": {\"b\": 195}, \"paper_bgcolor\": \"rgba(240,240,240, 0.95)\", \"plot_bgcolor\": \"rgba(240,240,240, 0.95)\", \"showlegend\": false, \"template\": {\"data\": {\"bar\": [{\"error_x\": {\"color\": \"#2a3f5f\"}, \"error_y\": {\"color\": \"#2a3f5f\"}, \"marker\": {\"line\": {\"color\": \"#E5ECF6\", \"width\": 0.5}}, \"type\": \"bar\"}], \"barpolar\": [{\"marker\": {\"line\": {\"color\": \"#E5ECF6\", \"width\": 0.5}}, \"type\": \"barpolar\"}], \"carpet\": [{\"aaxis\": {\"endlinecolor\": \"#2a3f5f\", \"gridcolor\": \"white\", \"linecolor\": \"white\", \"minorgridcolor\": \"white\", \"startlinecolor\": \"#2a3f5f\"}, \"baxis\": {\"endlinecolor\": \"#2a3f5f\", \"gridcolor\": \"white\", \"linecolor\": \"white\", \"minorgridcolor\": \"white\", \"startlinecolor\": \"#2a3f5f\"}, \"type\": \"carpet\"}], \"choropleth\": [{\"colorbar\": {\"outlinewidth\": 0, \"ticks\": \"\"}, \"type\": \"choropleth\"}], \"contour\": [{\"colorbar\": {\"outlinewidth\": 0, \"ticks\": \"\"}, \"colorscale\": [[0.0, \"#0d0887\"], [0.1111111111111111, \"#46039f\"], [0.2222222222222222, \"#7201a8\"], [0.3333333333333333, \"#9c179e\"], [0.4444444444444444, \"#bd3786\"], [0.5555555555555556, \"#d8576b\"], [0.6666666666666666, \"#ed7953\"], [0.7777777777777778, \"#fb9f3a\"], [0.8888888888888888, \"#fdca26\"], [1.0, \"#f0f921\"]], \"type\": \"contour\"}], \"contourcarpet\": [{\"colorbar\": {\"outlinewidth\": 0, \"ticks\": \"\"}, \"type\": \"contourcarpet\"}], \"heatmap\": [{\"colorbar\": {\"outlinewidth\": 0, \"ticks\": \"\"}, \"colorscale\": [[0.0, \"#0d0887\"], [0.1111111111111111, \"#46039f\"], [0.2222222222222222, \"#7201a8\"], [0.3333333333333333, \"#9c179e\"], [0.4444444444444444, \"#bd3786\"], [0.5555555555555556, \"#d8576b\"], [0.6666666666666666, \"#ed7953\"], [0.7777777777777778, \"#fb9f3a\"], [0.8888888888888888, \"#fdca26\"], [1.0, \"#f0f921\"]], \"type\": \"heatmap\"}], \"heatmapgl\": [{\"colorbar\": {\"outlinewidth\": 0, \"ticks\": \"\"}, \"colorscale\": [[0.0, \"#0d0887\"], [0.1111111111111111, \"#46039f\"], [0.2222222222222222, \"#7201a8\"], [0.3333333333333333, \"#9c179e\"], [0.4444444444444444, \"#bd3786\"], [0.5555555555555556, \"#d8576b\"], [0.6666666666666666, \"#ed7953\"], [0.7777777777777778, \"#fb9f3a\"], [0.8888888888888888, \"#fdca26\"], [1.0, \"#f0f921\"]], \"type\": \"heatmapgl\"}], \"histogram\": [{\"marker\": {\"colorbar\": {\"outlinewidth\": 0, \"ticks\": \"\"}}, \"type\": \"histogram\"}], \"histogram2d\": [{\"colorbar\": {\"outlinewidth\": 0, \"ticks\": \"\"}, \"colorscale\": [[0.0, \"#0d0887\"], [0.1111111111111111, \"#46039f\"], [0.2222222222222222, \"#7201a8\"], [0.3333333333333333, \"#9c179e\"], [0.4444444444444444, \"#bd3786\"], [0.5555555555555556, \"#d8576b\"], [0.6666666666666666, \"#ed7953\"], [0.7777777777777778, \"#fb9f3a\"], [0.8888888888888888, \"#fdca26\"], [1.0, \"#f0f921\"]], \"type\": \"histogram2d\"}], \"histogram2dcontour\": [{\"colorbar\": {\"outlinewidth\": 0, \"ticks\": \"\"}, \"colorscale\": [[0.0, \"#0d0887\"], [0.1111111111111111, \"#46039f\"], [0.2222222222222222, \"#7201a8\"], [0.3333333333333333, \"#9c179e\"], [0.4444444444444444, \"#bd3786\"], [0.5555555555555556, \"#d8576b\"], [0.6666666666666666, \"#ed7953\"], [0.7777777777777778, \"#fb9f3a\"], [0.8888888888888888, \"#fdca26\"], [1.0, \"#f0f921\"]], \"type\": \"histogram2dcontour\"}], \"mesh3d\": [{\"colorbar\": {\"outlinewidth\": 0, \"ticks\": \"\"}, \"type\": \"mesh3d\"}], \"parcoords\": [{\"line\": {\"colorbar\": {\"outlinewidth\": 0, \"ticks\": \"\"}}, \"type\": \"parcoords\"}], \"pie\": [{\"automargin\": true, \"type\": \"pie\"}], \"scatter\": [{\"marker\": {\"colorbar\": {\"outlinewidth\": 0, \"ticks\": \"\"}}, \"type\": \"scatter\"}], \"scatter3d\": [{\"line\": {\"colorbar\": {\"outlinewidth\": 0, \"ticks\": \"\"}}, \"marker\": {\"colorbar\": {\"outlinewidth\": 0, \"ticks\": \"\"}}, \"type\": \"scatter3d\"}], \"scattercarpet\": [{\"marker\": {\"colorbar\": {\"outlinewidth\": 0, \"ticks\": \"\"}}, \"type\": \"scattercarpet\"}], \"scattergeo\": [{\"marker\": {\"colorbar\": {\"outlinewidth\": 0, \"ticks\": \"\"}}, \"type\": \"scattergeo\"}], \"scattergl\": [{\"marker\": {\"colorbar\": {\"outlinewidth\": 0, \"ticks\": \"\"}}, \"type\": \"scattergl\"}], \"scattermapbox\": [{\"marker\": {\"colorbar\": {\"outlinewidth\": 0, \"ticks\": \"\"}}, \"type\": \"scattermapbox\"}], \"scatterpolar\": [{\"marker\": {\"colorbar\": {\"outlinewidth\": 0, \"ticks\": \"\"}}, \"type\": \"scatterpolar\"}], \"scatterpolargl\": [{\"marker\": {\"colorbar\": {\"outlinewidth\": 0, \"ticks\": \"\"}}, \"type\": \"scatterpolargl\"}], \"scatterternary\": [{\"marker\": {\"colorbar\": {\"outlinewidth\": 0, \"ticks\": \"\"}}, \"type\": \"scatterternary\"}], \"surface\": [{\"colorbar\": {\"outlinewidth\": 0, \"ticks\": \"\"}, \"colorscale\": [[0.0, \"#0d0887\"], [0.1111111111111111, \"#46039f\"], [0.2222222222222222, \"#7201a8\"], [0.3333333333333333, \"#9c179e\"], [0.4444444444444444, \"#bd3786\"], [0.5555555555555556, \"#d8576b\"], [0.6666666666666666, \"#ed7953\"], [0.7777777777777778, \"#fb9f3a\"], [0.8888888888888888, \"#fdca26\"], [1.0, \"#f0f921\"]], \"type\": \"surface\"}], \"table\": [{\"cells\": {\"fill\": {\"color\": \"#EBF0F8\"}, \"line\": {\"color\": \"white\"}}, \"header\": {\"fill\": {\"color\": \"#C8D4E3\"}, \"line\": {\"color\": \"white\"}}, \"type\": \"table\"}]}, \"layout\": {\"annotationdefaults\": {\"arrowcolor\": \"#2a3f5f\", \"arrowhead\": 0, \"arrowwidth\": 1}, \"coloraxis\": {\"colorbar\": {\"outlinewidth\": 0, \"ticks\": \"\"}}, \"colorscale\": {\"diverging\": [[0, \"#8e0152\"], [0.1, \"#c51b7d\"], [0.2, \"#de77ae\"], [0.3, \"#f1b6da\"], [0.4, \"#fde0ef\"], [0.5, \"#f7f7f7\"], [0.6, \"#e6f5d0\"], [0.7, \"#b8e186\"], [0.8, \"#7fbc41\"], [0.9, \"#4d9221\"], [1, \"#276419\"]], \"sequential\": [[0.0, \"#0d0887\"], [0.1111111111111111, \"#46039f\"], [0.2222222222222222, \"#7201a8\"], [0.3333333333333333, \"#9c179e\"], [0.4444444444444444, \"#bd3786\"], [0.5555555555555556, \"#d8576b\"], [0.6666666666666666, \"#ed7953\"], [0.7777777777777778, \"#fb9f3a\"], [0.8888888888888888, \"#fdca26\"], [1.0, \"#f0f921\"]], \"sequentialminus\": [[0.0, \"#0d0887\"], [0.1111111111111111, \"#46039f\"], [0.2222222222222222, \"#7201a8\"], [0.3333333333333333, \"#9c179e\"], [0.4444444444444444, \"#bd3786\"], [0.5555555555555556, \"#d8576b\"], [0.6666666666666666, \"#ed7953\"], [0.7777777777777778, \"#fb9f3a\"], [0.8888888888888888, \"#fdca26\"], [1.0, \"#f0f921\"]]}, \"colorway\": [\"#636efa\", \"#EF553B\", \"#00cc96\", \"#ab63fa\", \"#FFA15A\", \"#19d3f3\", \"#FF6692\", \"#B6E880\", \"#FF97FF\", \"#FECB52\"], \"font\": {\"color\": \"#2a3f5f\"}, \"geo\": {\"bgcolor\": \"white\", \"lakecolor\": \"white\", \"landcolor\": \"#E5ECF6\", \"showlakes\": true, \"showland\": true, \"subunitcolor\": \"white\"}, \"hoverlabel\": {\"align\": \"left\"}, \"hovermode\": \"closest\", \"mapbox\": {\"style\": \"light\"}, \"paper_bgcolor\": \"white\", \"plot_bgcolor\": \"#E5ECF6\", \"polar\": {\"angularaxis\": {\"gridcolor\": \"white\", \"linecolor\": \"white\", \"ticks\": \"\"}, \"bgcolor\": \"#E5ECF6\", \"radialaxis\": {\"gridcolor\": \"white\", \"linecolor\": \"white\", \"ticks\": \"\"}}, \"scene\": {\"xaxis\": {\"backgroundcolor\": \"#E5ECF6\", \"gridcolor\": \"white\", \"gridwidth\": 2, \"linecolor\": \"white\", \"showbackground\": true, \"ticks\": \"\", \"zerolinecolor\": \"white\"}, \"yaxis\": {\"backgroundcolor\": \"#E5ECF6\", \"gridcolor\": \"white\", \"gridwidth\": 2, \"linecolor\": \"white\", \"showbackground\": true, \"ticks\": \"\", \"zerolinecolor\": \"white\"}, \"zaxis\": {\"backgroundcolor\": \"#E5ECF6\", \"gridcolor\": \"white\", \"gridwidth\": 2, \"linecolor\": \"white\", \"showbackground\": true, \"ticks\": \"\", \"zerolinecolor\": \"white\"}}, \"shapedefaults\": {\"line\": {\"color\": \"#2a3f5f\"}}, \"ternary\": {\"aaxis\": {\"gridcolor\": \"white\", \"linecolor\": \"white\", \"ticks\": \"\"}, \"baxis\": {\"gridcolor\": \"white\", \"linecolor\": \"white\", \"ticks\": \"\"}, \"bgcolor\": \"#E5ECF6\", \"caxis\": {\"gridcolor\": \"white\", \"linecolor\": \"white\", \"ticks\": \"\"}}, \"title\": {\"x\": 0.05}, \"xaxis\": {\"automargin\": true, \"gridcolor\": \"white\", \"linecolor\": \"white\", \"ticks\": \"\", \"title\": {\"standoff\": 15}, \"zerolinecolor\": \"white\", \"zerolinewidth\": 2}, \"yaxis\": {\"automargin\": true, \"gridcolor\": \"white\", \"linecolor\": \"white\", \"ticks\": \"\", \"title\": {\"standoff\": 15}, \"zerolinecolor\": \"white\", \"zerolinewidth\": 2}}}, \"title\": {\"font\": {\"size\": 14}, \"text\": \"<b>Model performance</b><br>tree_clf\"}, \"width\": 450, \"xaxis\": {\"anchor\": \"y\", \"domain\": [0.0, 1.0]}, \"xaxis2\": {\"anchor\": \"y2\", \"domain\": [0.0, 1.0], \"title\": {\"text\": \"false positive rate\"}}, \"xaxis3\": {\"anchor\": \"y3\", \"domain\": [0.0, 1.0], \"range\": [0, 1.05], \"title\": {\"text\": \"recall\"}}, \"yaxis\": {\"anchor\": \"x\", \"domain\": [0.7777777777777778, 1.0]}, \"yaxis2\": {\"anchor\": \"x2\", \"domain\": [0.3888888888888889, 0.6111111111111112], \"title\": {\"text\": \"true positive rate\"}}, \"yaxis3\": {\"anchor\": \"x3\", \"domain\": [0.0, 0.22222222222222224], \"range\": [0, 1.05], \"title\": {\"text\": \"precision\"}}},\n",
       "                        {\"responsive\": true}\n",
       "                    ).then(function(){\n",
       "                            \n",
       "var gd = document.getElementById('833c345f-cf85-4e1e-b456-7a3c9506add0');\n",
       "var x = new MutationObserver(function (mutations, observer) {{\n",
       "        var display = window.getComputedStyle(gd).display;\n",
       "        if (!display || display === 'none') {{\n",
       "            console.log([gd, 'removed!']);\n",
       "            Plotly.purge(gd);\n",
       "            observer.disconnect();\n",
       "        }}\n",
       "}});\n",
       "\n",
       "// Listen for the removal of the full notebook cells\n",
       "var notebookContainer = gd.closest('#notebook-container');\n",
       "if (notebookContainer) {{\n",
       "    x.observe(notebookContainer, {childList: true});\n",
       "}}\n",
       "\n",
       "// Listen for the clearing of the current output cell\n",
       "var outputEl = gd.closest('.output');\n",
       "if (outputEl) {{\n",
       "    x.observe(outputEl, {childList: true});\n",
       "}}\n",
       "\n",
       "                        })\n",
       "                };\n",
       "                });\n",
       "            </script>\n",
       "        </div>"
      ]
     },
     "metadata": {},
     "output_type": "display_data"
    }
   ],
   "source": [
    "y_pred = tree_clf.predict(test)\n",
    "y_score = tree_clf.predict_proba(test)[:,1]\n",
    "\n",
    "model_performance_plot('tree_clf')"
   ]
  },
  {
   "cell_type": "markdown",
   "metadata": {},
   "source": [
    "### From the feature importance graph of gbm and decision tree graph, it can be observed that Overtime is the most important feature in determining if an employee will leave or not. Years at company and monthly income are also among top features."
   ]
  },
  {
   "cell_type": "code",
   "execution_count": null,
   "metadata": {},
   "outputs": [],
   "source": []
  }
 ],
 "metadata": {
  "kernelspec": {
   "display_name": "final_bana200",
   "language": "python",
   "name": "final_bana200"
  },
  "language_info": {
   "codemirror_mode": {
    "name": "ipython",
    "version": 3
   },
   "file_extension": ".py",
   "mimetype": "text/x-python",
   "name": "python",
   "nbconvert_exporter": "python",
   "pygments_lexer": "ipython3",
   "version": "3.7.4"
  }
 },
 "nbformat": 4,
 "nbformat_minor": 2
}
